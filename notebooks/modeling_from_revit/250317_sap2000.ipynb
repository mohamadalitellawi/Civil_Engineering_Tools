{
 "cells": [
  {
   "cell_type": "code",
   "execution_count": 115,
   "metadata": {},
   "outputs": [
    {
     "data": {
      "text/plain": [
       "<SAP2000v1.cOAPI object at 0x000001DA9F8DBA40>"
      ]
     },
     "metadata": {},
     "output_type": "display_data"
    },
    {
     "data": {
      "text/plain": [
       "<SAP2000v1.cSapModel object at 0x000001DA9F8D9E40>"
      ]
     },
     "metadata": {},
     "output_type": "display_data"
    },
    {
     "data": {
      "text/plain": [
       "0"
      ]
     },
     "execution_count": 115,
     "metadata": {},
     "output_type": "execute_result"
    }
   ],
   "source": [
    "import clr\n",
    "clr.AddReference(\"System.Runtime.InteropServices\")\n",
    "from System.Runtime.InteropServices import Marshal\n",
    "\n",
    "#set the following path to the installed SAP2000 program directory\n",
    "clr.AddReference(R'C:\\Program Files\\Computers and Structures\\SAP2000 26\\SAP2000v1.dll')\n",
    "import SAP2000v1 as sap\n",
    "\n",
    "#create API helper object\n",
    "#helper = etabs.cHelper(etabs.Helper())\n",
    "helper = sap.cHelper(sap.Helper())\n",
    "\n",
    "try:\n",
    "    #myETABSObject = etabs.cOAPI(helper.GetObject(\"CSI.ETABS.API.ETABSObject\"))\n",
    "    mySapObject = sap.cOAPI(helper.GetObject(\"CSI.SAP2000.API.SapObject\"))\n",
    "except:\n",
    "    error_msg = \"No running instance of the program found or failed to attach.\"\n",
    "    print(error_msg)\n",
    "\n",
    "\n",
    "#create SapModel object\n",
    "SapModel = sap.cSapModel(mySapObject.SapModel)\n",
    "\n",
    "N_mm_C = sap.eUnits.N_mm_C\n",
    "kN_m_C = sap.eUnits.kN_m_C\n",
    "\n",
    "display(mySapObject)\n",
    "display(SapModel)\n",
    "\n",
    "ret = SapModel.SetPresentUnits(N_mm_C)\n",
    "ret"
   ]
  },
  {
   "cell_type": "code",
   "execution_count": 116,
   "metadata": {},
   "outputs": [],
   "source": [
    "def get_selected_area(SapModel):\n",
    "    GetSelected = {\n",
    "        'NumberItems' : 0, \n",
    "        'ObjectType' : [], \n",
    "        'ObjectName' : [],\n",
    "    }\n",
    "\n",
    "    ret, NumberItems, ObjectType, ObjectName = SapModel.SelectObj.GetSelected(**GetSelected)\n",
    "\n",
    "    ObjectType = list(ObjectType)\n",
    "    ObjectName = list(ObjectName)\n",
    "    selected_area = [obj_name for obj_type, obj_name in zip(ObjectType, ObjectName) if obj_type == 5]\n",
    "    return selected_area\n",
    "get_selected_area(SapModel)\n",
    "\n",
    "def get_area_points(SapModel, area_name):\n",
    "    GetPoints = {\n",
    "        'Name' : area_name,\n",
    "        'NumberPoints' : 0,\n",
    "        'Point' : [],\n",
    "    }\n",
    "    ret, NumberPoints, Point = SapModel.AreaObj.GetPoints(**GetPoints)\n",
    "    points = list(Point)\n",
    "    return (area_name, points)\n",
    "\n",
    "\n",
    "def set_area_local_axis(SapModel, area_point_tuple):\n",
    "    area_name, points = area_point_tuple\n",
    "    SetLocalAxesAdvanced = {\n",
    "        'Name': area_name,\n",
    "        'Active': True,\n",
    "        'Plane2' : 31,\n",
    "        'PlVectOpt' : 2,\n",
    "        'PlCSys' : 'Global',\n",
    "        'PlDir' : [],\n",
    "        'PlPt' : [points[0], points[1]],\n",
    "        'PlVect' : []\n",
    "    }\n",
    "    ret = SapModel.AreaObj.SetLocalAxesAdvanced(**SetLocalAxesAdvanced)\n",
    "    return ret[0]\n",
    "\n",
    "area_points = [get_area_points(SapModel, area) for area in get_selected_area(SapModel)]\n",
    "\n",
    "_ = [set_area_local_axis(SapModel,area_point_tuple) for area_point_tuple in area_points] \n"
   ]
  },
  {
   "cell_type": "code",
   "execution_count": 117,
   "metadata": {},
   "outputs": [],
   "source": [
    "#refresh view\n",
    "ret = SapModel.View.RefreshView(0, False)\n",
    "\n",
    "SapModel = None\n",
    "\n",
    "mySapObject = None\n"
   ]
  }
 ],
 "metadata": {
  "kernelspec": {
   "display_name": "pfse",
   "language": "python",
   "name": "python3"
  },
  "language_info": {
   "codemirror_mode": {
    "name": "ipython",
    "version": 3
   },
   "file_extension": ".py",
   "mimetype": "text/x-python",
   "name": "python",
   "nbconvert_exporter": "python",
   "pygments_lexer": "ipython3",
   "version": "3.13.2"
  }
 },
 "nbformat": 4,
 "nbformat_minor": 2
}
