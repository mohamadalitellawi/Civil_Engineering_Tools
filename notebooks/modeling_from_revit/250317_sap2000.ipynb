{
 "cells": [
  {
   "cell_type": "code",
   "execution_count": 2,
   "metadata": {},
   "outputs": [
    {
     "data": {
      "text/plain": [
       "<SAP2000v1.cOAPI object at 0x00000248AAEE1700>"
      ]
     },
     "metadata": {},
     "output_type": "display_data"
    },
    {
     "data": {
      "text/plain": [
       "<SAP2000v1.cSapModel object at 0x00000248AAEE1780>"
      ]
     },
     "metadata": {},
     "output_type": "display_data"
    },
    {
     "data": {
      "text/plain": [
       "0"
      ]
     },
     "execution_count": 2,
     "metadata": {},
     "output_type": "execute_result"
    }
   ],
   "source": [
    "import clr\n",
    "clr.AddReference(\"System.Runtime.InteropServices\")\n",
    "from System.Runtime.InteropServices import Marshal\n",
    "\n",
    "#set the following path to the installed SAP2000 program directory\n",
    "clr.AddReference(R'C:\\Program Files\\Computers and Structures\\SAP2000 26\\SAP2000v1.dll')\n",
    "import SAP2000v1 as sap\n",
    "\n",
    "#create API helper object\n",
    "#helper = etabs.cHelper(etabs.Helper())\n",
    "helper = sap.cHelper(sap.Helper())\n",
    "\n",
    "try:\n",
    "    #myETABSObject = etabs.cOAPI(helper.GetObject(\"CSI.ETABS.API.ETABSObject\"))\n",
    "    mySapObject = sap.cOAPI(helper.GetObject(\"CSI.SAP2000.API.SapObject\"))\n",
    "except:\n",
    "    error_msg = \"No running instance of the program found or failed to attach.\"\n",
    "    print(error_msg)\n",
    "\n",
    "\n",
    "#create SapModel object\n",
    "SapModel = sap.cSapModel(mySapObject.SapModel)\n",
    "\n",
    "N_mm_C = sap.eUnits.N_mm_C\n",
    "kN_m_C = sap.eUnits.kN_m_C\n",
    "\n",
    "display(mySapObject)\n",
    "display(SapModel)\n",
    "\n",
    "ret = SapModel.SetPresentUnits(N_mm_C)\n",
    "ret"
   ]
  },
  {
   "cell_type": "code",
   "execution_count": 1,
   "metadata": {},
   "outputs": [],
   "source": [
    "SapModel = None\n",
    "\n",
    "mySapObject = None\n"
   ]
  }
 ],
 "metadata": {
  "kernelspec": {
   "display_name": "pfse",
   "language": "python",
   "name": "python3"
  },
  "language_info": {
   "codemirror_mode": {
    "name": "ipython",
    "version": 3
   },
   "file_extension": ".py",
   "mimetype": "text/x-python",
   "name": "python",
   "nbconvert_exporter": "python",
   "pygments_lexer": "ipython3",
   "version": "3.13.2"
  }
 },
 "nbformat": 4,
 "nbformat_minor": 2
}
