{
 "cells": [
  {
   "cell_type": "markdown",
   "metadata": {},
   "source": [
    "### python -m pip install pythonnet"
   ]
  },
  {
   "cell_type": "code",
   "execution_count": 49,
   "metadata": {},
   "outputs": [],
   "source": [
    "from pathlib import Path\n",
    "from enum import Enum\n",
    "import json"
   ]
  },
  {
   "cell_type": "code",
   "execution_count": 50,
   "metadata": {},
   "outputs": [],
   "source": [
    "data_folder = Path('./test_data/')\n",
    "material_data = data_folder / 'material_data.json'\n",
    "column_data = data_folder / 'column_data.json'\n",
    "cross_section_data = data_folder / 'cross_section_data.json'\n",
    "analytical_levels = data_folder / 'analytical_levels.json'\n"
   ]
  },
  {
   "cell_type": "markdown",
   "metadata": {},
   "source": [
    "#start ETABS application.\n",
    "myETABSObject.ApplicationStart()\n",
    "\n",
    "#close the program.\n",
    "ret = myETABSObject.ApplicationExit(False)\n"
   ]
  },
  {
   "cell_type": "code",
   "execution_count": 51,
   "metadata": {},
   "outputs": [
    {
     "data": {
      "text/plain": [
       "<ETABSv1.cOAPI object at 0x0000016B7FF1BE40>"
      ]
     },
     "metadata": {},
     "output_type": "display_data"
    },
    {
     "data": {
      "text/plain": [
       "<ETABSv1.cSapModel object at 0x0000016B019EA340>"
      ]
     },
     "metadata": {},
     "output_type": "display_data"
    }
   ],
   "source": [
    "import clr\n",
    "clr.AddReference(\"System.Runtime.InteropServices\")\n",
    "from System.Runtime.InteropServices import Marshal\n",
    "\n",
    "#set the following path to the installed ETABS program directory\n",
    "clr.AddReference(R'C:\\Program Files\\Computers and Structures\\ETABS 22\\ETABSv1.dll')\n",
    "import ETABSv1 as etabs\n",
    "\n",
    "#create API helper object\n",
    "helper = etabs.cHelper(etabs.Helper())\n",
    "\n",
    "try:\n",
    "    myETABSObject = etabs.cOAPI(helper.GetObject(\"CSI.ETABS.API.ETABSObject\"))\n",
    "except:\n",
    "    print(\"No running instance of the program found or failed to attach.\")\n",
    "\n",
    "#create SapModel object\n",
    "SapModel = etabs.cSapModel(myETABSObject.SapModel)\n",
    "\n",
    "N_mm_C = etabs.eUnits.N_mm_C\n",
    "kN_m_C = etabs.eUnits.kN_m_C\n",
    "\n",
    "display(myETABSObject)\n",
    "display(SapModel)\n"
   ]
  },
  {
   "cell_type": "code",
   "execution_count": 52,
   "metadata": {},
   "outputs": [
    {
     "data": {
      "text/plain": [
       "[0, 27.57903155806312, False, 0.0, 2, 4, 0.00221914, 0.005, -0.1, 0.0, 0.0]"
      ]
     },
     "metadata": {},
     "output_type": "display_data"
    },
    {
     "data": {
      "text/plain": [
       "[1, 0.0, False, 0.0, 0, 0, 0.0, 0.0, 0.0, 0.0, 0.0]"
      ]
     },
     "metadata": {},
     "output_type": "display_data"
    },
    {
     "data": {
      "text/plain": [
       "[1, 0.0, False, 0.0, 0, 0, 0.0, 0.0, 0.0, 0.0, 0.0]"
      ]
     },
     "metadata": {},
     "output_type": "display_data"
    },
    {
     "data": {
      "text/plain": [
       "[1, 0.0, False, 0.0, 0, 0, 0.0, 0.0, 0.0, 0.0, 0.0]"
      ]
     },
     "metadata": {},
     "output_type": "display_data"
    },
    {
     "data": {
      "text/plain": [
       "[1, 0.0, False, 0.0, 0, 0, 0.0, 0.0, 0.0, 0.0, 0.0]"
      ]
     },
     "metadata": {},
     "output_type": "display_data"
    },
    {
     "data": {
      "text/plain": [
       "[1, 0.0, False, 0.0, 0, 0, 0.0, 0.0, 0.0, 0.0, 0.0]"
      ]
     },
     "metadata": {},
     "output_type": "display_data"
    },
    {
     "data": {
      "text/plain": [
       "0"
      ]
     },
     "execution_count": 52,
     "metadata": {},
     "output_type": "execute_result"
    }
   ],
   "source": [
    "ret = SapModel.SetPresentUnits(N_mm_C)\n",
    "def get_concrete_material(SapModel, name:str):\n",
    "    fc, IsLightweight, fcsfactor, SSType, SSHysType, StrainAtfc, StrainUltimate, FinalSlope, FrictionAngle, DilatationalAngle = 0,False,0,0,0,0,0,0,0,0\n",
    "    ret = SapModel.PropMaterial.GetOConcrete_1(name, fc, IsLightweight, fcsfactor, SSType, SSHysType, StrainAtfc, StrainUltimate, FinalSlope, FrictionAngle, DilatationalAngle)\n",
    "    return list(ret)\n",
    "display(get_concrete_material(SapModel,'4000Psi'))\n",
    "display(get_concrete_material(SapModel,'5000Psi'))\n",
    "display(get_concrete_material(SapModel,'6000Psi'))\n",
    "display(get_concrete_material(SapModel,'C30'))\n",
    "display(get_concrete_material(SapModel,'C40'))\n",
    "display(get_concrete_material(SapModel,'C50'))\n",
    "\n",
    "\n",
    "def get_etabs_concrete_material(name:str):\n",
    "    return {\n",
    "        'Name':name,\n",
    "        'Fc':float(name[2:]),\n",
    "        'IsLightweight':False,\n",
    "        'FcsFactor':0.0,\n",
    "        'SSType':2,\n",
    "        'SSHysType':4,\n",
    "        'StrainAtFc':0.0022,\n",
    "        'StrainUltimate':0.005,\n",
    "        'FinalSlope':-0.1,\n",
    "        'FrictionAngle': 0.0,\n",
    "        'DilatationalAngle' : 0.0,\n",
    "        'Temp' : 0.0\n",
    "    }\n",
    "\n",
    "#ret = SapModel.PropMaterial.SetOConcrete_1(*list(get_etabs_concrete_material('FC35').values()))\n",
    "ret = SapModel.PropMaterial.SetOConcrete_1(**get_etabs_concrete_material('FC40'))\n",
    "ret\n",
    "\n"
   ]
  },
  {
   "cell_type": "code",
   "execution_count": 46,
   "metadata": {},
   "outputs": [
    {
     "data": {
      "text/plain": [
       "1"
      ]
     },
     "execution_count": 46,
     "metadata": {},
     "output_type": "execute_result"
    }
   ],
   "source": [
    "def get_etabs_steel_material(name:str):\n",
    "    if name.upper() == 'S235':\n",
    "        fy,fu,efy,efu = 235.0, 360.0, 258.5, 396.0\n",
    "    elif name.upper() == 'S275':\n",
    "        fy,fu,efy,efu = 275.0, 430.0, 302.5, 473.0\n",
    "    elif name.upper() == 'S355':\n",
    "        fy,fu,efy,efu = 355.0, 510.0, 390.5, 561.0\n",
    "    elif name.upper() == 'S450':\n",
    "        fy,fu,efy,efu = 440.0, 550.0, 484.0, 605.0\n",
    "    elif name.upper() == 'A992FY50':\n",
    "        fy,fu,efy,efu = 344.738, 448.159, 379.212, 492.975\n",
    "    elif name.upper() == 'A572GR50':\n",
    "        fy,fu,efy,efu = 344.738, 448.159, 379.212, 492.975\n",
    "    elif name.upper() == 'A913GR50':\n",
    "        fy,fu,efy,efu = 344.738, 413.685, 379.212, 455.054\n",
    "    else:\n",
    "        fy,fu,efy,efu = 248.211, 399.896, 372.317, 439.885\n",
    "\n",
    "    return {\n",
    "    'Name' : name,\n",
    "    'Fy' : fy,\n",
    "    'Fu' : fu,\n",
    "    'EFy' : efy,\n",
    "    'EFu' : efu,\n",
    "    'SSType' : 1,\n",
    "    'SSHysType' : 1,\n",
    "    'StrainAtHardening' : 0.015,\n",
    "    'StrainAtMaxStress' : 0.11,\n",
    "    'StrainAtRupture' : 0.17,\n",
    "    'FinalSlope' : -0.1,\n",
    "    'Temp' : 0\n",
    "    }\n",
    "\n",
    "ret = SapModel.PropMaterial.SetOSteel_1(**get_etabs_steel_material('A913GR50'))\n",
    "ret\n"
   ]
  },
  {
   "cell_type": "code",
   "execution_count": 47,
   "metadata": {},
   "outputs": [
    {
     "data": {
      "text/plain": [
       "[1, 0.0, 0.0, 0.0, 0.0, 0, 0, 0.0, 0.0, 0.0, 0.0]"
      ]
     },
     "metadata": {},
     "output_type": "display_data"
    },
    {
     "data": {
      "text/plain": [
       "[0,\n",
       " 344.737894475789,\n",
       " 448.15926281852575,\n",
       " 379.2116839233679,\n",
       " 492.9751891003783,\n",
       " 1,\n",
       " 1,\n",
       " 0.015,\n",
       " 0.11,\n",
       " 0.17,\n",
       " -0.1]"
      ]
     },
     "metadata": {},
     "output_type": "display_data"
    },
    {
     "data": {
      "text/plain": [
       "[1, 0.0, 0.0, 0.0, 0.0, 0, 0, 0.0, 0.0, 0.0, 0.0]"
      ]
     },
     "metadata": {},
     "output_type": "display_data"
    },
    {
     "data": {
      "text/plain": [
       "[1, 0.0, 0.0, 0.0, 0.0, 0, 0, 0.0, 0.0, 0.0, 0.0]"
      ]
     },
     "metadata": {},
     "output_type": "display_data"
    },
    {
     "data": {
      "text/plain": [
       "[0, 275.0, 430.0, 302.5, 473.0, 1, 1, 0.015, 0.11, 0.17, -0.1]"
      ]
     },
     "metadata": {},
     "output_type": "display_data"
    },
    {
     "data": {
      "text/plain": [
       "[0, 355.0, 510.0, 390.5, 561.0, 1, 1, 0.015, 0.11, 0.17, -0.1]"
      ]
     },
     "metadata": {},
     "output_type": "display_data"
    },
    {
     "data": {
      "text/plain": [
       "[1, 0.0, 0.0, 0.0, 0.0, 0, 0, 0.0, 0.0, 0.0, 0.0]"
      ]
     },
     "metadata": {},
     "output_type": "display_data"
    }
   ],
   "source": [
    "ret = SapModel.SetPresentUnits(N_mm_C)\n",
    "def get_steel_material(SapModel, name:str):\n",
    "    Fy, Fu, eFy, eFu, SSType, SSHysType, StrainAtHardening, StrainAtMaxStress, StrainAtRupture, FinalSlope = 0,0,0,0,0,0,0,0,0,0\n",
    "    ret = SapModel.PropMaterial.GetOSteel_1(name, Fy, Fu, eFy, eFu, SSType, SSHysType, StrainAtHardening, StrainAtMaxStress, StrainAtRupture, FinalSlope)\n",
    "    return list(ret)\n",
    "display(get_steel_material(SapModel, 'A913Gr50'))\n",
    "display(get_steel_material(SapModel, 'A992Fy50'))\n",
    "display(get_steel_material(SapModel, 'A572Gr50'))\n",
    "display(get_steel_material(SapModel, 'S235'))\n",
    "display(get_steel_material(SapModel, 'S275'))\n",
    "display(get_steel_material(SapModel, 'S355'))\n",
    "display(get_steel_material(SapModel, 'S450'))\n"
   ]
  },
  {
   "cell_type": "code",
   "execution_count": null,
   "metadata": {},
   "outputs": [],
   "source": []
  },
  {
   "cell_type": "code",
   "execution_count": 48,
   "metadata": {},
   "outputs": [],
   "source": [
    "SapModel = None\n",
    "myETABSObject = None"
   ]
  }
 ],
 "metadata": {
  "kernelspec": {
   "display_name": "pfse",
   "language": "python",
   "name": "python3"
  },
  "language_info": {
   "codemirror_mode": {
    "name": "ipython",
    "version": 3
   },
   "file_extension": ".py",
   "mimetype": "text/x-python",
   "name": "python",
   "nbconvert_exporter": "python",
   "pygments_lexer": "ipython3",
   "version": "3.12.8"
  }
 },
 "nbformat": 4,
 "nbformat_minor": 2
}
