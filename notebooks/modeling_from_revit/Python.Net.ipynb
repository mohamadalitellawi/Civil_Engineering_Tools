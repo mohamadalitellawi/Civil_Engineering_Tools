{
 "cells": [
  {
   "cell_type": "markdown",
   "id": "531bcfad-024e-4114-a1de-3127668b3b76",
   "metadata": {},
   "source": [
    "# Python.Net Interface\n",
    "\n",
    "The .NET interface is the most modern way to connect to the CSi API and is the method I recommend. If you want to connect to a remote instance of SAP2000 over a network, it is the only interface that offers this feature. It has additional benefits such as fully populated Python function signatures that you can access in JupyterLab by using `.[Tab]` and `[Shift]-[Tab]`. This means that you do not constantly need to have the API documentation open in a separate window.\n",
    "\n",
    "It is slightly fussier to user the Python.NET interface but I think that the benefits are certainly worth it!"
   ]
  },
  {
   "cell_type": "markdown",
   "id": "360b8e38-d1ca-47d0-9427-e35ad5deff12",
   "metadata": {},
   "source": [
    "## Connecting to SAP2000 using Python.NET\n",
    "\n",
    "The [CSi PythonNET Example code](CSI_PythonNET_Example.py) shows several ways of connecting to the software. I have broken apart the example here and shown each way as an independent code example. You can basically copy/paste any one of these into your functions and use this as a starting point.\n",
    "\n",
    "* Regardless of which software you are using, the DLL file should still be called \"SAP2000v2.dll\"\n",
    "* You don't have to use the name `sap_namespace` like I use. I am simply calling it that so it is clear to you that it is the \"SAP top-level namespace\". You could call it simply `sap`, for example.\n",
    "\n",
    "> In the example docs, they do this: `from SAP2000v1 import *`. While this \"works\", I would strongly recommend that you DO NOT DO THIS. Why? Because this will pull ALL of the function names in the top-level SAP namespace into the top-level namespace of your Jupyter notebook. While this may _seem_ convenient, it makes it very difficult to understand where objects come from (did I define it in my notebook or was it imported from the \"star import\"?). It also makes it so you CANNOT use `.[Tab]` to discover the names of all the functions. The two ways for you to see the function names are as follows:\n",
    "> * Execute `print(globals())` to see the value of ALL variables in your namespace\n",
    "> * Look at the Variable Inspector in the debugger\n",
    "> As you will see (if you do this) there are a LOT of variable names now filling up your top-level namespace. The process of using \"star imports\" has the effect of \"polluting your namespace\" with all sorts of names that you probably are not using (and now _cannot_ use because they are already defined as variable names; if you use the same name after the fact, you over-write the data contained in the variable after the import).\n",
    "> Doing \"star imports\" is all kinds of bad news. I do not even teach it in the course because it is such bad practice. Nobody encourages its use. I recommend you do what I do and start rolling your eyes any time you read code that uses \"star imports\" (lol).\n"
   ]
  },
  {
   "cell_type": "markdown",
   "id": "66e77f2b-0a9c-4416-a36d-3be7ac55a8df",
   "metadata": {},
   "source": [
    "## Local Connections"
   ]
  },
  {
   "cell_type": "markdown",
   "id": "fc03bc6b-f066-4ee9-afa2-20b844af9f3f",
   "metadata": {},
   "source": [
    "### Connecting to a running instance\n",
    "\n",
    "```python\n",
    "import clr # This is the pythonnet import\n",
    "\n",
    "clr.AddReference(\"System.Runtime.InteropServices\")\n",
    "from System.Runtime.InteropServices import Marshal\n",
    "\n",
    "clr.AddReference(r\"C:\\Program Files\\Computers and Structures\\SAP2000 25\\SAP2000v1.dll\") # Modify path to suit your software/version\n",
    "import SAP2000v1 as sap_namespace\n",
    "\n",
    "helper = sap_namespace.cHelper(sap_namespace.Helper())\n",
    "sap_object = helper.GetObject(\"CSI.SAP2000.API.SAPObject\")\n",
    "```\n",
    "\n",
    "### Connect and launch a new instance based on a specific EXE\n",
    "\n",
    "```python\n",
    "import clr # This is the pythonnet import\n",
    "\n",
    "clr.AddReference(\"System.Runtime.InteropServices\")\n",
    "from System.Runtime.InteropServices import Marshal\n",
    "\n",
    "clr.AddReference(r\"C:\\Program Files\\Computers and Structures\\SAP2000 25\\SAP2000v1.dll\") # Modify path to suit your software/version\n",
    "import SAP2000v1 as sap_namespace\n",
    "\n",
    "program_path = r\"C:\\Program Files\\Computers and Structures\\SAP2000 25\\SAP2000.exe\"\n",
    "helper = sap_namespace.cHelper(sap_namespace.Helper())\n",
    "sap_object = helper.CreateObject(program_path)\n",
    "sap_object.ApplicationStart() # Actually launches the app\n",
    "```\n",
    "\n",
    "### Connect and launch a new instance based on the latest installed version\n",
    "```python\n",
    "import clr # This is the pythonnet import\n",
    "\n",
    "clr.AddReference(\"System.Runtime.InteropServices\")\n",
    "from System.Runtime.InteropServices import Marshal\n",
    "\n",
    "clr.AddReference(r\"C:\\Program Files\\Computers and Structures\\SAP2000 25\\SAP2000v1.dll\") # Modify path to suit your software/version\n",
    "import SAP2000v1 as sap_namespace\n",
    "\n",
    "helper = sap_namespace.cHelper(sap_namespace.Helper())\n",
    "sap_object = helper.CreateObjectProgID(\"CSI.SAP2000.API.SAPObject\")\n",
    "sap_object.ApplicationStart() # Actually launches the app\n",
    "```"
   ]
  },
  {
   "cell_type": "markdown",
   "id": "7ade71a7-a744-40f8-9e71-332498bb2a5b",
   "metadata": {},
   "source": [
    "## Remote Connections"
   ]
  },
  {
   "cell_type": "markdown",
   "id": "8e02e786-2c82-46b6-b8a9-0890a3a32fff",
   "metadata": {},
   "source": [
    "### Connecting to a running instance\n",
    "\n",
    "```python\n",
    "import clr # This is the pythonnet import\n",
    "\n",
    "clr.AddReference(\"System.Runtime.InteropServices\")\n",
    "from System.Runtime.InteropServices import Marshal\n",
    "\n",
    "clr.AddReference(r\"C:\\Program Files\\Computers and Structures\\SAP2000 25\\SAP2000v1.dll\") # Modify path to suit your software/version\n",
    "import SAP2000v1 as sap_namespace\n",
    "\n",
    "helper = sap_namespace.cHelper(sap_namespace.Helper())\n",
    "\n",
    "remote_host = \"ComputerOnNetwork-001\"\n",
    "sap_object = helper.GetObjectHost(remote_host, \"CSI.SAP2000.API.SAPObject\")\n",
    "```\n",
    "\n",
    "### Connect and launch a new instance based on a specific EXE\n",
    "\n",
    "```python\n",
    "import clr # This is the pythonnet import\n",
    "\n",
    "clr.AddReference(\"System.Runtime.InteropServices\")\n",
    "from System.Runtime.InteropServices import Marshal\n",
    "\n",
    "clr.AddReference(r\"C:\\Program Files\\Computers and Structures\\SAP2000 25\\SAP2000v1.dll\") # Modify path to suit your software/version\n",
    "import SAP2000v1 as sap_namespace\n",
    "\n",
    "program_path = r\"C:\\Program Files\\Computers and Structures\\SAP2000 25\\SAP2000.exe\"\n",
    "helper = sap_namespace.cHelper(sap_namespace.Helper())\n",
    "\n",
    "remote_host = \"ComputerOnNetwork-001\"\n",
    "sap_object = helper.CreateObjectHost(remote_host, program_path)\n",
    "sap_object.ApplicationStart() # Actually launches the app\n",
    "```\n",
    "\n",
    "### Connect and launch a new instance based on the latest installed version\n",
    "```python\n",
    "import clr # This is the pythonnet import\n",
    "\n",
    "clr.AddReference(\"System.Runtime.InteropServices\")\n",
    "from System.Runtime.InteropServices import Marshal\n",
    "\n",
    "clr.AddReference(r\"C:\\Program Files\\Computers and Structures\\SAP2000 25\\SAP2000v1.dll\") # Modify path to suit your software/version\n",
    "import SAP2000v1 as sap_namespace\n",
    "\n",
    "helper = sap_namespace.cHelper(sap_namespace.Helper())\n",
    "\n",
    "remote_host = \"ComputerOnNetwork-001\"\n",
    "sap_object = helper.CreateObjectProgIDHost(remote_host, \"CSI.SAP2000.API.SAPObject\")\n",
    "sap_object.ApplicationStart() # Actually launches the app\n",
    "```"
   ]
  }
 ],
 "metadata": {
  "kernelspec": {
   "display_name": "pfse",
   "language": "python",
   "name": "python3"
  },
  "language_info": {
   "codemirror_mode": {
    "name": "ipython",
    "version": 3
   },
   "file_extension": ".py",
   "mimetype": "text/x-python",
   "name": "python",
   "nbconvert_exporter": "python",
   "pygments_lexer": "ipython3",
   "version": "3.12.8"
  }
 },
 "nbformat": 4,
 "nbformat_minor": 5
}
