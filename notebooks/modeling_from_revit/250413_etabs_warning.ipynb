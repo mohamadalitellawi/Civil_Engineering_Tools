{
 "cells": [
  {
   "cell_type": "code",
   "execution_count": 1,
   "id": "a7f4c3d3",
   "metadata": {},
   "outputs": [],
   "source": [
    "from pathlib import Path\n",
    "from collections import defaultdict\n",
    "import mat_ceng as mc\n",
    "import logging\n",
    "import contextlib\n",
    "import pandas as pd"
   ]
  },
  {
   "cell_type": "code",
   "execution_count": 2,
   "id": "03c0315c",
   "metadata": {},
   "outputs": [
    {
     "name": "stdout",
     "output_type": "stream",
     "text": [
      "total warnings: 323, collected warnings: 323\n"
     ]
    }
   ],
   "source": [
    "folder_name = Path('.').resolve()\n",
    "file_name = folder_name / 'sample_warning.txt'\n",
    "\n",
    "result = {\n",
    "    'total_warnings': 0,\n",
    "    'colleced_warnings': 0,\n",
    "    'warnings': defaultdict(list),  # Using defaultdict for automatic list initialization,\n",
    "    'warning_locations': []\n",
    "}\n",
    "\n",
    "unit_conversion = 1000.0\n",
    "\n",
    "# Read file line by line\n",
    "with open(file_name, 'r') as file:\n",
    "    for indx, line in enumerate(file):\n",
    "        if indx == 0:\n",
    "            result['total_warnings'] = int(line.strip().split(', ')[1].split(' ')[0])\n",
    "            continue\n",
    "        row = line.strip()\n",
    "        if 'Check at (' in row:\n",
    "            result['colleced_warnings'] += 1\n",
    "            coord = row.split('Check at (')[1].split(')')[0].split(' ')\n",
    "            coord = [float(x) * unit_conversion for x in coord]\n",
    "            coord = tuple(coord)\n",
    "            result['warning_locations'].append(coord)\n",
    "            result['warnings'][coord].append(row)\n",
    "\n",
    "result['warnings'] = dict(result['warnings'])  # Convert defaultdict to dict\n",
    "result['warning_locations'] = list(set(result['warning_locations']))  # Remove duplicates\n",
    "print(f'total warnings: {result[\"total_warnings\"]}, collected warnings: {result[\"colleced_warnings\"]}')\n"
   ]
  },
  {
   "cell_type": "code",
   "execution_count": 3,
   "id": "9eb13438",
   "metadata": {},
   "outputs": [
    {
     "name": "stderr",
     "output_type": "stream",
     "text": [
      "2025-04-26 14:57:34 - mat_ceng.csi - INFO - Initializing CsiHelper...\n",
      "2025-04-26 14:57:34 - mat_ceng.csi - INFO - SAP2000 library loaded successfully from: C:\\Program Files\\Computers and Structures\\SAP2000 26\\SAP2000v1.dll\n",
      "2025-04-26 14:57:34 - mat_ceng.csi - INFO - ETABS library loaded successfully from: C:\\Program Files\\Computers and Structures\\ETABS 22\\ETABSv1.dll\n",
      "2025-04-26 14:57:34 - mat_ceng.csi - INFO - CsiHelper initialization complete.\n",
      "2025-04-26 14:57:34 - mat_ceng.csi - INFO - Attempting to attach to running ETABS instance...\n",
      "2025-04-26 14:57:34 - mat_ceng.csi - INFO - Successfully attached to running ETABS instance.\n",
      "2025-04-26 14:57:34 - mat_ceng.csi - INFO - Setting initial ETABS units to N_mm_C\n",
      "2025-04-26 14:57:34 - mat_ceng.csi - INFO - ETABS SapModel obtained and connection established.\n"
     ]
    },
    {
     "data": {
      "text/plain": [
       "<ETABSv1.cSapModel object at 0x000001A39A859B40>"
      ]
     },
     "execution_count": 3,
     "metadata": {},
     "output_type": "execute_result"
    }
   ],
   "source": [
    "mc.csi.CsiHelper.initialize()\n",
    "mc.csi.CsiHelper.connect_to_etabs(unit='N_mm_C')\n"
   ]
  },
  {
   "cell_type": "code",
   "execution_count": 4,
   "id": "96faa9dc",
   "metadata": {},
   "outputs": [
    {
     "name": "stderr",
     "output_type": "stream",
     "text": [
      "2025-04-26 14:57:34 - mat_ceng.csi - INFO - Successfully retrieved 2 ETABS groups.\n"
     ]
    },
    {
     "data": {
      "text/plain": [
       "'Warnings'"
      ]
     },
     "execution_count": 4,
     "metadata": {},
     "output_type": "execute_result"
    }
   ],
   "source": [
    "warning_group_name = 'Warnings'\n",
    "mc.csi.create_etabs_group(warning_group_name)"
   ]
  },
  {
   "cell_type": "code",
   "execution_count": 5,
   "id": "e392cb38",
   "metadata": {},
   "outputs": [],
   "source": [
    "#logging.getLogger().setLevel(logging.WARNING)"
   ]
  },
  {
   "cell_type": "code",
   "execution_count": 6,
   "id": "d6e9ada0",
   "metadata": {},
   "outputs": [
    {
     "data": {
      "text/plain": [
       "['339', '340', '341']"
      ]
     },
     "execution_count": 6,
     "metadata": {},
     "output_type": "execute_result"
    }
   ],
   "source": [
    "# Create a context manager to temporarily change log level\n",
    "@contextlib.contextmanager\n",
    "def suppress_logs(log_level=logging.WARNING):\n",
    "    root_logger = logging.getLogger()\n",
    "    original_level = root_logger.level\n",
    "    root_logger.setLevel(log_level)\n",
    "    try:\n",
    "        yield\n",
    "    finally:\n",
    "        root_logger.setLevel(original_level)\n",
    "\n",
    "# Use it with your code\n",
    "with suppress_logs():\n",
    "    etabs_added_areas = [mc.csi.add_etabs_warning_mark(x) for x in result['warning_locations']]\n",
    "etabs_added_areas[:3]"
   ]
  },
  {
   "cell_type": "code",
   "execution_count": 7,
   "id": "1dc7a9bb",
   "metadata": {},
   "outputs": [
    {
     "data": {
      "text/html": [
       "<div>\n",
       "<style scoped>\n",
       "    .dataframe tbody tr th:only-of-type {\n",
       "        vertical-align: middle;\n",
       "    }\n",
       "\n",
       "    .dataframe tbody tr th {\n",
       "        vertical-align: top;\n",
       "    }\n",
       "\n",
       "    .dataframe thead th {\n",
       "        text-align: right;\n",
       "    }\n",
       "</style>\n",
       "<table border=\"1\" class=\"dataframe\">\n",
       "  <thead>\n",
       "    <tr style=\"text-align: right;\">\n",
       "      <th></th>\n",
       "      <th>Coordinates</th>\n",
       "      <th>Warnings</th>\n",
       "    </tr>\n",
       "    <tr>\n",
       "      <th>area_name</th>\n",
       "      <th></th>\n",
       "      <th></th>\n",
       "    </tr>\n",
       "  </thead>\n",
       "  <tbody>\n",
       "    <tr>\n",
       "      <th>339</th>\n",
       "      <td>(35870.0, -33723.0, 16500.0)</td>\n",
       "      <td>UPPER ROOF FLOOR PLAN, B519 &amp; B1657 are overla...</td>\n",
       "    </tr>\n",
       "    <tr>\n",
       "      <th>340</th>\n",
       "      <td>(33700.0, -35846.0, 16500.0)</td>\n",
       "      <td>UPPER ROOF FLOOR PLAN, B521 &amp; B1658 are overla...</td>\n",
       "    </tr>\n",
       "    <tr>\n",
       "      <th>341</th>\n",
       "      <td>(-3799.0, -43703.0, 16500.0)</td>\n",
       "      <td>UPPER ROOF FLOOR PLAN, B79 &amp; B1665 are too clo...</td>\n",
       "    </tr>\n",
       "    <tr>\n",
       "      <th>342</th>\n",
       "      <td>(26744.0, -48040.0, 16500.0)</td>\n",
       "      <td>UPPER ROOF FLOOR PLAN, B208 &amp; B1659 are too cl...</td>\n",
       "    </tr>\n",
       "    <tr>\n",
       "      <th>343</th>\n",
       "      <td>(-21356.0, -45798.0, 16500.0)</td>\n",
       "      <td>UPPER ROOF FLOOR PLAN, B427 &amp; B1666 are too cl...</td>\n",
       "    </tr>\n",
       "  </tbody>\n",
       "</table>\n",
       "</div>"
      ],
      "text/plain": [
       "                             Coordinates  \\\n",
       "area_name                                  \n",
       "339         (35870.0, -33723.0, 16500.0)   \n",
       "340         (33700.0, -35846.0, 16500.0)   \n",
       "341         (-3799.0, -43703.0, 16500.0)   \n",
       "342         (26744.0, -48040.0, 16500.0)   \n",
       "343        (-21356.0, -45798.0, 16500.0)   \n",
       "\n",
       "                                                    Warnings  \n",
       "area_name                                                     \n",
       "339        UPPER ROOF FLOOR PLAN, B519 & B1657 are overla...  \n",
       "340        UPPER ROOF FLOOR PLAN, B521 & B1658 are overla...  \n",
       "341        UPPER ROOF FLOOR PLAN, B79 & B1665 are too clo...  \n",
       "342        UPPER ROOF FLOOR PLAN, B208 & B1659 are too cl...  \n",
       "343        UPPER ROOF FLOOR PLAN, B427 & B1666 are too cl...  "
      ]
     },
     "execution_count": 7,
     "metadata": {},
     "output_type": "execute_result"
    }
   ],
   "source": [
    "df = pd.DataFrame(result['warnings'].items(), columns=['Coordinates', 'Warnings'])\n",
    "df['area_name'] = etabs_added_areas\n",
    "df['Warnings'] = df['Warnings'].apply(lambda x: '\\n'.join(x))\n",
    "df.set_index('area_name', inplace=True)\n",
    "df.to_excel('warnings.xlsx', index=True)\n",
    "df.head(5)"
   ]
  },
  {
   "cell_type": "code",
   "execution_count": 8,
   "id": "50aa14d5",
   "metadata": {},
   "outputs": [
    {
     "name": "stderr",
     "output_type": "stream",
     "text": [
      "2025-04-26 14:57:34 - mat_ceng.csi - INFO - Releasing CSI connection...\n",
      "2025-04-26 14:57:34 - mat_ceng.csi - INFO - CSI connection references have been released.\n"
     ]
    }
   ],
   "source": [
    "mc.csi.CsiHelper.release_connection()"
   ]
  }
 ],
 "metadata": {
  "kernelspec": {
   "display_name": "pfse",
   "language": "python",
   "name": "python3"
  },
  "language_info": {
   "codemirror_mode": {
    "name": "ipython",
    "version": 3
   },
   "file_extension": ".py",
   "mimetype": "text/x-python",
   "name": "python",
   "nbconvert_exporter": "python",
   "pygments_lexer": "ipython3",
   "version": "3.13.2"
  }
 },
 "nbformat": 4,
 "nbformat_minor": 5
}
