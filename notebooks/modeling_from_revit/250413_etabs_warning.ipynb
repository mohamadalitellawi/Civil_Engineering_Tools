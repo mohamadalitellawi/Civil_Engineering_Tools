{
 "cells": [
  {
   "cell_type": "code",
   "execution_count": 1,
   "id": "a7f4c3d3",
   "metadata": {},
   "outputs": [],
   "source": [
    "from pathlib import Path\n",
    "from collections import defaultdict\n",
    "import mat_ceng as mc\n"
   ]
  },
  {
   "cell_type": "code",
   "execution_count": 2,
   "id": "03c0315c",
   "metadata": {},
   "outputs": [
    {
     "name": "stdout",
     "output_type": "stream",
     "text": [
      "total warnings: 43, collected warnings: 43\n"
     ]
    }
   ],
   "source": [
    "folder_name = Path('.').resolve()\n",
    "file_name = folder_name / 'sample_warning.txt'\n",
    "\n",
    "result = {\n",
    "    'total_warnings': 0,\n",
    "    'colleced_warnings': 0,\n",
    "    'warnings': defaultdict(list),  # Using defaultdict for automatic list initialization,\n",
    "    'warning_locations': []\n",
    "}\n",
    "\n",
    "unit_conversion = 1000.0\n",
    "\n",
    "# Read file line by line\n",
    "with open(file_name, 'r') as file:\n",
    "    for indx, line in enumerate(file):\n",
    "        if indx == 0:\n",
    "            result['total_warnings'] = int(line.strip().split(', ')[1].split(' ')[0])\n",
    "            continue\n",
    "        row = line.strip()\n",
    "        if 'Check at (' in row:\n",
    "            result['colleced_warnings'] += 1\n",
    "            coord = row.split('Check at (')[1].split(')')[0].split(' ')\n",
    "            coord = [float(x) * unit_conversion for x in coord]\n",
    "            coord = tuple(coord)\n",
    "            result['warning_locations'].append(coord)\n",
    "            result['warnings'][coord].append(row)\n",
    "\n",
    "result['warnings'] = dict(result['warnings'])  # Convert defaultdict to dict\n",
    "result['warning_locations'] = list(set(result['warning_locations']))  # Remove duplicates\n",
    "print(f'total warnings: {result[\"total_warnings\"]}, collected warnings: {result[\"colleced_warnings\"]}')\n"
   ]
  },
  {
   "cell_type": "code",
   "execution_count": 9,
   "id": "13966a3a",
   "metadata": {},
   "outputs": [],
   "source": [
    "mc.csi.CsiHelper.connect_to_etabs(units= mc.csi.etabs_units['N_mm_C'])\n",
    "mc.csi.CsiHelper.set_etabs_units()\n",
    "mc.csi.CsiHelper.refresh_view()"
   ]
  },
  {
   "cell_type": "code",
   "execution_count": 10,
   "id": "fadd79de",
   "metadata": {},
   "outputs": [
    {
     "data": {
      "text/plain": [
       "['All', 'Warnings']"
      ]
     },
     "execution_count": 10,
     "metadata": {},
     "output_type": "execute_result"
    }
   ],
   "source": [
    "etabs_groups = {\n",
    "    'NumberNames': 0,\n",
    "    'MyName': []\n",
    "}\n",
    "\n",
    "etabs_groups_names = mc.csi.get_etabs_groups()\n",
    "etabs_groups_names\n"
   ]
  },
  {
   "cell_type": "code",
   "execution_count": 11,
   "id": "5c149035",
   "metadata": {},
   "outputs": [],
   "source": [
    "\n",
    "warning_group_name = 'Warnings'\n",
    "\n",
    "if warning_group_name not in etabs_groups_names:\n",
    "    mc.csi.create_etabs_group(warning_group_name)\n"
   ]
  },
  {
   "cell_type": "code",
   "execution_count": 12,
   "id": "b5e3efee",
   "metadata": {},
   "outputs": [
    {
     "data": {
      "text/plain": [
       "['27',\n",
       " '32',\n",
       " '47',\n",
       " '98',\n",
       " '100',\n",
       " '110',\n",
       " '111',\n",
       " '121',\n",
       " '124',\n",
       " '126',\n",
       " '127',\n",
       " '128',\n",
       " '129',\n",
       " '130',\n",
       " '132',\n",
       " '133',\n",
       " '134',\n",
       " '135',\n",
       " '136']"
      ]
     },
     "execution_count": 12,
     "metadata": {},
     "output_type": "execute_result"
    }
   ],
   "source": [
    "\n",
    "etabs_added_areas = [mc.csi.add_area(x,warning_group_name) for x in result['warning_locations']]\n",
    "etabs_added_areas \n"
   ]
  },
  {
   "cell_type": "code",
   "execution_count": 13,
   "id": "1dc7a9bb",
   "metadata": {},
   "outputs": [
    {
     "data": {
      "text/html": [
       "<div>\n",
       "<style scoped>\n",
       "    .dataframe tbody tr th:only-of-type {\n",
       "        vertical-align: middle;\n",
       "    }\n",
       "\n",
       "    .dataframe tbody tr th {\n",
       "        vertical-align: top;\n",
       "    }\n",
       "\n",
       "    .dataframe thead th {\n",
       "        text-align: right;\n",
       "    }\n",
       "</style>\n",
       "<table border=\"1\" class=\"dataframe\">\n",
       "  <thead>\n",
       "    <tr style=\"text-align: right;\">\n",
       "      <th></th>\n",
       "      <th>Coordinates</th>\n",
       "      <th>Warnings</th>\n",
       "    </tr>\n",
       "    <tr>\n",
       "      <th>area_name</th>\n",
       "      <th></th>\n",
       "      <th></th>\n",
       "    </tr>\n",
       "  </thead>\n",
       "  <tbody>\n",
       "    <tr>\n",
       "      <th>27</th>\n",
       "      <td>(1904.0, -61728.0, 16500.0)</td>\n",
       "      <td>UPPER ROOF FLOOR PLAN, B420 &amp; B307 are too clo...</td>\n",
       "    </tr>\n",
       "    <tr>\n",
       "      <th>32</th>\n",
       "      <td>(1953.0, -61730.0, 6900.0)</td>\n",
       "      <td>FIRST FRAMING FLOOR PLAN, B386 &amp; B559 are too ...</td>\n",
       "    </tr>\n",
       "    <tr>\n",
       "      <th>47</th>\n",
       "      <td>(-1780.0, -61641.0, 6900.0)</td>\n",
       "      <td>FIRST FRAMING FLOOR PLAN, F9 &amp; B392 are too cl...</td>\n",
       "    </tr>\n",
       "    <tr>\n",
       "      <th>98</th>\n",
       "      <td>(-2252.0, -61629.0, 6900.0)</td>\n",
       "      <td>FIRST FRAMING FLOOR PLAN, 878 &amp; 888 are too cl...</td>\n",
       "    </tr>\n",
       "    <tr>\n",
       "      <th>100</th>\n",
       "      <td>(-2255.0, -61621.0, 6900.0)</td>\n",
       "      <td>FIRST FRAMING FLOOR PLAN, 888 &amp; B387 are too c...</td>\n",
       "    </tr>\n",
       "  </tbody>\n",
       "</table>\n",
       "</div>"
      ],
      "text/plain": [
       "                           Coordinates  \\\n",
       "area_name                                \n",
       "27         (1904.0, -61728.0, 16500.0)   \n",
       "32          (1953.0, -61730.0, 6900.0)   \n",
       "47         (-1780.0, -61641.0, 6900.0)   \n",
       "98         (-2252.0, -61629.0, 6900.0)   \n",
       "100        (-2255.0, -61621.0, 6900.0)   \n",
       "\n",
       "                                                    Warnings  \n",
       "area_name                                                     \n",
       "27         UPPER ROOF FLOOR PLAN, B420 & B307 are too clo...  \n",
       "32         FIRST FRAMING FLOOR PLAN, B386 & B559 are too ...  \n",
       "47         FIRST FRAMING FLOOR PLAN, F9 & B392 are too cl...  \n",
       "98         FIRST FRAMING FLOOR PLAN, 878 & 888 are too cl...  \n",
       "100        FIRST FRAMING FLOOR PLAN, 888 & B387 are too c...  "
      ]
     },
     "execution_count": 13,
     "metadata": {},
     "output_type": "execute_result"
    }
   ],
   "source": [
    "import pandas as pd\n",
    "\n",
    "df = pd.DataFrame(result['warnings'].items(), columns=['Coordinates', 'Warnings'])\n",
    "df['area_name'] = etabs_added_areas\n",
    "df['Warnings'] = df['Warnings'].apply(lambda x: '\\n'.join(x))\n",
    "df.set_index('area_name', inplace=True)\n",
    "df.to_excel('warnings.xlsx', index=True)\n",
    "df.head(5)"
   ]
  },
  {
   "cell_type": "code",
   "execution_count": 14,
   "id": "50aa14d5",
   "metadata": {},
   "outputs": [],
   "source": [
    "mc.csi.CsiHelper.release_csi_models()"
   ]
  }
 ],
 "metadata": {
  "kernelspec": {
   "display_name": "pfse",
   "language": "python",
   "name": "python3"
  },
  "language_info": {
   "codemirror_mode": {
    "name": "ipython",
    "version": 3
   },
   "file_extension": ".py",
   "mimetype": "text/x-python",
   "name": "python",
   "nbconvert_exporter": "python",
   "pygments_lexer": "ipython3",
   "version": "3.13.2"
  }
 },
 "nbformat": 4,
 "nbformat_minor": 5
}
