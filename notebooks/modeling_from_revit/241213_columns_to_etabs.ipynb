{
 "cells": [
  {
   "cell_type": "markdown",
   "metadata": {},
   "source": [
    "### python -m pip install pythonnet"
   ]
  },
  {
   "cell_type": "code",
   "execution_count": 15,
   "metadata": {},
   "outputs": [],
   "source": [
    "from pathlib import Path\n",
    "from enum import Enum\n",
    "import json"
   ]
  },
  {
   "cell_type": "code",
   "execution_count": 16,
   "metadata": {},
   "outputs": [],
   "source": [
    "data_folder = Path('./test_data/')\n",
    "material_data = data_folder / 'material_data.json'\n",
    "column_data = data_folder / 'column_data.json'\n",
    "cross_section_data = data_folder / 'cross_section_data.json'\n",
    "analytical_levels = data_folder / 'analytical_levels.json'\n"
   ]
  },
  {
   "cell_type": "markdown",
   "metadata": {},
   "source": [
    "#start ETABS application.\n",
    "myETABSObject.ApplicationStart()\n",
    "\n",
    "#close the program.\n",
    "ret = myETABSObject.ApplicationExit(False)\n"
   ]
  },
  {
   "cell_type": "code",
   "execution_count": 18,
   "metadata": {},
   "outputs": [
    {
     "data": {
      "text/plain": [
       "<ETABSv1.cOAPI object at 0x0000021068351CC0>"
      ]
     },
     "metadata": {},
     "output_type": "display_data"
    },
    {
     "data": {
      "text/plain": [
       "<ETABSv1.cSapModel object at 0x0000021068351D40>"
      ]
     },
     "metadata": {},
     "output_type": "display_data"
    }
   ],
   "source": [
    "import clr\n",
    "clr.AddReference(\"System.Runtime.InteropServices\")\n",
    "from System.Runtime.InteropServices import Marshal\n",
    "\n",
    "#set the following path to the installed ETABS program directory\n",
    "clr.AddReference(R'C:\\Program Files\\Computers and Structures\\ETABS 22\\ETABSv1.dll')\n",
    "import ETABSv1 as etabs\n",
    "\n",
    "#create API helper object\n",
    "helper = etabs.cHelper(etabs.Helper())\n",
    "\n",
    "try:\n",
    "    myETABSObject = etabs.cOAPI(helper.GetObject(\"CSI.ETABS.API.ETABSObject\"))\n",
    "except:\n",
    "    print(\"No running instance of the program found or failed to attach.\")\n",
    "\n",
    "#create SapModel object\n",
    "SapModel = etabs.cSapModel(myETABSObject.SapModel)\n",
    "\n",
    "N_mm_C = etabs.eUnits.N_mm_C\n",
    "kN_m_C = etabs.eUnits.kN_m_C\n",
    "\n",
    "display(myETABSObject)\n",
    "display(SapModel)\n",
    "\n"
   ]
  },
  {
   "cell_type": "markdown",
   "metadata": {},
   "source": [
    "# create stories"
   ]
  },
  {
   "cell_type": "code",
   "execution_count": 11,
   "metadata": {},
   "outputs": [],
   "source": [
    "with open(analytical_levels, 'r') as file:\n",
    "    levels = json.load(file)\n",
    "level_dict = {k:v for k,v in levels}\n",
    "sorted_level_dict = {k: v for k, v in sorted(level_dict.items(), key=lambda item: item[1])}\n",
    "story_names = list(sorted_level_dict.keys())[1:]\n",
    "story_heights = []\n",
    "base_level = 0\n",
    "for i,level in enumerate(sorted_level_dict.values()):\n",
    "    if i == 0:\n",
    "        base_level = level\n",
    "        previous_level = level\n",
    "        continue\n",
    "    story_height = level - previous_level\n",
    "    previous_level = level\n",
    "    story_heights.append(story_height)\n",
    "\n",
    "story_names\n",
    "story_heights\n",
    "\n",
    "def create_stories(SapModel,base_level:float,story_names:list[str],story_heights:list[float],unit = N_mm_C) -> tuple[int,list[str],list[float]]:\n",
    "    ret = SapModel.SetPresentUnits(unit)\n",
    "    stories_count = len(story_names)\n",
    "    IsMasterStory = [False] * stories_count\n",
    "    SimilarToStory = [''] * stories_count\n",
    "    SpliceAbove = [False] * stories_count\n",
    "    SpliceHeight = [0.0] * stories_count\n",
    "    color = [0] * stories_count\n",
    "    [ret, story_names, story_heights, IsMasterStory, SimilarToStory, SpliceAbove, SpliceHeight, color] = SapModel.Story.SetStories_2(\n",
    "        base_level,\n",
    "        stories_count,\n",
    "        story_names,\n",
    "        story_heights,\n",
    "        IsMasterStory,\n",
    "        SimilarToStory,\n",
    "        SpliceAbove,\n",
    "        SpliceHeight,\n",
    "        color\n",
    "    )\n",
    "    return (ret, list(story_names), list(story_heights))\n",
    "\n",
    "ret,_,_ = create_stories(SapModel,base_level,story_names,story_heights)\n"
   ]
  },
  {
   "cell_type": "markdown",
   "metadata": {},
   "source": [
    "# create materials"
   ]
  },
  {
   "cell_type": "code",
   "execution_count": 12,
   "metadata": {},
   "outputs": [],
   "source": [
    "with open(material_data, 'r') as file:\n",
    "    materials = json.load(file)\n",
    "materials\n",
    "\n",
    "etabs_materials = {\n",
    "    'concrete' : etabs.eMatType.Concrete,\n",
    "    'steel': etabs.eMatType.Steel,\n",
    "    'no_design' : etabs.eMatType.NoDesign\n",
    "}\n",
    "\n",
    "\n",
    "def get_etabs_concrete_material(name:str):\n",
    "    return {\n",
    "        'Name':name,\n",
    "        'Fc':float(name[2:]),\n",
    "        'IsLightweight':False,\n",
    "        'FcsFactor':0.0,\n",
    "        'SSType':2,\n",
    "        'SSHysType':4,\n",
    "        'StrainAtFc':0.0022,\n",
    "        'StrainUltimate':0.005,\n",
    "        'FinalSlope':-0.1,\n",
    "        'FrictionAngle': 0.0,\n",
    "        'DilatationalAngle' : 0.0,\n",
    "        'Temp' : 0.0\n",
    "    }\n",
    "\n",
    "\n",
    "def get_etabs_steel_material(name:str):\n",
    "    if name.upper() == 'S235':\n",
    "        fy,fu,efy,efu = 235.0, 360.0, 258.5, 396.0\n",
    "    elif name.upper() == 'S275':\n",
    "        fy,fu,efy,efu = 275.0, 430.0, 302.5, 473.0\n",
    "    elif name.upper() == 'S355':\n",
    "        fy,fu,efy,efu = 355.0, 510.0, 390.5, 561.0\n",
    "    elif name.upper() == 'S450':\n",
    "        fy,fu,efy,efu = 440.0, 550.0, 484.0, 605.0\n",
    "    elif name.upper() == 'A992FY50':\n",
    "        fy,fu,efy,efu = 344.738, 448.159, 379.212, 492.975\n",
    "    elif name.upper() == 'A572GR50':\n",
    "        fy,fu,efy,efu = 344.738, 448.159, 379.212, 492.975\n",
    "    elif name.upper() == 'A913GR50':\n",
    "        fy,fu,efy,efu = 344.738, 413.685, 379.212, 455.054\n",
    "    else:\n",
    "        fy,fu,efy,efu = 248.211, 399.896, 372.317, 439.885\n",
    "\n",
    "    return {\n",
    "    'Name' : name,\n",
    "    'Fy' : fy,\n",
    "    'Fu' : fu,\n",
    "    'EFy' : efy,\n",
    "    'EFu' : efu,\n",
    "    'SSType' : 1,\n",
    "    'SSHysType' : 1,\n",
    "    'StrainAtHardening' : 0.015,\n",
    "    'StrainAtMaxStress' : 0.11,\n",
    "    'StrainAtRupture' : 0.17,\n",
    "    'FinalSlope' : -0.1,\n",
    "    'Temp' : 0\n",
    "    }\n",
    "\n",
    "\n",
    "\n",
    "def add_material(SapModel, name:str,unit = N_mm_C):\n",
    "    \n",
    "    if name.upper().startswith('FC'):\n",
    "        material_type = etabs_materials['concrete']\n",
    "        fc = float(name[2:])\n",
    "        E = 4700 * (fc)**0.5\n",
    "        U = 0.2\n",
    "        A = 0.0000099\n",
    "        design_material = get_etabs_concrete_material(name)\n",
    "    elif name.upper().startswith('S'):\n",
    "        material_type = etabs_materials['steel']\n",
    "        E = 199947.98\n",
    "        U = 0.3\n",
    "        A = 0.0000117\n",
    "        design_material = get_etabs_steel_material(name)\n",
    "    else:\n",
    "        material_type = etabs_materials['no_design']\n",
    "        E = 199947.98\n",
    "        U = 0.3\n",
    "        A = 0.0000117\n",
    "\n",
    "\n",
    "    ret = SapModel.SetPresentUnits(unit)\n",
    "    ret = SapModel.PropMaterial.SetMaterial(name, material_type)\n",
    "\n",
    "    ret = SapModel.PropMaterial.SetMPIsotropic(\n",
    "        name,\n",
    "        E,\n",
    "        U,\n",
    "        A,\n",
    "        Temp = 0\n",
    "    )\n",
    "\n",
    "    if material_type == etabs_materials['concrete']:\n",
    "        ret = SapModel.PropMaterial.SetOConcrete_1(**design_material)\n",
    "    elif material_type == etabs_materials['steel']:\n",
    "        ret = SapModel.PropMaterial.SetOSteel_1(**design_material)\n",
    "\n",
    "\n",
    "    ret = SapModel.SetPresentUnits(kN_m_C)\n",
    "    weight = 25 if material_type == etabs_materials['concrete'] else 78.5\n",
    "    ret = SapModel.PropMaterial.SetWeightAndMass(name, 1, weight)\n",
    "\n",
    "    ret = SapModel.SetPresentUnits(unit)\n",
    "\n",
    "\n",
    "_ = [add_material(SapModel,x) for x in materials]\n"
   ]
  },
  {
   "cell_type": "markdown",
   "metadata": {},
   "source": [
    "# create cross sections"
   ]
  },
  {
   "cell_type": "code",
   "execution_count": 19,
   "metadata": {},
   "outputs": [],
   "source": [
    "#define rectangular frame section property\n",
    "ret = SapModel.PropFrame.SetRectangle('R1', 'FC40', 12, 12)\n",
    "\n",
    "#define frame section property modifiers\n",
    "ModValue = [1000, 0, 0, 1, 1, 1, 1, 1]\n",
    "ret = SapModel.PropFrame.SetModifiers('R1', ModValue)\n"
   ]
  },
  {
   "cell_type": "markdown",
   "metadata": {},
   "source": [
    "# finish"
   ]
  },
  {
   "cell_type": "code",
   "execution_count": 20,
   "metadata": {},
   "outputs": [],
   "source": [
    "SapModel = None\n",
    "myETABSObject = None"
   ]
  }
 ],
 "metadata": {
  "kernelspec": {
   "display_name": "pfse",
   "language": "python",
   "name": "python3"
  },
  "language_info": {
   "codemirror_mode": {
    "name": "ipython",
    "version": 3
   },
   "file_extension": ".py",
   "mimetype": "text/x-python",
   "name": "python",
   "nbconvert_exporter": "python",
   "pygments_lexer": "ipython3",
   "version": "3.12.8"
  }
 },
 "nbformat": 4,
 "nbformat_minor": 2
}
