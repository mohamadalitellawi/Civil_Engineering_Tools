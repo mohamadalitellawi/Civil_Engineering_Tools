{
 "cells": [
  {
   "cell_type": "markdown",
   "metadata": {},
   "source": [
    "### python -m pip install pythonnet"
   ]
  },
  {
   "cell_type": "code",
   "execution_count": 87,
   "metadata": {},
   "outputs": [],
   "source": [
    "from pathlib import Path\n",
    "from enum import Enum\n",
    "import json"
   ]
  },
  {
   "cell_type": "code",
   "execution_count": 88,
   "metadata": {},
   "outputs": [],
   "source": [
    "data_folder = Path('./test_data/')\n",
    "material_data = data_folder / 'material_data.json'\n",
    "column_data = data_folder / 'column_data.json'\n",
    "cross_section_data = data_folder / 'cross_section_data.json'\n",
    "analytical_levels = data_folder / 'analytical_levels.json'\n"
   ]
  },
  {
   "cell_type": "markdown",
   "metadata": {},
   "source": [
    "#start ETABS application.\n",
    "myETABSObject.ApplicationStart()\n",
    "\n",
    "#close the program.\n",
    "ret = myETABSObject.ApplicationExit(False)\n"
   ]
  },
  {
   "cell_type": "code",
   "execution_count": 89,
   "metadata": {},
   "outputs": [
    {
     "data": {
      "text/plain": [
       "<ETABSv1.cOAPI object at 0x000001ED6F916200>"
      ]
     },
     "metadata": {},
     "output_type": "display_data"
    },
    {
     "data": {
      "text/plain": [
       "<ETABSv1.cSapModel object at 0x000001ED6F914B00>"
      ]
     },
     "metadata": {},
     "output_type": "display_data"
    }
   ],
   "source": [
    "import clr\n",
    "clr.AddReference(\"System.Runtime.InteropServices\")\n",
    "from System.Runtime.InteropServices import Marshal\n",
    "\n",
    "#set the following path to the installed ETABS program directory\n",
    "clr.AddReference(R'C:\\Program Files\\Computers and Structures\\ETABS 22\\ETABSv1.dll')\n",
    "import ETABSv1 as etabs\n",
    "\n",
    "#create API helper object\n",
    "helper = etabs.cHelper(etabs.Helper())\n",
    "\n",
    "try:\n",
    "    myETABSObject = etabs.cOAPI(helper.GetObject(\"CSI.ETABS.API.ETABSObject\"))\n",
    "except:\n",
    "    print(\"No running instance of the program found or failed to attach.\")\n",
    "\n",
    "#create SapModel object\n",
    "SapModel = etabs.cSapModel(myETABSObject.SapModel)\n",
    "\n",
    "N_mm_C = etabs.eUnits.N_mm_C\n",
    "\n",
    "display(myETABSObject)\n",
    "display(SapModel)\n"
   ]
  },
  {
   "cell_type": "code",
   "execution_count": 90,
   "metadata": {},
   "outputs": [],
   "source": [
    "with open(analytical_levels, 'r') as file:\n",
    "    levels = json.load(file)\n",
    "level_dict = {k:v for k,v in levels}\n",
    "sorted_level_dict = {k: v for k, v in sorted(level_dict.items(), key=lambda item: item[1])}\n",
    "story_names = list(sorted_level_dict.keys())[1:]\n",
    "story_heights = []\n",
    "base_level = 0\n",
    "for i,level in enumerate(sorted_level_dict.values()):\n",
    "    if i == 0:\n",
    "        base_level = level\n",
    "        previous_level = level\n",
    "        continue\n",
    "    story_height = level - previous_level\n",
    "    previous_level = level\n",
    "    story_heights.append(story_height)\n",
    "\n",
    "story_names\n",
    "story_heights\n",
    "\n",
    "def create_stories(SapModel,base_level:float,story_names:list[str],story_heights:list[float],unit = N_mm_C) -> tuple[int,list[str],list[float]]:\n",
    "    ret = SapModel.SetPresentUnits(unit)\n",
    "    stories_count = len(story_names)\n",
    "    IsMasterStory = [False] * stories_count\n",
    "    SimilarToStory = [''] * stories_count\n",
    "    SpliceAbove = [False] * stories_count\n",
    "    SpliceHeight = [0.0] * stories_count\n",
    "    color = [0] * stories_count\n",
    "    [ret, story_names, story_heights, IsMasterStory, SimilarToStory, SpliceAbove, SpliceHeight, color] = SapModel.Story.SetStories_2(\n",
    "        base_level,\n",
    "        stories_count,\n",
    "        story_names,\n",
    "        story_heights,\n",
    "        IsMasterStory,\n",
    "        SimilarToStory,\n",
    "        SpliceAbove,\n",
    "        SpliceHeight,\n",
    "        color\n",
    "    )\n",
    "    return (ret, list(story_names), list(story_heights))\n",
    "\n",
    "ret,_,_ = create_stories(SapModel,base_level,story_names,story_heights)\n"
   ]
  },
  {
   "cell_type": "code",
   "execution_count": 91,
   "metadata": {},
   "outputs": [],
   "source": [
    "SapModel = None\n",
    "myETABSObject = None"
   ]
  }
 ],
 "metadata": {
  "kernelspec": {
   "display_name": "pfse",
   "language": "python",
   "name": "python3"
  },
  "language_info": {
   "codemirror_mode": {
    "name": "ipython",
    "version": 3
   },
   "file_extension": ".py",
   "mimetype": "text/x-python",
   "name": "python",
   "nbconvert_exporter": "python",
   "pygments_lexer": "ipython3",
   "version": "3.12.8"
  }
 },
 "nbformat": 4,
 "nbformat_minor": 2
}
