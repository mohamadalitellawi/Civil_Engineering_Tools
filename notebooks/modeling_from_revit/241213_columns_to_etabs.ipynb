{
 "cells": [
  {
   "cell_type": "markdown",
   "metadata": {},
   "source": [
    "### python -m pip install pythonnet"
   ]
  },
  {
   "cell_type": "code",
   "execution_count": 481,
   "metadata": {},
   "outputs": [],
   "source": [
    "from pathlib import Path\n",
    "from enum import Enum\n",
    "import json"
   ]
  },
  {
   "cell_type": "code",
   "execution_count": 482,
   "metadata": {},
   "outputs": [],
   "source": [
    "data_folder = Path('./test_data/')\n",
    "material_data = data_folder / 'material_data.json'\n",
    "column_data = data_folder / 'column_data.json'\n",
    "cross_section_data = data_folder / 'cross_section_data.json'\n",
    "analytical_levels = data_folder / 'analytical_levels.json'\n",
    "\n",
    "beam_cross_section_data = data_folder / 'beam_cross_section_data.json'\n",
    "beam_data = data_folder / 'beam_data.json'\n",
    "floor_data = data_folder / 'floor_data.json'\n",
    "floor_sections_data = data_folder / 'floor_sections.json'\n",
    "wall_data = data_folder / 'wall_data.json'\n",
    "wall_sections_data = data_folder / 'wall_sections.json'"
   ]
  },
  {
   "cell_type": "markdown",
   "metadata": {},
   "source": [
    "#start ETABS application.\n",
    "myETABSObject.ApplicationStart()\n",
    "\n",
    "#close the program.\n",
    "ret = myETABSObject.ApplicationExit(False)\n"
   ]
  },
  {
   "cell_type": "code",
   "execution_count": 483,
   "metadata": {},
   "outputs": [
    {
     "data": {
      "text/plain": [
       "<ETABSv1.cOAPI object at 0x000001BA35C5E700>"
      ]
     },
     "metadata": {},
     "output_type": "display_data"
    },
    {
     "data": {
      "text/plain": [
       "<ETABSv1.cSapModel object at 0x000001BA37DA21C0>"
      ]
     },
     "metadata": {},
     "output_type": "display_data"
    }
   ],
   "source": [
    "import clr\n",
    "clr.AddReference(\"System.Runtime.InteropServices\")\n",
    "from System.Runtime.InteropServices import Marshal\n",
    "\n",
    "#set the following path to the installed ETABS program directory\n",
    "clr.AddReference(R'C:\\Program Files\\Computers and Structures\\ETABS 22\\ETABSv1.dll')\n",
    "import ETABSv1 as etabs\n",
    "\n",
    "#create API helper object\n",
    "helper = etabs.cHelper(etabs.Helper())\n",
    "\n",
    "try:\n",
    "    myETABSObject = etabs.cOAPI(helper.GetObject(\"CSI.ETABS.API.ETABSObject\"))\n",
    "except:\n",
    "    print(\"No running instance of the program found or failed to attach.\")\n",
    "\n",
    "#create SapModel object\n",
    "SapModel = etabs.cSapModel(myETABSObject.SapModel)\n",
    "\n",
    "N_mm_C = etabs.eUnits.N_mm_C\n",
    "kN_m_C = etabs.eUnits.kN_m_C\n",
    "\n",
    "display(myETABSObject)\n",
    "display(SapModel)\n",
    "\n"
   ]
  },
  {
   "cell_type": "markdown",
   "metadata": {},
   "source": [
    "# create stories"
   ]
  },
  {
   "cell_type": "code",
   "execution_count": 484,
   "metadata": {},
   "outputs": [],
   "source": [
    "with open(analytical_levels, 'r') as file:\n",
    "    levels = json.load(file)\n",
    "level_dict = {k:v for k,v in levels}\n",
    "sorted_level_dict = {k: v for k, v in sorted(level_dict.items(), key=lambda item: item[1])}\n",
    "story_names = list(sorted_level_dict.keys())[1:]\n",
    "story_heights = []\n",
    "base_level = 0\n",
    "for i,level in enumerate(sorted_level_dict.values()):\n",
    "    if i == 0:\n",
    "        base_level = level\n",
    "        previous_level = level\n",
    "        continue\n",
    "    story_height = level - previous_level\n",
    "    previous_level = level\n",
    "    story_heights.append(story_height)\n",
    "\n",
    "story_names\n",
    "story_heights\n",
    "\n",
    "def create_stories(SapModel,base_level:float,story_names:list[str],story_heights:list[float],unit = N_mm_C) -> tuple[int,list[str],list[float]]:\n",
    "    ret = SapModel.SetPresentUnits(unit)\n",
    "    stories_count = len(story_names)\n",
    "    IsMasterStory = [False] * stories_count\n",
    "    SimilarToStory = [''] * stories_count\n",
    "    SpliceAbove = [False] * stories_count\n",
    "    SpliceHeight = [0.0] * stories_count\n",
    "    color = [0] * stories_count\n",
    "    [ret, story_names, story_heights, IsMasterStory, SimilarToStory, SpliceAbove, SpliceHeight, color] = SapModel.Story.SetStories_2(\n",
    "        base_level,\n",
    "        stories_count,\n",
    "        story_names,\n",
    "        story_heights,\n",
    "        IsMasterStory,\n",
    "        SimilarToStory,\n",
    "        SpliceAbove,\n",
    "        SpliceHeight,\n",
    "        color\n",
    "    )\n",
    "    return (ret, list(story_names), list(story_heights))\n",
    "\n",
    "ret,_,_ = create_stories(SapModel,base_level,story_names,story_heights)\n"
   ]
  },
  {
   "cell_type": "markdown",
   "metadata": {},
   "source": [
    "# create materials"
   ]
  },
  {
   "cell_type": "code",
   "execution_count": 485,
   "metadata": {},
   "outputs": [],
   "source": [
    "with open(material_data, 'r') as file:\n",
    "    materials = json.load(file)\n",
    "materials\n",
    "\n",
    "etabs_materials = {\n",
    "    'concrete' : etabs.eMatType.Concrete,\n",
    "    'steel': etabs.eMatType.Steel,\n",
    "    'no_design' : etabs.eMatType.NoDesign\n",
    "}\n",
    "\n",
    "\n",
    "def get_etabs_concrete_material(name:str):\n",
    "    return {\n",
    "        'Name':name,\n",
    "        'Fc':float(name[2:]),\n",
    "        'IsLightweight':False,\n",
    "        'FcsFactor':0.0,\n",
    "        'SSType':2,\n",
    "        'SSHysType':4,\n",
    "        'StrainAtFc':0.0022,\n",
    "        'StrainUltimate':0.005,\n",
    "        'FinalSlope':-0.1,\n",
    "        'FrictionAngle': 0.0,\n",
    "        'DilatationalAngle' : 0.0,\n",
    "        'Temp' : 0.0\n",
    "    }\n",
    "\n",
    "\n",
    "def get_etabs_steel_material(name:str):\n",
    "    if name.upper() == 'S235':\n",
    "        fy,fu,efy,efu = 235.0, 360.0, 258.5, 396.0\n",
    "    elif name.upper() == 'S275':\n",
    "        fy,fu,efy,efu = 275.0, 430.0, 302.5, 473.0\n",
    "    elif name.upper() == 'S355':\n",
    "        fy,fu,efy,efu = 355.0, 510.0, 390.5, 561.0\n",
    "    elif name.upper() == 'S450':\n",
    "        fy,fu,efy,efu = 440.0, 550.0, 484.0, 605.0\n",
    "    elif name.upper() == 'A992FY50':\n",
    "        fy,fu,efy,efu = 344.738, 448.159, 379.212, 492.975\n",
    "    elif name.upper() == 'A572GR50':\n",
    "        fy,fu,efy,efu = 344.738, 448.159, 379.212, 492.975\n",
    "    elif name.upper() == 'A913GR50':\n",
    "        fy,fu,efy,efu = 344.738, 413.685, 379.212, 455.054\n",
    "    else:\n",
    "        fy,fu,efy,efu = 248.211, 399.896, 372.317, 439.885\n",
    "\n",
    "    return {\n",
    "    'Name' : name,\n",
    "    'Fy' : fy,\n",
    "    'Fu' : fu,\n",
    "    'EFy' : efy,\n",
    "    'EFu' : efu,\n",
    "    'SSType' : 1,\n",
    "    'SSHysType' : 1,\n",
    "    'StrainAtHardening' : 0.015,\n",
    "    'StrainAtMaxStress' : 0.11,\n",
    "    'StrainAtRupture' : 0.17,\n",
    "    'FinalSlope' : -0.1,\n",
    "    'Temp' : 0\n",
    "    }\n",
    "\n",
    "\n",
    "\n",
    "def add_material(SapModel, name:str,unit = N_mm_C):\n",
    "    \n",
    "    if name.upper().startswith('FC'):\n",
    "        material_type = etabs_materials['concrete']\n",
    "        fc = float(name[2:])\n",
    "        E = 4700 * (fc)**0.5\n",
    "        U = 0.2\n",
    "        A = 0.0000099\n",
    "        design_material = get_etabs_concrete_material(name)\n",
    "    elif name.upper().startswith('S'):\n",
    "        material_type = etabs_materials['steel']\n",
    "        E = 199947.98\n",
    "        U = 0.3\n",
    "        A = 0.0000117\n",
    "        design_material = get_etabs_steel_material(name)\n",
    "    else:\n",
    "        material_type = etabs_materials['no_design']\n",
    "        E = 199947.98\n",
    "        U = 0.3\n",
    "        A = 0.0000117\n",
    "\n",
    "\n",
    "    ret = SapModel.SetPresentUnits(unit)\n",
    "    ret = SapModel.PropMaterial.SetMaterial(name, material_type)\n",
    "\n",
    "    ret = SapModel.PropMaterial.SetMPIsotropic(\n",
    "        name,\n",
    "        E,\n",
    "        U,\n",
    "        A,\n",
    "        Temp = 0\n",
    "    )\n",
    "\n",
    "    if material_type == etabs_materials['concrete']:\n",
    "        ret = SapModel.PropMaterial.SetOConcrete_1(**design_material)\n",
    "    elif material_type == etabs_materials['steel']:\n",
    "        ret = SapModel.PropMaterial.SetOSteel_1(**design_material)\n",
    "\n",
    "\n",
    "    ret = SapModel.SetPresentUnits(kN_m_C)\n",
    "    weight = 25 if material_type == etabs_materials['concrete'] else 78.5\n",
    "    ret = SapModel.PropMaterial.SetWeightAndMass(name, 1, weight)\n",
    "\n",
    "    ret = SapModel.SetPresentUnits(unit)\n",
    "\n",
    "\n",
    "_ = [add_material(SapModel,x) for x in materials]\n"
   ]
  },
  {
   "cell_type": "markdown",
   "metadata": {},
   "source": [
    "# create cross sections"
   ]
  },
  {
   "cell_type": "code",
   "execution_count": 486,
   "metadata": {},
   "outputs": [],
   "source": [
    "with open (cross_section_data, 'r') as file:\n",
    "    sections = json.load(file)\n"
   ]
  },
  {
   "cell_type": "code",
   "execution_count": 487,
   "metadata": {},
   "outputs": [],
   "source": [
    "def add_rebar_circular(section_name:str, rebars:str):\n",
    "    rebar_count, rebar_size = rebars.upper().split('T')\n",
    "    SetRebarColumn = {\n",
    "        'Name': section_name,\n",
    "        'MatPropLong':'A615Gr60',\n",
    "        'MatPropConfine':'A615Gr60',\n",
    "        'Pattern': 2,\n",
    "        'ConfineType': 1,\n",
    "        'Cover':40,\n",
    "        'NumberCBars': int(rebar_count),\n",
    "        'NumberR3Bars': 0,\n",
    "        'NumberR2Bars': 0,\n",
    "        'RebarSize': str(rebar_size),\n",
    "        'TieSize':'10',\n",
    "        'TieSpacingLongit':150,\n",
    "        'Number2DirTieBars':3,\n",
    "        'Number3DirTieBars':3,\n",
    "        'ToBeDesigned': False\n",
    "    }\n",
    "    return SetRebarColumn\n",
    "\n",
    "def add_rebar_rectangular(section_name:str, rebars:str,width_T2:float,depth_T3:float):\n",
    "    rebar_count, rebar_size = rebars.upper().split('T')\n",
    "    half_count_etabs = (int(rebar_count)-4) * 0.5 # without 4 bars at corner\n",
    "    width_ratio = width_T2 / (width_T2 + depth_T3)\n",
    "    NumberR3Bars = int(width_ratio * half_count_etabs)\n",
    "    NumberR2Bars = max(int(half_count_etabs - NumberR3Bars),0) + 2\n",
    "    NumberR3Bars += 2\n",
    "    SetRebarColumn = {\n",
    "        'Name': section_name,\n",
    "        'MatPropLong':'A615Gr60',\n",
    "        'MatPropConfine':'A615Gr60',\n",
    "        'Pattern': 1,\n",
    "        'ConfineType': 0,\n",
    "        'Cover':40,\n",
    "        'NumberCBars': 0,\n",
    "        'NumberR3Bars': NumberR3Bars,\n",
    "        'NumberR2Bars': NumberR2Bars,\n",
    "        'RebarSize': str(rebar_size),\n",
    "        'TieSize':'10',\n",
    "        'TieSpacingLongit':150,\n",
    "        'Number2DirTieBars':2,\n",
    "        'Number3DirTieBars':4,\n",
    "        'ToBeDesigned': False\n",
    "    }\n",
    "    return SetRebarColumn\n",
    "\n"
   ]
  },
  {
   "cell_type": "code",
   "execution_count": 488,
   "metadata": {},
   "outputs": [
    {
     "data": {
      "text/plain": [
       "['C 500x900-16T20-FC40',\n",
       " 'C 900-24T20-FC30',\n",
       " 'C 400x800-12T16-FC30',\n",
       " 'C 500x900-18T20-FC40',\n",
       " 'C 800x800-20T20-FC30',\n",
       " 'C 450x450-8T16-FC30',\n",
       " 'C 800x800-20T20-FC40',\n",
       " 'C HE360A-S355',\n",
       " 'C SHS200x200x10-S275',\n",
       " 'C 500x900-None-FC40',\n",
       " 'C 500x900-None-FC30']"
      ]
     },
     "execution_count": 488,
     "metadata": {},
     "output_type": "execute_result"
    }
   ],
   "source": [
    "# do not use this function , use the updated below\n",
    "def get_etabs_column_concrete_section(section_data):\n",
    "    size = str(section_data[1]['name']).split('_')[2]\n",
    "    if str(section_data[1]['material_grade']).upper().startswith('FC'):\n",
    "        if size.upper().startswith('D'):\n",
    "            size = size[1:]\n",
    "        name = f\"{section_data[0]}-C {size}-{section_data[1]['rebar']}\"\n",
    "    else:\n",
    "        name = f\"{section_data[0]}-C {size}\"\n",
    "    return name\n",
    "\n",
    "def get_etabs_column_concrete_section(section_data):\n",
    "    size = str(section_data[1]['name']).split('_')[2]\n",
    "    if str(section_data[1]['material_grade']).upper().startswith('FC'):\n",
    "        if size.upper().startswith('D'):\n",
    "            size = size[1:]\n",
    "        name = f\"C {size}-{section_data[1]['rebar']}-{section_data[1]['material_grade']}\"\n",
    "    else:\n",
    "        name = f\"C {size}-{section_data[1]['material_grade']}\"\n",
    "    return name\n",
    "\n",
    "\n",
    "def add_sections(SapModel, section_data, unit = N_mm_C):\n",
    "    ret = SapModel.SetPresentUnits(unit)\n",
    "    name = get_etabs_column_concrete_section(section_data)\n",
    "    material:str = section_data[1]['material_grade']\n",
    "    rebars = section_data[1]['rebar']\n",
    "    if section_data[1]['h']:\n",
    "        width_T2 = float(section_data[1]['b'])\n",
    "        depth_T3 = float(section_data[1]['h'])\n",
    "        #define rectangular frame section property\n",
    "        ret = SapModel.PropFrame.SetRectangle(name, material, depth_T3, width_T2)\n",
    "        if rebars:\n",
    "            ret = SapModel.PropFrame.SetRebarColumn(**add_rebar_rectangular(name,rebars,width_T2, depth_T3))\n",
    "    else:\n",
    "        depth_T3 = float(section_data[1]['b'])\n",
    "        ret = SapModel.PropFrame.SetCircle(name, material, depth_T3)\n",
    "        if rebars:\n",
    "            ret = SapModel.PropFrame.SetRebarColumn(**add_rebar_circular(name,rebars))\n",
    "    if material.upper().startswith('FC'):\n",
    "        #define frame section property modifiers\n",
    "        ModValue = [1.0, 1.0, 1.0, 1.0, 0.7, 0.7, 1.0, 1.0]\n",
    "        ret = SapModel.PropFrame.SetModifiers(name, ModValue)\n",
    "    return name\n",
    "\n",
    "etabs_section_names = [add_sections(SapModel,x) for x in sections]\n",
    "\n",
    "etabs_section_names\n"
   ]
  },
  {
   "cell_type": "markdown",
   "metadata": {},
   "source": [
    "# creating columns in etabs"
   ]
  },
  {
   "cell_type": "code",
   "execution_count": 489,
   "metadata": {},
   "outputs": [],
   "source": [
    "with open (column_data, 'r') as file:\n",
    "    columns = json.load(file)\n",
    "columns = sorted(columns, key= lambda x : x[1]['z_base'])\n",
    "\n",
    "# correct coordinates to follow column below\n",
    "def update_columns_coordinates(columns):\n",
    "    updated_columns = []\n",
    "    for column in columns:\n",
    "        id = column[0]\n",
    "        column_below_id = column[1]['column_below']\n",
    "        if column_below_id:\n",
    "            updated_column = [id, {k:v for k,v in column[1].items()}]\n",
    "            for column_below in columns:\n",
    "                if column_below_id == column_below[0]:\n",
    "                    updated_column[1]['x'] = column_below[1]['x']\n",
    "                    updated_column[1]['y'] = column_below[1]['y']\n",
    "                    updated_columns.append(updated_column)\n",
    "                    break\n",
    "        else:\n",
    "            updated_columns.append(column)\n",
    "    return updated_columns\n",
    "\n",
    "sorted_columns = update_columns_coordinates(columns)\n",
    "def get_column_coordinate(column):\n",
    "    name = column[0]\n",
    "\n",
    "    x = column[1]['x']\n",
    "    y = column[1]['y']\n",
    "\n",
    "    section_name = get_etabs_column_concrete_section(column)\n",
    "\n",
    "    AddByCoord = {\n",
    "        'XI':x,\n",
    "        'YI':y,\n",
    "        'ZI':column[1]['z_base'],\n",
    "        'XJ':x,\n",
    "        'YJ':y,\n",
    "        'ZJ':column[1]['z_top'],\n",
    "        'Name':str(name),\n",
    "        'PropName' : section_name,\n",
    "        'UserName' : str(name),\n",
    "        'CSys' : 'Global'\n",
    "    }\n",
    "    return AddByCoord\n",
    "\n",
    "def add_column(SapModel, column, all_columns):\n",
    "    ret = SapModel.FrameObj.AddByCoord(**get_column_coordinate(column))\n",
    "    column_name = str(column[0])\n",
    "    angle = float(column[1]['angle'])\n",
    "    # assign frame local axis angle\n",
    "    ret = SapModel.FrameObj.SetLocalAxes(column_name, angle)\n",
    "\n",
    "\n",
    "_ = [add_column(SapModel, x, sorted_columns) for x in sorted_columns]"
   ]
  },
  {
   "cell_type": "markdown",
   "metadata": {},
   "source": [
    "# add beams"
   ]
  },
  {
   "cell_type": "code",
   "execution_count": 490,
   "metadata": {},
   "outputs": [
    {
     "data": {
      "text/plain": [
       "['B 300X600-FC30',\n",
       " 'B 400X600-FC30',\n",
       " 'B 600X600-FC30',\n",
       " 'B 500X600-FC30',\n",
       " 'B 600X800-FC30',\n",
       " 'B SFA_C203x89-S355']"
      ]
     },
     "execution_count": 490,
     "metadata": {},
     "output_type": "execute_result"
    }
   ],
   "source": [
    "with open (beam_cross_section_data, 'r') as file:\n",
    "    sections = json.load(file)\n",
    "\n",
    "def get_etabs_beam_cross_section(section_data):\n",
    "    grade:str = section_data[1]['material_grade']\n",
    "    if grade.upper().startswith('FC'):\n",
    "        b = round(float(section_data[1]['b']))\n",
    "        h = round(float(section_data[1]['h']))\n",
    "        size = f\"{b}X{h}\"\n",
    "        name = f\"B {size}-{grade}\"\n",
    "    else:\n",
    "        name = f\"B {section_data[1]['name'][4:]}-{grade}\"\n",
    "    return name\n",
    "\n",
    "\n",
    "def add_beam_rebar(section_name:str, width_T2:float,depth_T3:float):\n",
    "\n",
    "    SetRebarBeam = {\n",
    "        'Name': section_name,\n",
    "        'MatPropLong':'A615Gr60',\n",
    "        'MatPropConfine':'A615Gr60',\n",
    "        'CoverTop':60.0,\n",
    "        'CoverBot':60.0,\n",
    "        'TopLeftArea':400.0,\n",
    "        'TopRightArea':400.0,\n",
    "        'BotLeftArea':400.0,\n",
    "        'BotRightArea':400.0\n",
    "    }\n",
    "    return SetRebarBeam\n",
    "\n",
    "\n",
    "def add_beam_sections(SapModel, section_data, unit = N_mm_C):\n",
    "    ret = SapModel.SetPresentUnits(unit)\n",
    "    name:str = get_etabs_beam_cross_section(section_data)\n",
    "    material:str = section_data[1]['material_grade']\n",
    "\n",
    "    width_T2 = float(section_data[1]['b'])\n",
    "    depth_T3 = float(section_data[1]['h'])\n",
    "    #define rectangular frame section property\n",
    "\n",
    "    ret = SapModel.PropFrame.SetRectangle(name, material, depth_T3, width_T2)\n",
    "    if material.upper().startswith('FC'):\n",
    "        ret = SapModel.PropFrame.SetRebarBeam(**add_beam_rebar(name,width_T2, depth_T3))\n",
    "\n",
    "    if material.upper().startswith('FC'):\n",
    "        #define frame section property modifiers\n",
    "        ModValue = [1.0, 1.0, 1.0, 0.1, 0.35, 0.35, 1.0, 1.0]\n",
    "        ret = SapModel.PropFrame.SetModifiers(name, ModValue)\n",
    "    return name\n",
    "\n",
    "etabs_section_names = [add_beam_sections(SapModel,x) for x in sections]\n",
    "\n",
    "etabs_section_names"
   ]
  },
  {
   "cell_type": "code",
   "execution_count": 491,
   "metadata": {},
   "outputs": [],
   "source": [
    "with open (beam_data, 'r') as file:\n",
    "    beams = json.load(file)\n",
    "\n",
    "\n",
    "def get_beam_coordinates(beam):\n",
    "    name = beam[0]\n",
    "\n",
    "    x = beam[1]['x']\n",
    "    y = beam[1]['y']\n",
    "    z = beam[1]['z']\n",
    "\n",
    "    section_name = get_etabs_beam_cross_section(beam)\n",
    "\n",
    "    for indx, x_coor in enumerate(x):\n",
    "        if indx == len(x) - 1:\n",
    "            continue\n",
    "        y_coor = y[indx]\n",
    "        AddByCoord = {\n",
    "            'XI':x_coor,\n",
    "            'YI':y_coor,\n",
    "            'ZI':z,\n",
    "            'XJ':x[indx+1],\n",
    "            'YJ':y[indx+1],\n",
    "            'ZJ':z,\n",
    "            'Name':str(name),\n",
    "            'PropName' : section_name,\n",
    "            'UserName' : str(name),\n",
    "            'CSys' : 'Global'\n",
    "        }\n",
    "        yield AddByCoord\n",
    "\n",
    "def add_beam(SapModel, beam):\n",
    "    for beam_coordinate in get_beam_coordinates(beam):\n",
    "        ret = SapModel.FrameObj.AddByCoord(**beam_coordinate)\n",
    "\n",
    "    # assign frame local axis angle\n",
    "    angle = float(beam[1]['angle'])\n",
    "    if round(angle,3) != 0:\n",
    "        name = str(beam[0])\n",
    "        ret = SapModel.FrameObj.SetLocalAxes(name, angle)\n",
    "\n",
    "\n",
    "_ = [add_beam(SapModel, x) for x in beams]"
   ]
  },
  {
   "cell_type": "markdown",
   "metadata": {},
   "source": [
    "# add walls"
   ]
  },
  {
   "cell_type": "code",
   "execution_count": 492,
   "metadata": {},
   "outputs": [
    {
     "data": {
      "text/plain": [
       "['W 300-FC30', 'W 250-FC40']"
      ]
     },
     "execution_count": 492,
     "metadata": {},
     "output_type": "execute_result"
    }
   ],
   "source": [
    "with open (wall_sections_data, 'r') as file:\n",
    "    sections = json.load(file)\n",
    "\n",
    "def get_etabs_wall_cross_section(section_data):\n",
    "    grade:str = section_data[1]['material_grade']\n",
    "    if grade.upper().startswith('FC'):\n",
    "        thk = round(float(section_data[1]['thk']))\n",
    "        name = f\"W {thk}-{grade}\"\n",
    "    else:\n",
    "        name = f\"W {section_data[1]['name'][8:]}-{grade}\"\n",
    "    return name\n",
    "\n",
    "\n",
    "def add_wall_sections(SapModel, section_data, unit = N_mm_C):\n",
    "    ret = SapModel.SetPresentUnits(unit)\n",
    "    name:str = get_etabs_wall_cross_section(section_data)\n",
    "    material:str = section_data[1]['material_grade']\n",
    "    thk = round(float(section_data[1]['thk']))\n",
    "\n",
    "    SetWall = {\n",
    "        'Name' : name,\n",
    "        'WallPropType':  etabs.eWallPropType.Specified,\n",
    "        'ShellType':  etabs.eShellType.ShellThin,\n",
    "        'MatProp':  material,\n",
    "        'Thickness':  thk,\n",
    "        'color': -1,\n",
    "        'notes' : \"\",\n",
    "        'GUID':  \"\"\n",
    "    }\n",
    "\n",
    "    ret = SapModel.PropArea.SetWall(** SetWall)\n",
    "\n",
    "    if material.upper().startswith('FC'):\n",
    "        #define frame section property modifiers\n",
    "        ModValue = [0.7, 0.7, 0.7, 0.7, 0.7, 0.7, 1.0, 1.0, 1.0, 1.0]\n",
    "        ret = SapModel.PropArea.SetModifiers(name, ModValue)\n",
    "\n",
    "    return name\n",
    "\n",
    "\n",
    "etabs_section_names = [add_wall_sections(SapModel,x) for x in sections]\n",
    "etabs_section_names"
   ]
  },
  {
   "cell_type": "code",
   "execution_count": 493,
   "metadata": {},
   "outputs": [],
   "source": [
    "with open (wall_data, 'r') as file:\n",
    "    walls = json.load(file)\n",
    "\n",
    "\n",
    "def get_wall_coordinates(wall):\n",
    "    name = wall[0]\n",
    "\n",
    "    x = wall[1]['x']\n",
    "    y = wall[1]['y']\n",
    "    z_base = wall[1]['z_base']\n",
    "    z_top = wall[1]['z_top']\n",
    "\n",
    "    section_name = get_etabs_wall_cross_section(wall)\n",
    "    pnt_count = 4\n",
    "    for indx, x_coor in enumerate(x):\n",
    "        if indx == len(x) - 1:\n",
    "            continue\n",
    "\n",
    "        y_coor = y[indx]\n",
    "\n",
    "        pnt_x, pnt_y, pnt_z =[],[],[]\n",
    "        pnt_x = [\n",
    "            x[indx],\n",
    "            x[indx+1],\n",
    "            x[indx+1],\n",
    "            x[indx]\n",
    "        ]\n",
    "\n",
    "        pnt_y = [\n",
    "            y[indx],\n",
    "            y[indx+1],\n",
    "            y[indx+1],\n",
    "            y[indx]\n",
    "        ]\n",
    "\n",
    "        pnt_z = [\n",
    "            z_base,\n",
    "            z_base,\n",
    "            z_top,\n",
    "            z_top\n",
    "        ]\n",
    "\n",
    "        AddByCoord = {\n",
    "            'NumberPoints':pnt_count,\n",
    "            'X' : pnt_x,\n",
    "            'Y' : pnt_y,\n",
    "            'Z' : pnt_z,\n",
    "            'Name' : str(name),\n",
    "            'PropName' : section_name if section_name else 'Default',\n",
    "            'UserName' : str(name),\n",
    "            'CSys' : 'Global'\n",
    "        }\n",
    "        \n",
    "        yield AddByCoord\n",
    "\n",
    "\n",
    "def add_wall(SapModel, wall):\n",
    "    for wall_coordinate in get_wall_coordinates(wall):\n",
    "        ret = SapModel.AreaObj.AddByCoord(**wall_coordinate)\n",
    "\n",
    "\n",
    "_ = [add_wall(SapModel, x) for x in walls]"
   ]
  },
  {
   "cell_type": "markdown",
   "metadata": {},
   "source": [
    "# add floors"
   ]
  },
  {
   "cell_type": "code",
   "execution_count": 494,
   "metadata": {},
   "outputs": [
    {
     "data": {
      "text/plain": [
       "['S 250-FC30',\n",
       " 'S 200-FC30',\n",
       " 'S 300-FC30',\n",
       " 'S 500-FC30',\n",
       " 'S 150-FC30',\n",
       " 'S 130-FC30']"
      ]
     },
     "execution_count": 494,
     "metadata": {},
     "output_type": "execute_result"
    }
   ],
   "source": [
    "with open (floor_sections_data, 'r') as file:\n",
    "    sections = json.load(file)\n",
    "\n",
    "def get_etabs_floor_cross_section(section_data):\n",
    "    grade:str = section_data[1]['material_grade']\n",
    "    if grade.upper().startswith('FC'):\n",
    "        thk = round(float(section_data[1]['thk']))\n",
    "        name = f\"S {thk}-{grade}\"\n",
    "    else:\n",
    "        name = f\"S {section_data[1]['name'][8:]}-{grade}\"\n",
    "    return name\n",
    "\n",
    "\n",
    "def add_floor_sections(SapModel, section_data, unit = N_mm_C):\n",
    "    ret = SapModel.SetPresentUnits(unit)\n",
    "    name:str = get_etabs_floor_cross_section(section_data)\n",
    "    material:str = section_data[1]['material_grade']\n",
    "    thk = round(float(section_data[1]['thk']))\n",
    "\n",
    "    SetSlab = {\n",
    "        'Name' : name,\n",
    "        'SlabType':  etabs.eSlabType.Slab,\n",
    "        'ShellType':  etabs.eShellType.ShellThin,\n",
    "        'MatProp':  material,\n",
    "        'Thickness':  thk,\n",
    "        'color': -1,\n",
    "        'notes' : \"\",\n",
    "        'GUID':  \"\"\n",
    "    }\n",
    "\n",
    "    ret = SapModel.PropArea.SetSlab(** SetSlab)\n",
    "\n",
    "    if material.upper().startswith('FC'):\n",
    "        #define frame section property modifiers\n",
    "        ModValue = [1.0, 1.0, 1.0, 0.25, 0.25, 0.25, 1.0, 1.0, 1.0, 1.0]\n",
    "        ret = SapModel.PropArea.SetModifiers(name, ModValue)\n",
    "\n",
    "    return name\n",
    "\n",
    "\n",
    "etabs_section_names = [add_floor_sections(SapModel,x) for x in sections]\n",
    "etabs_section_names"
   ]
  },
  {
   "cell_type": "code",
   "execution_count": 495,
   "metadata": {},
   "outputs": [
    {
     "data": {
      "text/plain": [
       "0"
      ]
     },
     "metadata": {},
     "output_type": "display_data"
    },
    {
     "data": {
      "text/plain": [
       "'6003577'"
      ]
     },
     "metadata": {},
     "output_type": "display_data"
    },
    {
     "data": {
      "text/plain": [
       "0"
      ]
     },
     "metadata": {},
     "output_type": "display_data"
    },
    {
     "data": {
      "text/plain": [
       "'6004916'"
      ]
     },
     "metadata": {},
     "output_type": "display_data"
    },
    {
     "data": {
      "text/plain": [
       "0"
      ]
     },
     "metadata": {},
     "output_type": "display_data"
    },
    {
     "data": {
      "text/plain": [
       "'6003570_0'"
      ]
     },
     "metadata": {},
     "output_type": "display_data"
    },
    {
     "data": {
      "text/plain": [
       "0"
      ]
     },
     "metadata": {},
     "output_type": "display_data"
    },
    {
     "data": {
      "text/plain": [
       "'6003570_1'"
      ]
     },
     "metadata": {},
     "output_type": "display_data"
    },
    {
     "data": {
      "text/plain": [
       "0"
      ]
     },
     "metadata": {},
     "output_type": "display_data"
    },
    {
     "data": {
      "text/plain": [
       "'6003570_2'"
      ]
     },
     "metadata": {},
     "output_type": "display_data"
    },
    {
     "data": {
      "text/plain": [
       "0"
      ]
     },
     "metadata": {},
     "output_type": "display_data"
    },
    {
     "data": {
      "text/plain": [
       "'6003584'"
      ]
     },
     "metadata": {},
     "output_type": "display_data"
    }
   ],
   "source": [
    "with open (floor_data, 'r') as file:\n",
    "    floors = json.load(file)\n",
    "\n",
    "\n",
    "\n",
    "def get_floor_coordinates(floor):\n",
    "    name = floor[0][0]\n",
    "\n",
    "    section_name = get_etabs_floor_cross_section(floor)\n",
    "    \n",
    "    x = floor[1]['x']\n",
    "    y = floor[1]['y']\n",
    "    z = floor[1]['z']\n",
    "\n",
    "    floor_slab_count = len(x)\n",
    "    for i in range(floor_slab_count):\n",
    "        slab_pnt_count = len(x[i])\n",
    "        pnt_x = x[i]\n",
    "        pnt_y = y[i]\n",
    "        pnt_z = [z] * slab_pnt_count\n",
    "\n",
    "        if floor_slab_count > 1:\n",
    "            counted_name = f'{name}_{i}'\n",
    "        else:\n",
    "            counted_name = name\n",
    "        AddByCoord = {\n",
    "            'NumberPoints':slab_pnt_count-1,\n",
    "            'X' : pnt_x[:slab_pnt_count-1],\n",
    "            'Y' : pnt_y[:slab_pnt_count-1],\n",
    "            'Z' : pnt_z[:slab_pnt_count-1],\n",
    "            'Name' : str(counted_name),\n",
    "            'PropName' : section_name if section_name else 'Default',\n",
    "            'UserName' : str(counted_name),\n",
    "            'CSys' : 'Global'\n",
    "        }\n",
    "        \n",
    "        yield AddByCoord\n",
    "\n",
    "\n",
    "def add_floor(SapModel, floor):\n",
    "    for floor_coordinate in get_floor_coordinates(floor):\n",
    "        ret = SapModel.AreaObj.AddByCoord(**floor_coordinate)\n",
    "\n",
    "\n",
    "#refresh view\n",
    "ret = SapModel.View.RefreshView(0, False)\n",
    "\n",
    "\n",
    "_ = [add_floor(SapModel, x) for x in floors]"
   ]
  },
  {
   "cell_type": "markdown",
   "metadata": {},
   "source": [
    "# finish"
   ]
  },
  {
   "cell_type": "code",
   "execution_count": 480,
   "metadata": {},
   "outputs": [],
   "source": [
    "SapModel = None\n",
    "myETABSObject = None"
   ]
  }
 ],
 "metadata": {
  "kernelspec": {
   "display_name": "pfse",
   "language": "python",
   "name": "python3"
  },
  "language_info": {
   "codemirror_mode": {
    "name": "ipython",
    "version": 3
   },
   "file_extension": ".py",
   "mimetype": "text/x-python",
   "name": "python",
   "nbconvert_exporter": "python",
   "pygments_lexer": "ipython3",
   "version": "3.12.8"
  }
 },
 "nbformat": 4,
 "nbformat_minor": 2
}
