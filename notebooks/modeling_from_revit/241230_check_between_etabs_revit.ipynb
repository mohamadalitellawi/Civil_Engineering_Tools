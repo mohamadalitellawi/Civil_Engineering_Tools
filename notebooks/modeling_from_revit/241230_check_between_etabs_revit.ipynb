{
 "cells": [
  {
   "cell_type": "markdown",
   "metadata": {},
   "source": [
    "### python -m pip install pythonnet"
   ]
  },
  {
   "cell_type": "code",
   "execution_count": 13,
   "metadata": {},
   "outputs": [],
   "source": [
    "from pathlib import Path\n",
    "import logging\n",
    "import json"
   ]
  },
  {
   "cell_type": "code",
   "execution_count": 14,
   "metadata": {},
   "outputs": [],
   "source": [
    "data_folder = Path('./test_data/')\n",
    "material_data = data_folder / 'material_data.json'\n",
    "column_data = data_folder / 'column_data.json'\n",
    "column_cross_section_data = data_folder / 'column_cross_section_data.json'\n",
    "analytical_levels = data_folder / 'analytical_levels.json'\n",
    "\n",
    "beam_cross_section_data = data_folder / 'beam_cross_section_data.json'\n",
    "beam_data = data_folder / 'beam_data.json'\n",
    "floor_data = data_folder / 'floor_data.json'\n",
    "floor_cross_section_data = data_folder / 'floor_cross_section_data.json'\n",
    "wall_data = data_folder / 'wall_data.json'\n",
    "wall_cross_section_data = data_folder / 'wall_cross_section_data.json'"
   ]
  },
  {
   "cell_type": "markdown",
   "metadata": {},
   "source": [
    "# add logging"
   ]
  },
  {
   "cell_type": "code",
   "execution_count": 15,
   "metadata": {},
   "outputs": [],
   "source": [
    "# Create a logger\n",
    "logger = logging.getLogger('etabs_logger')\n",
    "logger.setLevel(logging.INFO)\n",
    "\n",
    "# Check if handlers are already added to avoid duplicate logs\n",
    "if not logger.handlers:\n",
    "    # Create a file handler\n",
    "    log_file_handler = logging.FileHandler('log.txt')\n",
    "    log_file_handler.setLevel(logging.INFO)\n",
    "\n",
    "    # Create a formatter and set it for the handler\n",
    "    formatter = logging.Formatter('%(asctime)s | %(funcName)s | %(levelname)s | %(lineno)d | %(message)s')\n",
    "    log_file_handler.setFormatter(formatter)\n",
    "\n",
    "    # Add the handler to the logger\n",
    "    logger.addHandler(log_file_handler)\n",
    "\n",
    "\n",
    "logger.info('starting the program')\n",
    "\n",
    "\n",
    "\n"
   ]
  },
  {
   "cell_type": "markdown",
   "metadata": {},
   "source": [
    "#start ETABS application.\n",
    "myETABSObject.ApplicationStart()\n",
    "\n",
    "#close the program.\n",
    "ret = myETABSObject.ApplicationExit(False)\n"
   ]
  },
  {
   "cell_type": "code",
   "execution_count": 16,
   "metadata": {},
   "outputs": [
    {
     "data": {
      "text/plain": [
       "<ETABSv1.cOAPI object at 0x000001E230342180>"
      ]
     },
     "metadata": {},
     "output_type": "display_data"
    },
    {
     "data": {
      "text/plain": [
       "<ETABSv1.cSapModel object at 0x000001E230340800>"
      ]
     },
     "metadata": {},
     "output_type": "display_data"
    }
   ],
   "source": [
    "import clr\n",
    "clr.AddReference(\"System.Runtime.InteropServices\")\n",
    "from System.Runtime.InteropServices import Marshal\n",
    "\n",
    "#set the following path to the installed ETABS program directory\n",
    "clr.AddReference(R'C:\\Program Files\\Computers and Structures\\ETABS 22\\ETABSv1.dll')\n",
    "import ETABSv1 as etabs\n",
    "\n",
    "#create API helper object\n",
    "helper = etabs.cHelper(etabs.Helper())\n",
    "\n",
    "try:\n",
    "    myETABSObject = etabs.cOAPI(helper.GetObject(\"CSI.ETABS.API.ETABSObject\"))\n",
    "except:\n",
    "    error_msg = \"No running instance of the program found or failed to attach.\"\n",
    "    print(error_msg)\n",
    "    logger.error(error_msg)\n",
    "\n",
    "#create SapModel object\n",
    "SapModel = etabs.cSapModel(myETABSObject.SapModel)\n",
    "\n",
    "N_mm_C = etabs.eUnits.N_mm_C\n",
    "kN_m_C = etabs.eUnits.kN_m_C\n",
    "\n",
    "display(myETABSObject)\n",
    "display(SapModel)\n",
    "\n"
   ]
  },
  {
   "cell_type": "markdown",
   "metadata": {},
   "source": [
    "# read columns from etabs"
   ]
  },
  {
   "cell_type": "code",
   "execution_count": 17,
   "metadata": {},
   "outputs": [
    {
     "data": {
      "text/plain": [
       "['6864165', '7081867', '7081894']"
      ]
     },
     "execution_count": 17,
     "metadata": {},
     "output_type": "execute_result"
    }
   ],
   "source": [
    "with open (column_data, 'r') as file:\n",
    "    columns = json.load(file)\n",
    "\n",
    "def get_etabs_column_concrete_section(section_data):\n",
    "    size = str(section_data[1]['name']).split('_')[2]\n",
    "    if str(section_data[1]['material_grade']).upper().startswith('FC'):\n",
    "        if size.upper().startswith('D'):\n",
    "            size = size[1:]\n",
    "        name = f\"C {size}-{section_data[1]['rebar']}-{section_data[1]['material_grade']}\"\n",
    "    else:\n",
    "        name = f\"C {size}-{section_data[1]['material_grade']}\"\n",
    "    return name\n",
    "\n",
    "revit_col_section_name = {str(k):get_etabs_column_concrete_section((k,v)) for k,v in columns}\n",
    "revit_col_section_name\n",
    "\n",
    "\n",
    "GetAllFrames = {\n",
    "    'NumberNames': 0,\n",
    "    'MyName': [],\n",
    "    'PropName': [],\n",
    "    'StoryName': [],\n",
    "    'PointName1': [],\n",
    "    'PointName2': [],\n",
    "    'Point1X': [],\n",
    "    'Point1Y': [],\n",
    "    'Point1Z': [],\n",
    "    'Point2X': [],\n",
    "    'Point2Y': [],\n",
    "    'Point2Z': [],\n",
    "    'Angle': [],\n",
    "    'Offset1X': [],\n",
    "    'Offset2X': [],\n",
    "    'Offset1Y': [],\n",
    "    'Offset2Y': [],\n",
    "    'Offset1Z': [],\n",
    "    'Offset2Z': [],\n",
    "    'CardinalPoint': [],\n",
    "    'csys': \"Global\"\n",
    "}\n",
    "\n",
    "ret = SapModel.FrameObj.GetAllFrames(**GetAllFrames)\n",
    "frame_names = list(ret[2])\n",
    "property_names = list(ret[3])\n",
    "\n",
    "etabs_frame_section_name = {str(k).split('_')[0]:v for k,v in zip(frame_names,property_names)}\n",
    "\n",
    "column_changed = []\n",
    "for k,v in revit_col_section_name.items():\n",
    "    if k in etabs_frame_section_name:\n",
    "        if v != etabs_frame_section_name[k]:\n",
    "            column_changed.append(k)\n",
    "\n",
    "column_changed\n"
   ]
  },
  {
   "cell_type": "markdown",
   "metadata": {},
   "source": [
    "# read beams from etabs"
   ]
  },
  {
   "cell_type": "code",
   "execution_count": 18,
   "metadata": {},
   "outputs": [
    {
     "data": {
      "text/plain": [
       "['6918417', '6918428']"
      ]
     },
     "execution_count": 18,
     "metadata": {},
     "output_type": "execute_result"
    }
   ],
   "source": [
    "with open (beam_data, 'r') as file:\n",
    "    beams = json.load(file)\n",
    "\n",
    "def get_etabs_beam_cross_section(section_data):\n",
    "    grade:str = section_data[1]['material_grade']\n",
    "    if grade.upper().startswith('FC'):\n",
    "        b = round(float(section_data[1]['b']))\n",
    "        h = round(float(section_data[1]['h']))\n",
    "        size = f\"{b}X{h}\"\n",
    "        name = f\"B {size}-{grade}\"\n",
    "    else:\n",
    "        name = f\"B {section_data[1]['name'][4:]}-{grade}\"\n",
    "    return name\n",
    "\n",
    "revit_beam_section_name = {str(k):get_etabs_beam_cross_section((k,v)) for k,v in beams}\n",
    "\n",
    "\n",
    "\n",
    "beam_changed = []\n",
    "for k,v in revit_beam_section_name.items():\n",
    "    if k in etabs_frame_section_name:\n",
    "        if v != etabs_frame_section_name[k]:\n",
    "            beam_changed.append(k)\n",
    "\n",
    "beam_changed"
   ]
  },
  {
   "cell_type": "markdown",
   "metadata": {},
   "source": [
    "# read walls from etabs"
   ]
  },
  {
   "cell_type": "code",
   "execution_count": 19,
   "metadata": {},
   "outputs": [
    {
     "data": {
      "text/plain": [
       "[]"
      ]
     },
     "execution_count": 19,
     "metadata": {},
     "output_type": "execute_result"
    }
   ],
   "source": [
    "with open (wall_data, 'r') as file:\n",
    "    walls = json.load(file)\n",
    "\n",
    "def get_etabs_wall_cross_section(section_data):\n",
    "    grade:str = section_data[1]['material_grade']\n",
    "    if grade.upper().startswith('FC'):\n",
    "        thk = round(float(section_data[1]['thk']))\n",
    "        name = f\"W {thk}-{grade}\"\n",
    "    else:\n",
    "        name = f\"W {section_data[1]['name'][8:]}-{grade}\"\n",
    "    return name\n",
    "\n",
    "revit_wall_section_name = {str(k):get_etabs_wall_cross_section((k,v)) for k,v in walls}\n",
    "\n",
    "\n",
    "GetAllAreas = {\n",
    "    'NumberNames': 0,\n",
    "    'MyName': [],\n",
    "    'DesignOrientation': [],\n",
    "    'NumberBoundaryPts': 0,\n",
    "    'PointDelimiter': [],\n",
    "    'PointNames': [],\n",
    "    'PointX': [],\n",
    "    'PointY': [],\n",
    "    'PointZ': []\n",
    "}\n",
    "\n",
    "ret,_,area_names,_,_,_,_,_,_,_ = SapModel.AreaObj.GetAllAreas(**GetAllAreas)\n",
    "area_names = list(area_names)\n",
    "\n",
    "PropName = ''\n",
    "ret = [SapModel.AreaObj.GetProperty(str(x), PropName) for x in area_names]\n",
    "etabs_area_section_name = [x[1] for x in ret]\n",
    "etabs_area_section_name = {str(k).split('_')[0]:v for k,v in zip(area_names,etabs_area_section_name)}\n",
    "etabs_area_section_name\n",
    "\n",
    "wall_changed = []\n",
    "for k,v in revit_wall_section_name.items():\n",
    "    if k in etabs_area_section_name:\n",
    "        if v != etabs_area_section_name[k]:\n",
    "            wall_changed.append(k)\n",
    "wall_changed\n"
   ]
  },
  {
   "cell_type": "code",
   "execution_count": 20,
   "metadata": {},
   "outputs": [
    {
     "data": {
      "text/plain": [
       "0"
      ]
     },
     "execution_count": 20,
     "metadata": {},
     "output_type": "execute_result"
    }
   ],
   "source": [
    "#refresh view\n",
    "ret = SapModel.View.RefreshView(0, False)\n",
    "ret"
   ]
  },
  {
   "cell_type": "markdown",
   "metadata": {},
   "source": [
    "# finish"
   ]
  },
  {
   "cell_type": "code",
   "execution_count": 21,
   "metadata": {},
   "outputs": [],
   "source": [
    "SapModel = None\n",
    "myETABSObject = None"
   ]
  },
  {
   "cell_type": "code",
   "execution_count": 22,
   "metadata": {},
   "outputs": [
    {
     "data": {
      "text/plain": [
       "'6864165;7081867;7081894'"
      ]
     },
     "execution_count": 22,
     "metadata": {},
     "output_type": "execute_result"
    }
   ],
   "source": [
    "';'.join(column_changed) if len(column_changed) > 0 else None"
   ]
  },
  {
   "cell_type": "code",
   "execution_count": 23,
   "metadata": {},
   "outputs": [],
   "source": [
    "';'.join(wall_changed) if len(wall_changed) > 0 else None"
   ]
  },
  {
   "cell_type": "code",
   "execution_count": 24,
   "metadata": {},
   "outputs": [
    {
     "data": {
      "text/plain": [
       "'6918417;6918428'"
      ]
     },
     "execution_count": 24,
     "metadata": {},
     "output_type": "execute_result"
    }
   ],
   "source": [
    "';'.join(beam_changed) if len(beam_changed) > 0 else None"
   ]
  }
 ],
 "metadata": {
  "kernelspec": {
   "display_name": "pfse",
   "language": "python",
   "name": "python3"
  },
  "language_info": {
   "codemirror_mode": {
    "name": "ipython",
    "version": 3
   },
   "file_extension": ".py",
   "mimetype": "text/x-python",
   "name": "python",
   "nbconvert_exporter": "python",
   "pygments_lexer": "ipython3",
   "version": "3.13.1"
  }
 },
 "nbformat": 4,
 "nbformat_minor": 2
}
