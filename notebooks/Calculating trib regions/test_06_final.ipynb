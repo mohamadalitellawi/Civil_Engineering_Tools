{
 "cells": [
  {
   "cell_type": "code",
   "execution_count": 58,
   "id": "e611eefe-25c0-48d5-9040-ee991c3a3997",
   "metadata": {},
   "outputs": [],
   "source": [
    "from mat_ceng import get_column_area_loads\n",
    "import shapely\n",
    "from shapely import (\n",
    "    Point, \n",
    "    MultiPoint, \n",
    "    Polygon, \n",
    "    MultiPolygon, \n",
    "    LineString, \n",
    "    MultiLineString,\n",
    "    GeometryCollection\n",
    ")\n",
    "import json\n",
    "import numpy as np"
   ]
  },
  {
   "cell_type": "code",
   "execution_count": 59,
   "id": "acd10c43",
   "metadata": {},
   "outputs": [
    {
     "data": {
      "text/plain": [
       "{'heavy_occupancy': {'dead': 6.0, 'live': 4.8, 'wind': 1.0},\n",
       " 'light_occupancy': {'dead': 5.1, 'live': 2.4, 'wind': 1.0}}"
      ]
     },
     "execution_count": 59,
     "metadata": {},
     "output_type": "execute_result"
    }
   ],
   "source": [
    "with open('floor_data.json', 'r') as file:\n",
    "    floor_data = json.load(file)\n",
    "\n",
    "with open('occupancy_loading.json', 'r') as file:\n",
    "    occupancy_loading = json.load(file)\n",
    "\n",
    "occupancy_loading"
   ]
  },
  {
   "cell_type": "code",
   "execution_count": 60,
   "id": "88856d0b",
   "metadata": {},
   "outputs": [],
   "source": [
    "\n",
    "\n",
    "col_area_load = get_column_area_loads(floor_data,occupancy_loading,300)\n"
   ]
  },
  {
   "cell_type": "code",
   "execution_count": 61,
   "id": "790c61b9",
   "metadata": {},
   "outputs": [
    {
     "data": {
      "text/plain": [
       "array([56.2231332 , 44.97850656,  9.3705222 ])"
      ]
     },
     "metadata": {},
     "output_type": "display_data"
    },
    {
     "data": {
      "text/plain": [
       "np.float64(155.1758476447876)"
      ]
     },
     "metadata": {},
     "output_type": "display_data"
    },
    {
     "data": {
      "text/plain": [
       "np.float64(101.20163976833976)"
      ]
     },
     "metadata": {},
     "output_type": "display_data"
    },
    {
     "data": {
      "text/plain": [
       "np.float64(1.5333333333333332)"
      ]
     },
     "metadata": {},
     "output_type": "display_data"
    }
   ],
   "source": [
    "col = col_area_load[6]\n",
    "display(col.column_load)\n",
    "ult = col.get_combined_load(np.array([1.4,1.7,0]))\n",
    "srv = col.get_combined_load(np.array([1.0,1.0,0]))\n",
    "display(ult)\n",
    "display(srv)\n",
    "display(ult/srv)\n"
   ]
  }
 ],
 "metadata": {
  "kernelspec": {
   "display_name": "Python 3 (pfse)",
   "language": "python",
   "name": "pfse"
  },
  "language_info": {
   "codemirror_mode": {
    "name": "ipython",
    "version": 3
   },
   "file_extension": ".py",
   "mimetype": "text/x-python",
   "name": "python",
   "nbconvert_exporter": "python",
   "pygments_lexer": "ipython3",
   "version": "3.12.3"
  }
 },
 "nbformat": 4,
 "nbformat_minor": 5
}
