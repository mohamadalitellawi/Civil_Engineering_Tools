{
 "cells": [
  {
   "cell_type": "code",
   "execution_count": 3,
   "metadata": {},
   "outputs": [
    {
     "name": "stdout",
     "output_type": "stream",
     "text": [
      "The autoreload extension is already loaded. To reload it, use:\n",
      "  %reload_ext autoreload\n"
     ]
    }
   ],
   "source": [
    "%load_ext autoreload\n",
    "%autoreload 2\n",
    "import mat_ceng as ceng\n",
    "import math"
   ]
  },
  {
   "cell_type": "code",
   "execution_count": 5,
   "metadata": {},
   "outputs": [
    {
     "data": {
      "text/plain": [
       "{'moment_of_inertia': (13077182430.757, 55400148079.443),\n",
       " 'ratio': (0.476, 0.592)}"
      ]
     },
     "execution_count": 5,
     "metadata": {},
     "output_type": "execute_result"
    }
   ],
   "source": [
    "ceng.calculate_column_actual_moment_of_inertia(\n",
    "    material=ceng.Material(fc=50,fy=420),\n",
    "    dimensions=ceng.Section_Dimensions(section_c22=650,section_c33=1200, section_cc=40, rft_ratio=0.03),\n",
    "    loads=ceng.Load_Case(Pu=2633, Mu_22=1132,Mu_33=1854, Pu_sustained=1150.0993).import_from_etabs(flip_axial_sign=False)\n",
    ")"
   ]
  },
  {
   "cell_type": "code",
   "execution_count": 4,
   "metadata": {},
   "outputs": [
    {
     "data": {
      "text/plain": [
       "{'moment_of_inertia': (364583333.333, 9333333333.333), 'ratio': (0.35, 0.875)}"
      ]
     },
     "metadata": {},
     "output_type": "display_data"
    },
    {
     "data": {
      "text/plain": [
       "{'Etabs': 2.075155153817217, 'Method_C': 3.2108743306964707}"
      ]
     },
     "metadata": {},
     "output_type": "display_data"
    },
    {
     "data": {
      "text/plain": [
       "{'Etabs': 1, 'Method_C': 1}"
      ]
     },
     "metadata": {},
     "output_type": "display_data"
    }
   ],
   "source": [
    "material=ceng.Material(fc=32,fy=420)\n",
    "dimensions=ceng.Section_Dimensions(section_c22=250,section_c33=800, section_cc=40, rft_ratio=0.0141)\n",
    "load=ceng.Load_Case(\n",
    "    Pu=1385.0853, Pu_sustained=1150.0993,\n",
    "    Mu_22=3000,\n",
    "    Mu_33=10).import_from_etabs(flip_axial_sign=False)\n",
    "\n",
    "column = ceng.Column(\n",
    "    lu_22=4800, \n",
    "    lu_33=4800,\n",
    "    k_22=1,\n",
    "    k_33=1)\n",
    "\n",
    "display(ceng.calculate_column_actual_moment_of_inertia(\n",
    "    material,\n",
    "    dimensions,\n",
    "    load\n",
    "))\n",
    "\n",
    "Cm = 0.597\n",
    "\n",
    "display( ceng.calculate_minor_delta_ns(\n",
    "    column,\n",
    "    material,\n",
    "    dimensions,\n",
    "    load,\n",
    "    Cm\n",
    "))\n",
    "\n",
    "display( ceng.calculate_major_delta_ns(\n",
    "    column,\n",
    "    material,\n",
    "    dimensions,\n",
    "    load,\n",
    "    Cm\n",
    "))\n"
   ]
  },
  {
   "cell_type": "code",
   "execution_count": 6,
   "metadata": {},
   "outputs": [
    {
     "data": {
      "text/plain": [
       "12635938.042080265"
      ]
     },
     "execution_count": 6,
     "metadata": {},
     "output_type": "execute_result"
    }
   ],
   "source": [
    "def calculate_Ise(bar_count:float, bar_size:float, section_depth:float, concrete_cover:float) -> float:\n",
    "    dist = (section_depth - 2 * (concrete_cover + 0.5 * bar_size))*0.5\n",
    "    bar_area = math.pi * bar_size**2 / 4\n",
    "    return 2 * bar_count * bar_area * dist**2\n",
    "\n",
    "calculate_Ise(7,16,250,50)"
   ]
  }
 ],
 "metadata": {
  "kernelspec": {
   "display_name": "Python 3 (pfse)",
   "language": "python",
   "name": "pfse"
  },
  "language_info": {
   "codemirror_mode": {
    "name": "ipython",
    "version": 3
   },
   "file_extension": ".py",
   "mimetype": "text/x-python",
   "name": "python",
   "nbconvert_exporter": "python",
   "pygments_lexer": "ipython3",
   "version": "3.12.3"
  }
 },
 "nbformat": 4,
 "nbformat_minor": 2
}
