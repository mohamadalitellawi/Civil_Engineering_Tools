{
 "cells": [
  {
   "cell_type": "code",
   "execution_count": 33,
   "metadata": {},
   "outputs": [
    {
     "name": "stdout",
     "output_type": "stream",
     "text": [
      "The autoreload extension is already loaded. To reload it, use:\n",
      "  %reload_ext autoreload\n"
     ]
    }
   ],
   "source": [
    "%load_ext autoreload\n",
    "%autoreload 2"
   ]
  },
  {
   "cell_type": "code",
   "execution_count": 34,
   "metadata": {},
   "outputs": [],
   "source": [
    "from math import pi, sqrt\n",
    "import handcalcs.render\n",
    "import forallpeople as si\n",
    "\n",
    "si.environment('structural', top_level=True)"
   ]
  },
  {
   "cell_type": "code",
   "execution_count": 35,
   "metadata": {},
   "outputs": [
    {
     "name": "stdout",
     "output_type": "stream",
     "text": [
      "{'mm': 1.000 mm, 'ft': 1.000 ft, 'inch': 1.000 inch, 'N': 1.000 N, 'kN': 1.000 kN, 'MN': 1.000 MN, 'Pa': 1.000 Pa, 'kPa': 1.000 kPa, 'MPa': 1.000 MPa, 'GPa': 1.000 GPa, 'Nm': 1.000 N·m, 'N_m': 1.000 N/m, 'lbft': 1.000 lb·ft, 'kipft': 1.000 kip·ft, 'psf': 1.000 psf, 'lbin': 1.000 lb·in, 'kipin': 1.000 kip·in, 'ksf': 1.000 ksf, 'lb': 1.000 lb, 'lb_ft': 1.000 lb/ft, 'kip_ft': 1.000 kip/ft, 'kip': 1.000 kip, 'lbm': 1.000 lbm, 'psi': 1.000 psi, 'ksi': 1.000 ksi, 'pcf': 1.000 pcf, 'kcf': 1.000 kcf, 'pci': 1.000 pci, 'kci': 1.000 kcf, 'N_m3': 1.000 N/m³, 'Nm2': 1.000 N·m², 'lbft2': 1.000 lb·ft², 'kft2': 1.000 kip·ft², 'J': 1.000 N·m, 'MJ': 1.000 MN·m, 'W': 1.000 W} \n",
      " {'kg': 1.000 kg, 'm': 1.000 m, 's': 1.000 s, 'A': 1.000 A, 'cd': 1.000 cd, 'K': 1.000 K, 'mol': 1.000 mol}\n"
     ]
    }
   ],
   "source": [
    "si.environment()"
   ]
  },
  {
   "cell_type": "code",
   "execution_count": 36,
   "metadata": {},
   "outputs": [
    {
     "data": {
      "text/latex": [
       "\\[\n",
       "\\begin{aligned}\n",
       "a &= 500 \\cdot \\mathrm{mm}  = 500 \\cdot mm &= 500.000\\ \\mathrm{mm}  \n",
       "\\\\[10pt]\n",
       "b &= 600 \\cdot \\mathrm{mm}  = 600 \\cdot mm &= 600.000\\ \\mathrm{mm}  \n",
       "\\\\[10pt]\n",
       "c &= \\left( a \\right) ^{ 2 } + \\frac{ b \\cdot a }{ \\pi } \\cdot \\sqrt { \\frac{ a }{ b } }  = \\left( 500.000\\ \\mathrm{mm} \\right) ^{ 2 } + \\frac{ 600.000\\ \\mathrm{mm} \\cdot 500.000\\ \\mathrm{mm} }{ 3.142 } \\cdot \\sqrt { \\frac{ 500.000\\ \\mathrm{mm} }{ 600.000\\ \\mathrm{mm} } } &= 337172.752\\ \\mathrm{mm}^{2}  \n",
       "\\end{aligned}\n",
       "\\]"
      ],
      "text/plain": [
       "<IPython.core.display.Latex object>"
      ]
     },
     "metadata": {},
     "output_type": "display_data"
    }
   ],
   "source": [
    "%%render\n",
    "a = 500 * mm\n",
    "b = 600 * mm\n",
    "c = a ** 2 + (b*a) / pi * sqrt(a/b)"
   ]
  },
  {
   "cell_type": "code",
   "execution_count": 37,
   "metadata": {},
   "outputs": [
    {
     "data": {
      "text/latex": [
       "\\[\n",
       "\\begin{aligned}\n",
       "f_{c} &= 30 \\cdot \\mathrm{MPa}  = 30 \\cdot MPa &= 30.000\\ \\mathrm{MPa}  \n",
       "\\\\[10pt]\n",
       "x &= 5 + f_{c}  = 5 + 30.000\\ \\mathrm{MPa} &= 30.000\\ \\mathrm{MPa}  \n",
       "\\\\[10pt]\n",
       "y &= 5 + \\operatorname{float} { \\left( f_{c} \\right) }  = 5 + \\operatorname{float} { \\left( 30.000\\ \\mathrm{MPa} \\right) } &= 35.000  \n",
       "\\\\[10pt]\n",
       "f_{r} &= 0.62 \\cdot \\sqrt { f_{c} }  = 0.62 \\cdot \\sqrt { 30.000\\ \\mathrm{MPa} } &= 3.396  \n",
       "\\\\[10pt]\n",
       "f_{r2} &= 0.62 \\cdot \\sqrt { f_{c} } \\cdot \\mathrm{MPa}  = 0.62 \\cdot \\sqrt { 30.000\\ \\mathrm{MPa} } \\cdot MPa &= 3.396\\ \\mathrm{MPa}  \n",
       "\\end{aligned}\n",
       "\\]"
      ],
      "text/plain": [
       "<IPython.core.display.Latex object>"
      ]
     },
     "metadata": {},
     "output_type": "display_data"
    }
   ],
   "source": [
    "%%render\n",
    "f_c = 30 * MPa\n",
    "x = 5 + f_c\n",
    "y = 5 + float(f_c)\n",
    "\n",
    "f_r = 0.62 * sqrt(f_c)\n",
    "f_r2 = 0.62 * sqrt(f_c) * MPa"
   ]
  },
  {
   "cell_type": "code",
   "execution_count": 47,
   "metadata": {},
   "outputs": [
    {
     "name": "stdout",
     "output_type": "stream",
     "text": [
      "{'mm': 1.000 mm, 'ft': 1.000 ft, 'inch': 1.000 inch, 'N': 1.000 N, 'kN': 1.000 kN, 'MN': 1.000 MN, 'Pa': 1.000 Pa, 'kPa': 1.000 kPa, 'MPa': 1.000 MPa, 'GPa': 1.000 GPa, 'Nm': 1.000 N·m, 'N_m': 1.000 N/m, 'lbft': 1.000 lb·ft, 'kipft': 1.000 kip·ft, 'psf': 1.000 psf, 'lbin': 1.000 lb·in, 'kipin': 1.000 kip·in, 'ksf': 1.000 ksf, 'lb': 1.000 lb, 'lb_ft': 1.000 lb/ft, 'kip_ft': 1.000 kip/ft, 'kip': 1.000 kip, 'lbm': 1.000 lbm, 'psi': 1.000 psi, 'ksi': 1.000 ksi, 'pcf': 1.000 pcf, 'kcf': 1.000 kcf, 'pci': 1.000 pci, 'kci': 1.000 kcf, 'N_m3': 1.000 N/m³, 'Nm2': 1.000 N·m², 'lbft2': 1.000 lb·ft², 'kft2': 1.000 kip·ft², 'J': 1.000 N·m, 'MJ': 1.000 MN·m, 'W': 1.000 W} \n",
      " {'kg': 1.000 kg, 'm': 1.000 m, 's': 1.000 s, 'A': 1.000 A, 'cd': 1.000 cd, 'K': 1.000 K, 'mol': 1.000 mol}\n"
     ]
    }
   ],
   "source": [
    "si.environment('structural')\n",
    "si.mm.to(unit_name='ft')\n",
    "si.environment()"
   ]
  }
 ],
 "metadata": {
  "kernelspec": {
   "display_name": "pfse",
   "language": "python",
   "name": "python3"
  },
  "language_info": {
   "codemirror_mode": {
    "name": "ipython",
    "version": 3
   },
   "file_extension": ".py",
   "mimetype": "text/x-python",
   "name": "python",
   "nbconvert_exporter": "python",
   "pygments_lexer": "ipython3",
   "version": "3.11.7"
  }
 },
 "nbformat": 4,
 "nbformat_minor": 2
}
