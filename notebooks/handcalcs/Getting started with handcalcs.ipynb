{
 "cells": [
  {
   "cell_type": "code",
   "execution_count": 1,
   "metadata": {},
   "outputs": [],
   "source": [
    "%load_ext autoreload\n",
    "%autoreload 2"
   ]
  },
  {
   "cell_type": "code",
   "execution_count": 2,
   "metadata": {},
   "outputs": [],
   "source": [
    "import handcalcs.render"
   ]
  },
  {
   "cell_type": "code",
   "execution_count": 3,
   "metadata": {},
   "outputs": [
    {
     "data": {
      "text/latex": [
       "\\[\n",
       "\\begin{aligned}\n",
       "a &= 5 \\; \n",
       "\\\\[10pt]\n",
       "b &= 6 \\; \n",
       "\\\\[10pt]\n",
       "c &= a \\cdot b  = 5 \\cdot 6 &= 30  \n",
       "\\\\[10pt]\n",
       "\\Theta_{b} &= \\frac{ c }{ a + b }  = \\frac{ 30 }{ 5 + 6 } &= 2.727  \n",
       "\\end{aligned}\n",
       "\\]"
      ],
      "text/plain": [
       "<IPython.core.display.Latex object>"
      ]
     },
     "metadata": {},
     "output_type": "display_data"
    }
   ],
   "source": [
    "%%render\n",
    "a = 5\n",
    "b = 6\n",
    "c = a *b\n",
    "Theta_b = c/(a+b)"
   ]
  },
  {
   "cell_type": "code",
   "execution_count": 4,
   "metadata": {},
   "outputs": [
    {
     "data": {
      "text/latex": [
       "\\[\n",
       "\\begin{aligned}\n",
       "a &= 5 \\; \\;\\textrm{(cm)}\n",
       " &b &= 6 \\; \\;\\textrm{(mm)}\n",
       " &c &= 30 \\; \\;\\textrm{(test aci318)}\n",
       "\\\\[10pt]\n",
       " \\Theta_{b} &= 2.727 \\;\n",
       "\\end{aligned}\n",
       "\\]"
      ],
      "text/plain": [
       "<IPython.core.display.Latex object>"
      ]
     },
     "metadata": {},
     "output_type": "display_data"
    }
   ],
   "source": [
    "%%render params\n",
    "a = 5 # cm\n",
    "b = 6 #mm\n",
    "c = a *b # test aci318\n",
    "Theta_b = c/(a+b)"
   ]
  }
 ],
 "metadata": {
  "kernelspec": {
   "display_name": "pfse",
   "language": "python",
   "name": "python3"
  },
  "language_info": {
   "codemirror_mode": {
    "name": "ipython",
    "version": 3
   },
   "file_extension": ".py",
   "mimetype": "text/x-python",
   "name": "python",
   "nbconvert_exporter": "python",
   "pygments_lexer": "ipython3",
   "version": "3.11.7"
  }
 },
 "nbformat": 4,
 "nbformat_minor": 4
}
