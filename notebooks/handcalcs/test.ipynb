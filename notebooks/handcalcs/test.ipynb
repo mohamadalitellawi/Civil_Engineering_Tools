{
 "cells": [
  {
   "cell_type": "code",
   "execution_count": 54,
   "metadata": {},
   "outputs": [
    {
     "name": "stdout",
     "output_type": "stream",
     "text": [
      "The autoreload extension is already loaded. To reload it, use:\n",
      "  %reload_ext autoreload\n"
     ]
    }
   ],
   "source": [
    "%load_ext autoreload\n",
    "%autoreload 2"
   ]
  },
  {
   "cell_type": "code",
   "execution_count": 55,
   "metadata": {},
   "outputs": [],
   "source": [
    "from math import pi, sqrt\n",
    "import handcalcs.render\n",
    "import forallpeople as si\n",
    "si.environment('structural', top_level=True)\n",
    "handcalcs.set_option('decimal_separator', ',,,')"
   ]
  },
  {
   "cell_type": "code",
   "execution_count": 56,
   "metadata": {},
   "outputs": [
    {
     "data": {
      "text/latex": [
       "\\[\n",
       "\\begin{aligned}\n",
       "\\phi &= 0{,,,}900 \\; \n",
       "\\\\[10pt]\n",
       "s_{x} &= 40000 \\cdot \\left( \\mathrm{mm} \\right) ^{ 3 } \\\\&= 40000 \\cdot \\left( mm \\right) ^{ 3 } \\\\&= 40000{,,,}000\\ \\mathrm{mm}^{3}  \\\\[10pt]\n",
       "\\\\[10pt]\n",
       "f_{y} &= 350 \\cdot \\mathrm{MPa} \\\\&= 350 \\cdot MPa \\\\&= 350{,,,}000\\ \\mathrm{MPa}  \\\\[10pt]\n",
       "\\\\[10pt]\n",
       "M_{r} &= \\phi \\cdot s_{x} \\cdot f_{y} \\\\&= 0{,,,}900 \\cdot 40000{,,,}000\\ \\mathrm{mm}^{3} \\cdot 350{,,,}000\\ \\mathrm{MPa} \\\\&= 12{,,,}600\\ \\mathrm{kN} \\cdot \\mathrm{m}  \\\\[10pt]\n",
       "\\end{aligned}\n",
       "\\]"
      ],
      "text/plain": [
       "<IPython.core.display.Latex object>"
      ]
     },
     "metadata": {},
     "output_type": "display_data"
    }
   ],
   "source": [
    "%%render long\n",
    "phi = 0.9\n",
    "s_x = 40000 * mm**3\n",
    "f_y = 350 * MPa\n",
    "M_r = phi * s_x * f_y\n"
   ]
  },
  {
   "cell_type": "code",
   "execution_count": 57,
   "metadata": {},
   "outputs": [
    {
     "data": {
      "text/latex": [
       "\\[\n",
       "\\begin{aligned}\n",
       "M_{r} &= 12{,,,}60000\\ \\mathrm{kN} \\cdot \\mathrm{m} \\; \n",
       "\\end{aligned}\n",
       "\\]"
      ],
      "text/plain": [
       "<IPython.core.display.Latex object>"
      ]
     },
     "metadata": {},
     "output_type": "display_data"
    }
   ],
   "source": [
    "%%render 5\n",
    "M_r"
   ]
  },
  {
   "cell_type": "code",
   "execution_count": 58,
   "metadata": {},
   "outputs": [
    {
     "data": {
      "text/latex": [
       "\\[\n",
       "\\begin{aligned}\n",
       "a &= 3{,,,}00\\ \\mathrm{m} \\; \n",
       " &b &= 6{,,,}00\\ \\mathrm{ft} \\; \n",
       " &c &= 15{,,,}84\\ \\mathrm{ft} \\; \n",
       "\\\\[10pt]\n",
       "\\end{aligned}\n",
       "\\]"
      ],
      "text/plain": [
       "<IPython.core.display.Latex object>"
      ]
     },
     "metadata": {},
     "output_type": "display_data"
    }
   ],
   "source": [
    "%%render param 2\n",
    "a = 3 *m\n",
    "b= 6 * ft\n",
    "c = b + a"
   ]
  },
  {
   "cell_type": "code",
   "execution_count": 59,
   "metadata": {},
   "outputs": [
    {
     "data": {
      "text/plain": [
       "'Physical(value=4.8288, dimensions=Dimensions(kg=0, m=1, s=0, A=0, cd=0, K=0, mol=0), factor=3.2808, precision=3, prefixed=)'"
      ]
     },
     "execution_count": 59,
     "metadata": {},
     "output_type": "execute_result"
    }
   ],
   "source": [
    "c.repr"
   ]
  },
  {
   "cell_type": "code",
   "execution_count": 60,
   "metadata": {},
   "outputs": [
    {
     "name": "stdout",
     "output_type": "stream",
     "text": [
      "Available units: \n",
      "ft\n",
      "inch\n"
     ]
    }
   ],
   "source": [
    "c.to()"
   ]
  }
 ],
 "metadata": {
  "kernelspec": {
   "display_name": "pfse",
   "language": "python",
   "name": "python3"
  },
  "language_info": {
   "codemirror_mode": {
    "name": "ipython",
    "version": 3
   },
   "file_extension": ".py",
   "mimetype": "text/x-python",
   "name": "python",
   "nbconvert_exporter": "python",
   "pygments_lexer": "ipython3",
   "version": "3.11.7"
  }
 },
 "nbformat": 4,
 "nbformat_minor": 2
}
