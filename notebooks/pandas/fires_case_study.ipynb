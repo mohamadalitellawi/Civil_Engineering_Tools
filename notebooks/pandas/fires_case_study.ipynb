{
 "cells": [
  {
   "cell_type": "markdown",
   "metadata": {},
   "source": [
    "# Chapter 12: The Forest Fires case study"
   ]
  },
  {
   "cell_type": "raw",
   "metadata": {},
   "source": [
    "If you set up your system as described in appendix A (Windows) or B (macOS), \n",
    "the SQLite database for this analysis will be in the ../../data folder, and\n",
    "all of the correct modules (including geopandas) will be installed in the \n",
    "murach environment."
   ]
  },
  {
   "cell_type": "code",
   "execution_count": 1,
   "metadata": {},
   "outputs": [],
   "source": [
    "import pandas as pd\n",
    "import seaborn as sns\n",
    "import sqlite3\n",
    "from pathlib import Path\n",
    "datafolder = Path('../test_data')"
   ]
  },
  {
   "cell_type": "markdown",
   "metadata": {},
   "source": [
    "## Get the data"
   ]
  },
  {
   "cell_type": "markdown",
   "metadata": {},
   "source": [
    "### Connect to SQLite database and create a cursor"
   ]
  },
  {
   "cell_type": "code",
   "execution_count": 7,
   "metadata": {},
   "outputs": [
    {
     "data": {
      "text/plain": [
       "sqlite3.Connection"
      ]
     },
     "execution_count": 7,
     "metadata": {},
     "output_type": "execute_result"
    }
   ],
   "source": [
    "\n",
    "fires_con = sqlite3.connect('../test_data/FPA_FOD_20170508.sqlite')\n",
    "fires_cur = fires_con.cursor()\n",
    "type(fires_con)"
   ]
  },
  {
   "cell_type": "code",
   "execution_count": 6,
   "metadata": {},
   "outputs": [
    {
     "data": {
      "text/plain": [
       "0"
      ]
     },
     "execution_count": 6,
     "metadata": {},
     "output_type": "execute_result"
    }
   ],
   "source": [
    "\"\"\"\n",
    "fires_con = sqlite3.connect(datafolder / 'FPA_FOD_20170508.sqlite')\n",
    "fires = pd.read_sql_query(\n",
    "    '''SELECT STATE, FIRE_YEAR, DATETIME(DISCOVERY_DATE) AS DISCOVERY_DATE,\n",
    "    DATETIME(CONT_DATE) AS CONTAIN_DATE, FIRE_NAME, FIRE_SIZE, LATITUDE, LONGITUDE\n",
    "    FROM Fires''',\n",
    "    fires_con\n",
    ")\n",
    "\"\"\"\n",
    "0"
   ]
  },
  {
   "cell_type": "markdown",
   "metadata": {},
   "source": [
    "### Check out the tables and columns"
   ]
  },
  {
   "cell_type": "code",
   "execution_count": 8,
   "metadata": {},
   "outputs": [
    {
     "data": {
      "text/plain": [
       "[('spatial_ref_sys',),\n",
       " ('spatialite_history',),\n",
       " ('sqlite_sequence',),\n",
       " ('geometry_columns',),\n",
       " ('spatial_ref_sys_aux',),\n",
       " ('views_geometry_columns',),\n",
       " ('virts_geometry_columns',),\n",
       " ('geometry_columns_statistics',),\n",
       " ('views_geometry_columns_statistics',),\n",
       " ('virts_geometry_columns_statistics',),\n",
       " ('geometry_columns_field_infos',),\n",
       " ('views_geometry_columns_field_infos',),\n",
       " ('virts_geometry_columns_field_infos',),\n",
       " ('geometry_columns_time',),\n",
       " ('geometry_columns_auth',),\n",
       " ('views_geometry_columns_auth',),\n",
       " ('virts_geometry_columns_auth',),\n",
       " ('sql_statements_log',),\n",
       " ('SpatialIndex',),\n",
       " ('ElementaryGeometries',),\n",
       " ('KNN',),\n",
       " ('Fires',),\n",
       " ('idx_Fires_Shape',),\n",
       " ('idx_Fires_Shape_node',),\n",
       " ('idx_Fires_Shape_rowid',),\n",
       " ('idx_Fires_Shape_parent',),\n",
       " ('NWCG_UnitIDActive_20170109',)]"
      ]
     },
     "execution_count": 8,
     "metadata": {},
     "output_type": "execute_result"
    }
   ],
   "source": [
    "fires_cur.execute(\n",
    "    'SELECT name FROM sqlite_master WHERE type=\"table\"').fetchall()"
   ]
  },
  {
   "cell_type": "code",
   "execution_count": 9,
   "metadata": {},
   "outputs": [
    {
     "data": {
      "text/plain": [
       "[(0, 'OBJECTID', 'INTEGER', 1, None, 1),\n",
       " (1, 'FOD_ID', 'int32', 0, None, 0),\n",
       " (2, 'FPA_ID', 'text(100)', 0, None, 0),\n",
       " (3, 'SOURCE_SYSTEM_TYPE', 'text(255)', 0, None, 0),\n",
       " (4, 'SOURCE_SYSTEM', 'text(30)', 0, None, 0),\n",
       " (5, 'NWCG_REPORTING_AGENCY', 'text(255)', 0, None, 0),\n",
       " (6, 'NWCG_REPORTING_UNIT_ID', 'text(255)', 0, None, 0),\n",
       " (7, 'NWCG_REPORTING_UNIT_NAME', 'text(255)', 0, None, 0),\n",
       " (8, 'SOURCE_REPORTING_UNIT', 'text(30)', 0, None, 0),\n",
       " (9, 'SOURCE_REPORTING_UNIT_NAME', 'text(255)', 0, None, 0),\n",
       " (10, 'LOCAL_FIRE_REPORT_ID', 'text(255)', 0, None, 0),\n",
       " (11, 'LOCAL_INCIDENT_ID', 'text(255)', 0, None, 0),\n",
       " (12, 'FIRE_CODE', 'text(10)', 0, None, 0),\n",
       " (13, 'FIRE_NAME', 'text(255)', 0, None, 0),\n",
       " (14, 'ICS_209_INCIDENT_NUMBER', 'text(255)', 0, None, 0),\n",
       " (15, 'ICS_209_NAME', 'text(255)', 0, None, 0),\n",
       " (16, 'MTBS_ID', 'text(255)', 0, None, 0),\n",
       " (17, 'MTBS_FIRE_NAME', 'text(50)', 0, None, 0),\n",
       " (18, 'COMPLEX_NAME', 'text(255)', 0, None, 0),\n",
       " (19, 'FIRE_YEAR', 'int16', 0, None, 0),\n",
       " (20, 'DISCOVERY_DATE', 'realdate', 0, None, 0),\n",
       " (21, 'DISCOVERY_DOY', 'int32', 0, None, 0),\n",
       " (22, 'DISCOVERY_TIME', 'text(4)', 0, None, 0),\n",
       " (23, 'STAT_CAUSE_CODE', 'float64', 0, None, 0),\n",
       " (24, 'STAT_CAUSE_DESCR', 'text(100)', 0, None, 0),\n",
       " (25, 'CONT_DATE', 'realdate', 0, None, 0),\n",
       " (26, 'CONT_DOY', 'int32', 0, None, 0),\n",
       " (27, 'CONT_TIME', 'text(4)', 0, None, 0),\n",
       " (28, 'FIRE_SIZE', 'float64', 0, None, 0),\n",
       " (29, 'FIRE_SIZE_CLASS', 'text(1)', 0, None, 0),\n",
       " (30, 'LATITUDE', 'float64', 0, None, 0),\n",
       " (31, 'LONGITUDE', 'float64', 0, None, 0),\n",
       " (32, 'OWNER_CODE', 'float64', 0, None, 0),\n",
       " (33, 'OWNER_DESCR', 'text(100)', 0, None, 0),\n",
       " (34, 'STATE', 'text(255)', 0, None, 0),\n",
       " (35, 'COUNTY', 'text(255)', 0, None, 0),\n",
       " (36, 'FIPS_CODE', 'text(255)', 0, None, 0),\n",
       " (37, 'FIPS_NAME', 'text(255)', 0, None, 0),\n",
       " (38, 'Shape', 'POINT', 1, None, 0)]"
      ]
     },
     "execution_count": 9,
     "metadata": {},
     "output_type": "execute_result"
    }
   ],
   "source": [
    "fires_cur.execute('PRAGMA table_info(Fires)').fetchall()"
   ]
  },
  {
   "cell_type": "markdown",
   "metadata": {},
   "source": [
    "### Import the data into a DataFrame"
   ]
  },
  {
   "cell_type": "code",
   "execution_count": 10,
   "metadata": {},
   "outputs": [
    {
     "data": {
      "text/html": [
       "<div>\n",
       "<style scoped>\n",
       "    .dataframe tbody tr th:only-of-type {\n",
       "        vertical-align: middle;\n",
       "    }\n",
       "\n",
       "    .dataframe tbody tr th {\n",
       "        vertical-align: top;\n",
       "    }\n",
       "\n",
       "    .dataframe thead th {\n",
       "        text-align: right;\n",
       "    }\n",
       "</style>\n",
       "<table border=\"1\" class=\"dataframe\">\n",
       "  <thead>\n",
       "    <tr style=\"text-align: right;\">\n",
       "      <th></th>\n",
       "      <th>FIRE_NAME</th>\n",
       "      <th>FIRE_SIZE</th>\n",
       "      <th>STATE</th>\n",
       "      <th>LATITUDE</th>\n",
       "      <th>LONGITUDE</th>\n",
       "      <th>FIRE_YEAR</th>\n",
       "      <th>discovery_date</th>\n",
       "      <th>contain_date</th>\n",
       "    </tr>\n",
       "  </thead>\n",
       "  <tbody>\n",
       "    <tr>\n",
       "      <th>0</th>\n",
       "      <td>FOUNTAIN</td>\n",
       "      <td>0.10</td>\n",
       "      <td>CA</td>\n",
       "      <td>40.036944</td>\n",
       "      <td>-121.005833</td>\n",
       "      <td>2005</td>\n",
       "      <td>2005-02-02 00:00:00</td>\n",
       "      <td>2005-02-02 00:00:00</td>\n",
       "    </tr>\n",
       "    <tr>\n",
       "      <th>1</th>\n",
       "      <td>PIGEON</td>\n",
       "      <td>0.25</td>\n",
       "      <td>CA</td>\n",
       "      <td>38.933056</td>\n",
       "      <td>-120.404444</td>\n",
       "      <td>2004</td>\n",
       "      <td>2004-05-12 00:00:00</td>\n",
       "      <td>2004-05-12 00:00:00</td>\n",
       "    </tr>\n",
       "    <tr>\n",
       "      <th>2</th>\n",
       "      <td>SLACK</td>\n",
       "      <td>0.10</td>\n",
       "      <td>CA</td>\n",
       "      <td>38.984167</td>\n",
       "      <td>-120.735556</td>\n",
       "      <td>2004</td>\n",
       "      <td>2004-05-31 00:00:00</td>\n",
       "      <td>2004-05-31 00:00:00</td>\n",
       "    </tr>\n",
       "  </tbody>\n",
       "</table>\n",
       "</div>"
      ],
      "text/plain": [
       "  FIRE_NAME  FIRE_SIZE STATE   LATITUDE   LONGITUDE  FIRE_YEAR  \\\n",
       "0  FOUNTAIN       0.10    CA  40.036944 -121.005833       2005   \n",
       "1    PIGEON       0.25    CA  38.933056 -120.404444       2004   \n",
       "2     SLACK       0.10    CA  38.984167 -120.735556       2004   \n",
       "\n",
       "        discovery_date         contain_date  \n",
       "0  2005-02-02 00:00:00  2005-02-02 00:00:00  \n",
       "1  2004-05-12 00:00:00  2004-05-12 00:00:00  \n",
       "2  2004-05-31 00:00:00  2004-05-31 00:00:00  "
      ]
     },
     "execution_count": 10,
     "metadata": {},
     "output_type": "execute_result"
    }
   ],
   "source": [
    "# NOTE: This may take a long time to run\n",
    "fires_sql = \"\"\"\n",
    "            SELECT fire_name, fire_size,\n",
    "                state, latitude, longitude,\n",
    "                fire_year, \n",
    "                DATETIME(discovery_date) AS discovery_date,\n",
    "                DATETIME(cont_date) AS contain_date\n",
    "            FROM Fires\n",
    "            \"\"\"\n",
    "fires = pd.read_sql_query(fires_sql, fires_con)\n",
    "fires.head(3)"
   ]
  },
  {
   "cell_type": "markdown",
   "metadata": {},
   "source": [
    "### Save and retrieve DataFrame"
   ]
  },
  {
   "cell_type": "code",
   "execution_count": 11,
   "metadata": {},
   "outputs": [],
   "source": [
    "fires.to_pickle('fires_raw.pkl')"
   ]
  },
  {
   "cell_type": "code",
   "execution_count": 12,
   "metadata": {},
   "outputs": [
    {
     "name": "stdout",
     "output_type": "stream",
     "text": [
      "CPU times: total: 312 ms\n",
      "Wall time: 323 ms\n"
     ]
    }
   ],
   "source": [
    "%time fires = pd.read_pickle('fires_raw.pkl')"
   ]
  },
  {
   "cell_type": "markdown",
   "metadata": {},
   "source": [
    "## Clean the data"
   ]
  },
  {
   "cell_type": "markdown",
   "metadata": {},
   "source": [
    "### Examine data"
   ]
  },
  {
   "cell_type": "code",
   "execution_count": 13,
   "metadata": {},
   "outputs": [
    {
     "name": "stdout",
     "output_type": "stream",
     "text": [
      "<class 'pandas.core.frame.DataFrame'>\n",
      "RangeIndex: 1880465 entries, 0 to 1880464\n",
      "Data columns (total 8 columns):\n",
      " #   Column          Non-Null Count    Dtype  \n",
      "---  ------          --------------    -----  \n",
      " 0   FIRE_NAME       923276 non-null   object \n",
      " 1   FIRE_SIZE       1880465 non-null  float64\n",
      " 2   STATE           1880465 non-null  object \n",
      " 3   LATITUDE        1880465 non-null  float64\n",
      " 4   LONGITUDE       1880465 non-null  float64\n",
      " 5   FIRE_YEAR       1880465 non-null  int64  \n",
      " 6   discovery_date  1880465 non-null  object \n",
      " 7   contain_date    988934 non-null   object \n",
      "dtypes: float64(3), int64(1), object(4)\n",
      "memory usage: 430.5 MB\n"
     ]
    }
   ],
   "source": [
    "fires.info(show_counts=True, memory_usage='deep')"
   ]
  },
  {
   "cell_type": "code",
   "execution_count": 14,
   "metadata": {},
   "outputs": [
    {
     "data": {
      "text/html": [
       "<div>\n",
       "<style scoped>\n",
       "    .dataframe tbody tr th:only-of-type {\n",
       "        vertical-align: middle;\n",
       "    }\n",
       "\n",
       "    .dataframe tbody tr th {\n",
       "        vertical-align: top;\n",
       "    }\n",
       "\n",
       "    .dataframe thead th {\n",
       "        text-align: right;\n",
       "    }\n",
       "</style>\n",
       "<table border=\"1\" class=\"dataframe\">\n",
       "  <thead>\n",
       "    <tr style=\"text-align: right;\">\n",
       "      <th></th>\n",
       "      <th>count</th>\n",
       "      <th>mean</th>\n",
       "      <th>std</th>\n",
       "      <th>min</th>\n",
       "      <th>25%</th>\n",
       "      <th>50%</th>\n",
       "      <th>75%</th>\n",
       "      <th>max</th>\n",
       "    </tr>\n",
       "  </thead>\n",
       "  <tbody>\n",
       "    <tr>\n",
       "      <th>FIRE_SIZE</th>\n",
       "      <td>1880465.0</td>\n",
       "      <td>74.520158</td>\n",
       "      <td>2497.598180</td>\n",
       "      <td>0.000010</td>\n",
       "      <td>0.10000</td>\n",
       "      <td>1.000000</td>\n",
       "      <td>3.3000</td>\n",
       "      <td>606945.000000</td>\n",
       "    </tr>\n",
       "    <tr>\n",
       "      <th>LATITUDE</th>\n",
       "      <td>1880465.0</td>\n",
       "      <td>36.781213</td>\n",
       "      <td>6.139031</td>\n",
       "      <td>17.939722</td>\n",
       "      <td>32.81860</td>\n",
       "      <td>35.452500</td>\n",
       "      <td>40.8272</td>\n",
       "      <td>70.330600</td>\n",
       "    </tr>\n",
       "    <tr>\n",
       "      <th>LONGITUDE</th>\n",
       "      <td>1880465.0</td>\n",
       "      <td>-95.704942</td>\n",
       "      <td>16.716944</td>\n",
       "      <td>-178.802600</td>\n",
       "      <td>-110.36347</td>\n",
       "      <td>-92.043043</td>\n",
       "      <td>-82.2976</td>\n",
       "      <td>-65.256944</td>\n",
       "    </tr>\n",
       "    <tr>\n",
       "      <th>FIRE_YEAR</th>\n",
       "      <td>1880465.0</td>\n",
       "      <td>2003.709974</td>\n",
       "      <td>6.663099</td>\n",
       "      <td>1992.000000</td>\n",
       "      <td>1998.00000</td>\n",
       "      <td>2004.000000</td>\n",
       "      <td>2009.0000</td>\n",
       "      <td>2015.000000</td>\n",
       "    </tr>\n",
       "  </tbody>\n",
       "</table>\n",
       "</div>"
      ],
      "text/plain": [
       "               count         mean          std          min         25%  \\\n",
       "FIRE_SIZE  1880465.0    74.520158  2497.598180     0.000010     0.10000   \n",
       "LATITUDE   1880465.0    36.781213     6.139031    17.939722    32.81860   \n",
       "LONGITUDE  1880465.0   -95.704942    16.716944  -178.802600  -110.36347   \n",
       "FIRE_YEAR  1880465.0  2003.709974     6.663099  1992.000000  1998.00000   \n",
       "\n",
       "                   50%        75%            max  \n",
       "FIRE_SIZE     1.000000     3.3000  606945.000000  \n",
       "LATITUDE     35.452500    40.8272      70.330600  \n",
       "LONGITUDE   -92.043043   -82.2976     -65.256944  \n",
       "FIRE_YEAR  2004.000000  2009.0000    2015.000000  "
      ]
     },
     "execution_count": 14,
     "metadata": {},
     "output_type": "execute_result"
    }
   ],
   "source": [
    "fires.describe().T"
   ]
  },
  {
   "cell_type": "markdown",
   "metadata": {},
   "source": [
    "### Improve the readability"
   ]
  },
  {
   "cell_type": "code",
   "execution_count": 15,
   "metadata": {},
   "outputs": [
    {
     "data": {
      "text/html": [
       "<div>\n",
       "<style scoped>\n",
       "    .dataframe tbody tr th:only-of-type {\n",
       "        vertical-align: middle;\n",
       "    }\n",
       "\n",
       "    .dataframe tbody tr th {\n",
       "        vertical-align: top;\n",
       "    }\n",
       "\n",
       "    .dataframe thead th {\n",
       "        text-align: right;\n",
       "    }\n",
       "</style>\n",
       "<table border=\"1\" class=\"dataframe\">\n",
       "  <thead>\n",
       "    <tr style=\"text-align: right;\">\n",
       "      <th></th>\n",
       "      <th>fire_name</th>\n",
       "      <th>fire_size</th>\n",
       "      <th>state</th>\n",
       "      <th>latitude</th>\n",
       "      <th>longitude</th>\n",
       "      <th>fire_year</th>\n",
       "      <th>discovery_date</th>\n",
       "      <th>contain_date</th>\n",
       "    </tr>\n",
       "  </thead>\n",
       "  <tbody>\n",
       "    <tr>\n",
       "      <th>0</th>\n",
       "      <td>FOUNTAIN</td>\n",
       "      <td>0.10</td>\n",
       "      <td>CA</td>\n",
       "      <td>40.036944</td>\n",
       "      <td>-121.005833</td>\n",
       "      <td>2005</td>\n",
       "      <td>2005-02-02 00:00:00</td>\n",
       "      <td>2005-02-02 00:00:00</td>\n",
       "    </tr>\n",
       "    <tr>\n",
       "      <th>1</th>\n",
       "      <td>PIGEON</td>\n",
       "      <td>0.25</td>\n",
       "      <td>CA</td>\n",
       "      <td>38.933056</td>\n",
       "      <td>-120.404444</td>\n",
       "      <td>2004</td>\n",
       "      <td>2004-05-12 00:00:00</td>\n",
       "      <td>2004-05-12 00:00:00</td>\n",
       "    </tr>\n",
       "    <tr>\n",
       "      <th>2</th>\n",
       "      <td>SLACK</td>\n",
       "      <td>0.10</td>\n",
       "      <td>CA</td>\n",
       "      <td>38.984167</td>\n",
       "      <td>-120.735556</td>\n",
       "      <td>2004</td>\n",
       "      <td>2004-05-31 00:00:00</td>\n",
       "      <td>2004-05-31 00:00:00</td>\n",
       "    </tr>\n",
       "  </tbody>\n",
       "</table>\n",
       "</div>"
      ],
      "text/plain": [
       "  fire_name  fire_size state   latitude   longitude  fire_year  \\\n",
       "0  FOUNTAIN       0.10    CA  40.036944 -121.005833       2005   \n",
       "1    PIGEON       0.25    CA  38.933056 -120.404444       2004   \n",
       "2     SLACK       0.10    CA  38.984167 -120.735556       2004   \n",
       "\n",
       "        discovery_date         contain_date  \n",
       "0  2005-02-02 00:00:00  2005-02-02 00:00:00  \n",
       "1  2004-05-12 00:00:00  2004-05-12 00:00:00  \n",
       "2  2004-05-31 00:00:00  2004-05-31 00:00:00  "
      ]
     },
     "execution_count": 15,
     "metadata": {},
     "output_type": "execute_result"
    }
   ],
   "source": [
    "fires.columns = fires.columns.str.lower()\n",
    "fires.head(3)"
   ]
  },
  {
   "cell_type": "code",
   "execution_count": 18,
   "metadata": {},
   "outputs": [
    {
     "data": {
      "text/html": [
       "<div>\n",
       "<style scoped>\n",
       "    .dataframe tbody tr th:only-of-type {\n",
       "        vertical-align: middle;\n",
       "    }\n",
       "\n",
       "    .dataframe tbody tr th {\n",
       "        vertical-align: top;\n",
       "    }\n",
       "\n",
       "    .dataframe thead th {\n",
       "        text-align: right;\n",
       "    }\n",
       "</style>\n",
       "<table border=\"1\" class=\"dataframe\">\n",
       "  <thead>\n",
       "    <tr style=\"text-align: right;\">\n",
       "      <th></th>\n",
       "      <th>fire_name</th>\n",
       "      <th>acres_burned</th>\n",
       "      <th>state</th>\n",
       "      <th>latitude</th>\n",
       "      <th>longitude</th>\n",
       "      <th>fire_year</th>\n",
       "      <th>discovery_date</th>\n",
       "      <th>contain_date</th>\n",
       "    </tr>\n",
       "  </thead>\n",
       "  <tbody>\n",
       "    <tr>\n",
       "      <th>0</th>\n",
       "      <td>Fountain</td>\n",
       "      <td>0.10</td>\n",
       "      <td>CA</td>\n",
       "      <td>40.036944</td>\n",
       "      <td>-121.005833</td>\n",
       "      <td>2005</td>\n",
       "      <td>2005-02-02 00:00:00</td>\n",
       "      <td>2005-02-02 00:00:00</td>\n",
       "    </tr>\n",
       "    <tr>\n",
       "      <th>1</th>\n",
       "      <td>Pigeon</td>\n",
       "      <td>0.25</td>\n",
       "      <td>CA</td>\n",
       "      <td>38.933056</td>\n",
       "      <td>-120.404444</td>\n",
       "      <td>2004</td>\n",
       "      <td>2004-05-12 00:00:00</td>\n",
       "      <td>2004-05-12 00:00:00</td>\n",
       "    </tr>\n",
       "    <tr>\n",
       "      <th>2</th>\n",
       "      <td>Slack</td>\n",
       "      <td>0.10</td>\n",
       "      <td>CA</td>\n",
       "      <td>38.984167</td>\n",
       "      <td>-120.735556</td>\n",
       "      <td>2004</td>\n",
       "      <td>2004-05-31 00:00:00</td>\n",
       "      <td>2004-05-31 00:00:00</td>\n",
       "    </tr>\n",
       "  </tbody>\n",
       "</table>\n",
       "</div>"
      ],
      "text/plain": [
       "  fire_name  acres_burned state   latitude   longitude  fire_year  \\\n",
       "0  Fountain          0.10    CA  40.036944 -121.005833       2005   \n",
       "1    Pigeon          0.25    CA  38.933056 -120.404444       2004   \n",
       "2     Slack          0.10    CA  38.984167 -120.735556       2004   \n",
       "\n",
       "        discovery_date         contain_date  \n",
       "0  2005-02-02 00:00:00  2005-02-02 00:00:00  \n",
       "1  2004-05-12 00:00:00  2004-05-12 00:00:00  \n",
       "2  2004-05-31 00:00:00  2004-05-31 00:00:00  "
      ]
     },
     "execution_count": 18,
     "metadata": {},
     "output_type": "execute_result"
    }
   ],
   "source": [
    "fires = fires.rename(columns={'fire_size':'acres_burned'})\n",
    "fires.head(3)"
   ]
  },
  {
   "cell_type": "code",
   "execution_count": 19,
   "metadata": {},
   "outputs": [
    {
     "data": {
      "text/html": [
       "<div>\n",
       "<style scoped>\n",
       "    .dataframe tbody tr th:only-of-type {\n",
       "        vertical-align: middle;\n",
       "    }\n",
       "\n",
       "    .dataframe tbody tr th {\n",
       "        vertical-align: top;\n",
       "    }\n",
       "\n",
       "    .dataframe thead th {\n",
       "        text-align: right;\n",
       "    }\n",
       "</style>\n",
       "<table border=\"1\" class=\"dataframe\">\n",
       "  <thead>\n",
       "    <tr style=\"text-align: right;\">\n",
       "      <th></th>\n",
       "      <th>fire_name</th>\n",
       "      <th>acres_burned</th>\n",
       "      <th>state</th>\n",
       "      <th>latitude</th>\n",
       "      <th>longitude</th>\n",
       "      <th>fire_year</th>\n",
       "      <th>discovery_date</th>\n",
       "      <th>contain_date</th>\n",
       "    </tr>\n",
       "  </thead>\n",
       "  <tbody>\n",
       "    <tr>\n",
       "      <th>0</th>\n",
       "      <td>Fountain</td>\n",
       "      <td>0.10</td>\n",
       "      <td>CA</td>\n",
       "      <td>40.036944</td>\n",
       "      <td>-121.005833</td>\n",
       "      <td>2005</td>\n",
       "      <td>2005-02-02 00:00:00</td>\n",
       "      <td>2005-02-02 00:00:00</td>\n",
       "    </tr>\n",
       "    <tr>\n",
       "      <th>1</th>\n",
       "      <td>Pigeon</td>\n",
       "      <td>0.25</td>\n",
       "      <td>CA</td>\n",
       "      <td>38.933056</td>\n",
       "      <td>-120.404444</td>\n",
       "      <td>2004</td>\n",
       "      <td>2004-05-12 00:00:00</td>\n",
       "      <td>2004-05-12 00:00:00</td>\n",
       "    </tr>\n",
       "    <tr>\n",
       "      <th>2</th>\n",
       "      <td>Slack</td>\n",
       "      <td>0.10</td>\n",
       "      <td>CA</td>\n",
       "      <td>38.984167</td>\n",
       "      <td>-120.735556</td>\n",
       "      <td>2004</td>\n",
       "      <td>2004-05-31 00:00:00</td>\n",
       "      <td>2004-05-31 00:00:00</td>\n",
       "    </tr>\n",
       "  </tbody>\n",
       "</table>\n",
       "</div>"
      ],
      "text/plain": [
       "  fire_name  acres_burned state   latitude   longitude  fire_year  \\\n",
       "0  Fountain          0.10    CA  40.036944 -121.005833       2005   \n",
       "1    Pigeon          0.25    CA  38.933056 -120.404444       2004   \n",
       "2     Slack          0.10    CA  38.984167 -120.735556       2004   \n",
       "\n",
       "        discovery_date         contain_date  \n",
       "0  2005-02-02 00:00:00  2005-02-02 00:00:00  \n",
       "1  2004-05-12 00:00:00  2004-05-12 00:00:00  \n",
       "2  2004-05-31 00:00:00  2004-05-31 00:00:00  "
      ]
     },
     "execution_count": 19,
     "metadata": {},
     "output_type": "execute_result"
    }
   ],
   "source": [
    "fires.fire_name = fires.fire_name.str.title()\n",
    "fires.head(3)"
   ]
  },
  {
   "cell_type": "markdown",
   "metadata": {},
   "source": [
    "### Drop unnecessary rows"
   ]
  },
  {
   "cell_type": "code",
   "execution_count": 21,
   "metadata": {},
   "outputs": [
    {
     "data": {
      "text/html": [
       "<div>\n",
       "<style scoped>\n",
       "    .dataframe tbody tr th:only-of-type {\n",
       "        vertical-align: middle;\n",
       "    }\n",
       "\n",
       "    .dataframe tbody tr th {\n",
       "        vertical-align: top;\n",
       "    }\n",
       "\n",
       "    .dataframe thead th {\n",
       "        text-align: right;\n",
       "    }\n",
       "</style>\n",
       "<table border=\"1\" class=\"dataframe\">\n",
       "  <thead>\n",
       "    <tr style=\"text-align: right;\">\n",
       "      <th></th>\n",
       "      <th>fire_name</th>\n",
       "      <th>acres_burned</th>\n",
       "      <th>state</th>\n",
       "      <th>latitude</th>\n",
       "      <th>longitude</th>\n",
       "      <th>fire_year</th>\n",
       "      <th>discovery_date</th>\n",
       "      <th>contain_date</th>\n",
       "    </tr>\n",
       "  </thead>\n",
       "  <tbody>\n",
       "    <tr>\n",
       "      <th>16</th>\n",
       "      <td>Power</td>\n",
       "      <td>16823.0</td>\n",
       "      <td>CA</td>\n",
       "      <td>38.523333</td>\n",
       "      <td>-120.211667</td>\n",
       "      <td>2004</td>\n",
       "      <td>2004-10-06 00:00:00</td>\n",
       "      <td>2004-10-21 00:00:00</td>\n",
       "    </tr>\n",
       "    <tr>\n",
       "      <th>17</th>\n",
       "      <td>Freds</td>\n",
       "      <td>7700.0</td>\n",
       "      <td>CA</td>\n",
       "      <td>38.780000</td>\n",
       "      <td>-120.260000</td>\n",
       "      <td>2004</td>\n",
       "      <td>2004-10-13 00:00:00</td>\n",
       "      <td>2004-10-17 00:00:00</td>\n",
       "    </tr>\n",
       "    <tr>\n",
       "      <th>25</th>\n",
       "      <td>Bachelor</td>\n",
       "      <td>10.0</td>\n",
       "      <td>NM</td>\n",
       "      <td>33.315833</td>\n",
       "      <td>-105.512222</td>\n",
       "      <td>2004</td>\n",
       "      <td>2004-07-20 00:00:00</td>\n",
       "      <td>2004-07-20 00:00:00</td>\n",
       "    </tr>\n",
       "  </tbody>\n",
       "</table>\n",
       "</div>"
      ],
      "text/plain": [
       "   fire_name  acres_burned state   latitude   longitude  fire_year  \\\n",
       "16     Power       16823.0    CA  38.523333 -120.211667       2004   \n",
       "17     Freds        7700.0    CA  38.780000 -120.260000       2004   \n",
       "25  Bachelor          10.0    NM  33.315833 -105.512222       2004   \n",
       "\n",
       "         discovery_date         contain_date  \n",
       "16  2004-10-06 00:00:00  2004-10-21 00:00:00  \n",
       "17  2004-10-13 00:00:00  2004-10-17 00:00:00  \n",
       "25  2004-07-20 00:00:00  2004-07-20 00:00:00  "
      ]
     },
     "execution_count": 21,
     "metadata": {},
     "output_type": "execute_result"
    }
   ],
   "source": [
    "fires = fires[fires.acres_burned >= 10]\n",
    "fires.head(3)"
   ]
  },
  {
   "cell_type": "code",
   "execution_count": 22,
   "metadata": {},
   "outputs": [
    {
     "name": "stdout",
     "output_type": "stream",
     "text": [
      "<class 'pandas.core.frame.DataFrame'>\n",
      "Index: 274170 entries, 16 to 1880441\n",
      "Data columns (total 8 columns):\n",
      " #   Column          Non-Null Count   Dtype  \n",
      "---  ------          --------------   -----  \n",
      " 0   fire_name       128667 non-null  object \n",
      " 1   acres_burned    274170 non-null  float64\n",
      " 2   state           274170 non-null  object \n",
      " 3   latitude        274170 non-null  float64\n",
      " 4   longitude       274170 non-null  float64\n",
      " 5   fire_year       274170 non-null  int64  \n",
      " 6   discovery_date  274170 non-null  object \n",
      " 7   contain_date    137377 non-null  object \n",
      "dtypes: float64(3), int64(1), object(4)\n",
      "memory usage: 64.4 MB\n"
     ]
    }
   ],
   "source": [
    "fires.info(show_counts=True, memory_usage='deep')"
   ]
  },
  {
   "cell_type": "markdown",
   "metadata": {},
   "source": [
    "### Drop duplicate rows"
   ]
  },
  {
   "cell_type": "code",
   "execution_count": 23,
   "metadata": {},
   "outputs": [
    {
     "data": {
      "text/html": [
       "<div>\n",
       "<style scoped>\n",
       "    .dataframe tbody tr th:only-of-type {\n",
       "        vertical-align: middle;\n",
       "    }\n",
       "\n",
       "    .dataframe tbody tr th {\n",
       "        vertical-align: top;\n",
       "    }\n",
       "\n",
       "    .dataframe thead th {\n",
       "        text-align: right;\n",
       "    }\n",
       "</style>\n",
       "<table border=\"1\" class=\"dataframe\">\n",
       "  <thead>\n",
       "    <tr style=\"text-align: right;\">\n",
       "      <th></th>\n",
       "      <th>fire_name</th>\n",
       "      <th>acres_burned</th>\n",
       "      <th>state</th>\n",
       "      <th>latitude</th>\n",
       "      <th>longitude</th>\n",
       "      <th>fire_year</th>\n",
       "      <th>discovery_date</th>\n",
       "      <th>contain_date</th>\n",
       "    </tr>\n",
       "  </thead>\n",
       "  <tbody>\n",
       "    <tr>\n",
       "      <th>1350848</th>\n",
       "      <td>None</td>\n",
       "      <td>14.0</td>\n",
       "      <td>NY</td>\n",
       "      <td>42.223532</td>\n",
       "      <td>-73.687350</td>\n",
       "      <td>1997</td>\n",
       "      <td>1997-02-26 00:00:00</td>\n",
       "      <td>None</td>\n",
       "    </tr>\n",
       "    <tr>\n",
       "      <th>1350859</th>\n",
       "      <td>None</td>\n",
       "      <td>14.0</td>\n",
       "      <td>NY</td>\n",
       "      <td>42.223532</td>\n",
       "      <td>-73.687350</td>\n",
       "      <td>1997</td>\n",
       "      <td>1997-02-26 00:00:00</td>\n",
       "      <td>None</td>\n",
       "    </tr>\n",
       "    <tr>\n",
       "      <th>1371586</th>\n",
       "      <td>None</td>\n",
       "      <td>15.0</td>\n",
       "      <td>CT</td>\n",
       "      <td>41.279541</td>\n",
       "      <td>-72.815099</td>\n",
       "      <td>2000</td>\n",
       "      <td>2000-03-06 00:00:00</td>\n",
       "      <td>None</td>\n",
       "    </tr>\n",
       "    <tr>\n",
       "      <th>1371587</th>\n",
       "      <td>None</td>\n",
       "      <td>15.0</td>\n",
       "      <td>CT</td>\n",
       "      <td>41.279541</td>\n",
       "      <td>-72.815099</td>\n",
       "      <td>2000</td>\n",
       "      <td>2000-03-06 00:00:00</td>\n",
       "      <td>None</td>\n",
       "    </tr>\n",
       "    <tr>\n",
       "      <th>1432190</th>\n",
       "      <td>None</td>\n",
       "      <td>30.0</td>\n",
       "      <td>AL</td>\n",
       "      <td>32.640810</td>\n",
       "      <td>-86.837740</td>\n",
       "      <td>1995</td>\n",
       "      <td>1995-07-20 00:00:00</td>\n",
       "      <td>None</td>\n",
       "    </tr>\n",
       "    <tr>\n",
       "      <th>...</th>\n",
       "      <td>...</td>\n",
       "      <td>...</td>\n",
       "      <td>...</td>\n",
       "      <td>...</td>\n",
       "      <td>...</td>\n",
       "      <td>...</td>\n",
       "      <td>...</td>\n",
       "      <td>...</td>\n",
       "    </tr>\n",
       "    <tr>\n",
       "      <th>1721251</th>\n",
       "      <td>None</td>\n",
       "      <td>10.0</td>\n",
       "      <td>PR</td>\n",
       "      <td>18.057226</td>\n",
       "      <td>-66.406883</td>\n",
       "      <td>2011</td>\n",
       "      <td>2011-04-01 00:00:00</td>\n",
       "      <td>None</td>\n",
       "    </tr>\n",
       "    <tr>\n",
       "      <th>1843668</th>\n",
       "      <td>None</td>\n",
       "      <td>12.0</td>\n",
       "      <td>MA</td>\n",
       "      <td>42.201056</td>\n",
       "      <td>-72.640495</td>\n",
       "      <td>2015</td>\n",
       "      <td>2015-05-15 00:00:00</td>\n",
       "      <td>2015-05-15 00:00:00</td>\n",
       "    </tr>\n",
       "    <tr>\n",
       "      <th>1843669</th>\n",
       "      <td>None</td>\n",
       "      <td>12.0</td>\n",
       "      <td>MA</td>\n",
       "      <td>42.201056</td>\n",
       "      <td>-72.640495</td>\n",
       "      <td>2015</td>\n",
       "      <td>2015-05-15 00:00:00</td>\n",
       "      <td>2015-05-15 00:00:00</td>\n",
       "    </tr>\n",
       "    <tr>\n",
       "      <th>1861585</th>\n",
       "      <td>None</td>\n",
       "      <td>10.0</td>\n",
       "      <td>HI</td>\n",
       "      <td>21.497620</td>\n",
       "      <td>-158.187042</td>\n",
       "      <td>1992</td>\n",
       "      <td>1992-09-07 00:00:00</td>\n",
       "      <td>None</td>\n",
       "    </tr>\n",
       "    <tr>\n",
       "      <th>1861588</th>\n",
       "      <td>None</td>\n",
       "      <td>10.0</td>\n",
       "      <td>HI</td>\n",
       "      <td>21.497620</td>\n",
       "      <td>-158.187042</td>\n",
       "      <td>1992</td>\n",
       "      <td>1992-09-07 00:00:00</td>\n",
       "      <td>None</td>\n",
       "    </tr>\n",
       "  </tbody>\n",
       "</table>\n",
       "<p>94 rows × 8 columns</p>\n",
       "</div>"
      ],
      "text/plain": [
       "        fire_name  acres_burned state   latitude   longitude  fire_year  \\\n",
       "1350848      None          14.0    NY  42.223532  -73.687350       1997   \n",
       "1350859      None          14.0    NY  42.223532  -73.687350       1997   \n",
       "1371586      None          15.0    CT  41.279541  -72.815099       2000   \n",
       "1371587      None          15.0    CT  41.279541  -72.815099       2000   \n",
       "1432190      None          30.0    AL  32.640810  -86.837740       1995   \n",
       "...           ...           ...   ...        ...         ...        ...   \n",
       "1721251      None          10.0    PR  18.057226  -66.406883       2011   \n",
       "1843668      None          12.0    MA  42.201056  -72.640495       2015   \n",
       "1843669      None          12.0    MA  42.201056  -72.640495       2015   \n",
       "1861585      None          10.0    HI  21.497620 -158.187042       1992   \n",
       "1861588      None          10.0    HI  21.497620 -158.187042       1992   \n",
       "\n",
       "              discovery_date         contain_date  \n",
       "1350848  1997-02-26 00:00:00                 None  \n",
       "1350859  1997-02-26 00:00:00                 None  \n",
       "1371586  2000-03-06 00:00:00                 None  \n",
       "1371587  2000-03-06 00:00:00                 None  \n",
       "1432190  1995-07-20 00:00:00                 None  \n",
       "...                      ...                  ...  \n",
       "1721251  2011-04-01 00:00:00                 None  \n",
       "1843668  2015-05-15 00:00:00  2015-05-15 00:00:00  \n",
       "1843669  2015-05-15 00:00:00  2015-05-15 00:00:00  \n",
       "1861585  1992-09-07 00:00:00                 None  \n",
       "1861588  1992-09-07 00:00:00                 None  \n",
       "\n",
       "[94 rows x 8 columns]"
      ]
     },
     "execution_count": 23,
     "metadata": {},
     "output_type": "execute_result"
    }
   ],
   "source": [
    "fires[fires.duplicated(keep=False)]"
   ]
  },
  {
   "cell_type": "code",
   "execution_count": 24,
   "metadata": {},
   "outputs": [],
   "source": [
    "fires = fires.drop_duplicates(keep='first')"
   ]
  },
  {
   "cell_type": "code",
   "execution_count": 25,
   "metadata": {},
   "outputs": [
    {
     "name": "stdout",
     "output_type": "stream",
     "text": [
      "<class 'pandas.core.frame.DataFrame'>\n",
      "Index: 274123 entries, 16 to 1880441\n",
      "Data columns (total 8 columns):\n",
      " #   Column          Non-Null Count   Dtype  \n",
      "---  ------          --------------   -----  \n",
      " 0   fire_name       128667 non-null  object \n",
      " 1   acres_burned    274123 non-null  float64\n",
      " 2   state           274123 non-null  object \n",
      " 3   latitude        274123 non-null  float64\n",
      " 4   longitude       274123 non-null  float64\n",
      " 5   fire_year       274123 non-null  int64  \n",
      " 6   discovery_date  274123 non-null  object \n",
      " 7   contain_date    137376 non-null  object \n",
      "dtypes: float64(3), int64(1), object(4)\n",
      "memory usage: 64.3 MB\n"
     ]
    }
   ],
   "source": [
    "fires.info(memory_usage='deep')"
   ]
  },
  {
   "cell_type": "markdown",
   "metadata": {},
   "source": [
    "### Convert dates to datetimes"
   ]
  },
  {
   "cell_type": "code",
   "execution_count": 26,
   "metadata": {},
   "outputs": [],
   "source": [
    "fires.discovery_date = pd.to_datetime(fires.discovery_date)"
   ]
  },
  {
   "cell_type": "code",
   "execution_count": 27,
   "metadata": {},
   "outputs": [],
   "source": [
    "fires.contain_date = pd.to_datetime(fires.contain_date)"
   ]
  },
  {
   "cell_type": "markdown",
   "metadata": {},
   "source": [
    "### Check for missing contain dates"
   ]
  },
  {
   "cell_type": "code",
   "execution_count": 28,
   "metadata": {},
   "outputs": [
    {
     "data": {
      "text/html": [
       "<div>\n",
       "<style scoped>\n",
       "    .dataframe tbody tr th:only-of-type {\n",
       "        vertical-align: middle;\n",
       "    }\n",
       "\n",
       "    .dataframe tbody tr th {\n",
       "        vertical-align: top;\n",
       "    }\n",
       "\n",
       "    .dataframe thead th {\n",
       "        text-align: right;\n",
       "    }\n",
       "</style>\n",
       "<table border=\"1\" class=\"dataframe\">\n",
       "  <thead>\n",
       "    <tr style=\"text-align: right;\">\n",
       "      <th></th>\n",
       "      <th>fire_name</th>\n",
       "      <th>acres_burned</th>\n",
       "      <th>state</th>\n",
       "      <th>latitude</th>\n",
       "      <th>longitude</th>\n",
       "      <th>fire_year</th>\n",
       "      <th>discovery_date</th>\n",
       "      <th>contain_date</th>\n",
       "    </tr>\n",
       "  </thead>\n",
       "  <tbody>\n",
       "    <tr>\n",
       "      <th>1566</th>\n",
       "      <td>Seven Springs</td>\n",
       "      <td>85.00</td>\n",
       "      <td>MO</td>\n",
       "      <td>36.992500</td>\n",
       "      <td>-92.186111</td>\n",
       "      <td>2005</td>\n",
       "      <td>2005-03-17</td>\n",
       "      <td>NaT</td>\n",
       "    </tr>\n",
       "    <tr>\n",
       "      <th>5095</th>\n",
       "      <td>Peppin</td>\n",
       "      <td>64488.00</td>\n",
       "      <td>NM</td>\n",
       "      <td>33.601389</td>\n",
       "      <td>-105.433333</td>\n",
       "      <td>2004</td>\n",
       "      <td>2004-05-15</td>\n",
       "      <td>NaT</td>\n",
       "    </tr>\n",
       "    <tr>\n",
       "      <th>5740</th>\n",
       "      <td>Rochelle Hills</td>\n",
       "      <td>230.00</td>\n",
       "      <td>WY</td>\n",
       "      <td>43.571667</td>\n",
       "      <td>-105.085833</td>\n",
       "      <td>2005</td>\n",
       "      <td>2005-08-26</td>\n",
       "      <td>NaT</td>\n",
       "    </tr>\n",
       "    <tr>\n",
       "      <th>8187</th>\n",
       "      <td>Knife</td>\n",
       "      <td>560.00</td>\n",
       "      <td>AZ</td>\n",
       "      <td>35.132778</td>\n",
       "      <td>-111.399444</td>\n",
       "      <td>2006</td>\n",
       "      <td>2006-05-27</td>\n",
       "      <td>NaT</td>\n",
       "    </tr>\n",
       "    <tr>\n",
       "      <th>10883</th>\n",
       "      <td>Grant</td>\n",
       "      <td>190.00</td>\n",
       "      <td>AZ</td>\n",
       "      <td>33.626111</td>\n",
       "      <td>-109.248889</td>\n",
       "      <td>2006</td>\n",
       "      <td>2006-07-19</td>\n",
       "      <td>NaT</td>\n",
       "    </tr>\n",
       "    <tr>\n",
       "      <th>...</th>\n",
       "      <td>...</td>\n",
       "      <td>...</td>\n",
       "      <td>...</td>\n",
       "      <td>...</td>\n",
       "      <td>...</td>\n",
       "      <td>...</td>\n",
       "      <td>...</td>\n",
       "      <td>...</td>\n",
       "    </tr>\n",
       "    <tr>\n",
       "      <th>1880206</th>\n",
       "      <td>Ranchita</td>\n",
       "      <td>24.20</td>\n",
       "      <td>CA</td>\n",
       "      <td>35.805000</td>\n",
       "      <td>-120.575000</td>\n",
       "      <td>2010</td>\n",
       "      <td>2010-06-21</td>\n",
       "      <td>NaT</td>\n",
       "    </tr>\n",
       "    <tr>\n",
       "      <th>1880316</th>\n",
       "      <td>None</td>\n",
       "      <td>24.74</td>\n",
       "      <td>CA</td>\n",
       "      <td>35.271667</td>\n",
       "      <td>-118.617967</td>\n",
       "      <td>2013</td>\n",
       "      <td>2013-05-25</td>\n",
       "      <td>NaT</td>\n",
       "    </tr>\n",
       "    <tr>\n",
       "      <th>1880352</th>\n",
       "      <td>San Marcos</td>\n",
       "      <td>70.00</td>\n",
       "      <td>CA</td>\n",
       "      <td>38.020433</td>\n",
       "      <td>-121.982883</td>\n",
       "      <td>2010</td>\n",
       "      <td>2010-08-23</td>\n",
       "      <td>NaT</td>\n",
       "    </tr>\n",
       "    <tr>\n",
       "      <th>1880419</th>\n",
       "      <td>Slaughterhouse</td>\n",
       "      <td>50.00</td>\n",
       "      <td>CA</td>\n",
       "      <td>32.906591</td>\n",
       "      <td>-116.942448</td>\n",
       "      <td>2010</td>\n",
       "      <td>2010-05-29</td>\n",
       "      <td>NaT</td>\n",
       "    </tr>\n",
       "    <tr>\n",
       "      <th>1880441</th>\n",
       "      <td>None</td>\n",
       "      <td>11.00</td>\n",
       "      <td>CA</td>\n",
       "      <td>34.450000</td>\n",
       "      <td>-118.583333</td>\n",
       "      <td>2015</td>\n",
       "      <td>2015-12-07</td>\n",
       "      <td>NaT</td>\n",
       "    </tr>\n",
       "  </tbody>\n",
       "</table>\n",
       "<p>136747 rows × 8 columns</p>\n",
       "</div>"
      ],
      "text/plain": [
       "              fire_name  acres_burned state   latitude   longitude  fire_year  \\\n",
       "1566      Seven Springs         85.00    MO  36.992500  -92.186111       2005   \n",
       "5095             Peppin      64488.00    NM  33.601389 -105.433333       2004   \n",
       "5740     Rochelle Hills        230.00    WY  43.571667 -105.085833       2005   \n",
       "8187              Knife        560.00    AZ  35.132778 -111.399444       2006   \n",
       "10883             Grant        190.00    AZ  33.626111 -109.248889       2006   \n",
       "...                 ...           ...   ...        ...         ...        ...   \n",
       "1880206        Ranchita         24.20    CA  35.805000 -120.575000       2010   \n",
       "1880316            None         24.74    CA  35.271667 -118.617967       2013   \n",
       "1880352      San Marcos         70.00    CA  38.020433 -121.982883       2010   \n",
       "1880419  Slaughterhouse         50.00    CA  32.906591 -116.942448       2010   \n",
       "1880441            None         11.00    CA  34.450000 -118.583333       2015   \n",
       "\n",
       "        discovery_date contain_date  \n",
       "1566        2005-03-17          NaT  \n",
       "5095        2004-05-15          NaT  \n",
       "5740        2005-08-26          NaT  \n",
       "8187        2006-05-27          NaT  \n",
       "10883       2006-07-19          NaT  \n",
       "...                ...          ...  \n",
       "1880206     2010-06-21          NaT  \n",
       "1880316     2013-05-25          NaT  \n",
       "1880352     2010-08-23          NaT  \n",
       "1880419     2010-05-29          NaT  \n",
       "1880441     2015-12-07          NaT  \n",
       "\n",
       "[136747 rows x 8 columns]"
      ]
     },
     "execution_count": 28,
     "metadata": {},
     "output_type": "execute_result"
    }
   ],
   "source": [
    "fires[fires.contain_date.isnull()]"
   ]
  },
  {
   "cell_type": "code",
   "execution_count": 29,
   "metadata": {},
   "outputs": [
    {
     "data": {
      "text/html": [
       "<div>\n",
       "<style scoped>\n",
       "    .dataframe tbody tr th:only-of-type {\n",
       "        vertical-align: middle;\n",
       "    }\n",
       "\n",
       "    .dataframe tbody tr th {\n",
       "        vertical-align: top;\n",
       "    }\n",
       "\n",
       "    .dataframe thead th {\n",
       "        text-align: right;\n",
       "    }\n",
       "</style>\n",
       "<table border=\"1\" class=\"dataframe\">\n",
       "  <thead>\n",
       "    <tr style=\"text-align: right;\">\n",
       "      <th></th>\n",
       "      <th>fire_name</th>\n",
       "      <th>acres_burned</th>\n",
       "      <th>state</th>\n",
       "      <th>latitude</th>\n",
       "      <th>longitude</th>\n",
       "      <th>fire_year</th>\n",
       "      <th>discovery_date</th>\n",
       "      <th>contain_date</th>\n",
       "    </tr>\n",
       "  </thead>\n",
       "  <tbody>\n",
       "    <tr>\n",
       "      <th>1639394</th>\n",
       "      <td>Silver</td>\n",
       "      <td>234000.0</td>\n",
       "      <td>NM</td>\n",
       "      <td>32.888889</td>\n",
       "      <td>-107.809722</td>\n",
       "      <td>2013</td>\n",
       "      <td>2013-06-07</td>\n",
       "      <td>NaT</td>\n",
       "    </tr>\n",
       "    <tr>\n",
       "      <th>654163</th>\n",
       "      <td>Glass</td>\n",
       "      <td>220000.0</td>\n",
       "      <td>TX</td>\n",
       "      <td>31.742160</td>\n",
       "      <td>-101.043800</td>\n",
       "      <td>2008</td>\n",
       "      <td>2008-02-25</td>\n",
       "      <td>NaT</td>\n",
       "    </tr>\n",
       "    <tr>\n",
       "      <th>377944</th>\n",
       "      <td>Camp Creek</td>\n",
       "      <td>175815.0</td>\n",
       "      <td>AK</td>\n",
       "      <td>64.333340</td>\n",
       "      <td>-145.166700</td>\n",
       "      <td>2004</td>\n",
       "      <td>2004-06-23</td>\n",
       "      <td>NaT</td>\n",
       "    </tr>\n",
       "    <tr>\n",
       "      <th>512403</th>\n",
       "      <td>Pine Ridge Complex</td>\n",
       "      <td>121687.0</td>\n",
       "      <td>MT</td>\n",
       "      <td>45.922800</td>\n",
       "      <td>-107.856100</td>\n",
       "      <td>2006</td>\n",
       "      <td>2006-07-12</td>\n",
       "      <td>NaT</td>\n",
       "    </tr>\n",
       "    <tr>\n",
       "      <th>350860</th>\n",
       "      <td>Moose Lake</td>\n",
       "      <td>117920.0</td>\n",
       "      <td>AK</td>\n",
       "      <td>63.591100</td>\n",
       "      <td>-152.675700</td>\n",
       "      <td>2002</td>\n",
       "      <td>2002-07-17</td>\n",
       "      <td>NaT</td>\n",
       "    </tr>\n",
       "    <tr>\n",
       "      <th>...</th>\n",
       "      <td>...</td>\n",
       "      <td>...</td>\n",
       "      <td>...</td>\n",
       "      <td>...</td>\n",
       "      <td>...</td>\n",
       "      <td>...</td>\n",
       "      <td>...</td>\n",
       "      <td>...</td>\n",
       "    </tr>\n",
       "    <tr>\n",
       "      <th>801533</th>\n",
       "      <td>None</td>\n",
       "      <td>10000.0</td>\n",
       "      <td>KY</td>\n",
       "      <td>37.474200</td>\n",
       "      <td>-82.995600</td>\n",
       "      <td>1999</td>\n",
       "      <td>1999-11-08</td>\n",
       "      <td>NaT</td>\n",
       "    </tr>\n",
       "    <tr>\n",
       "      <th>1552706</th>\n",
       "      <td>Miller Ranch</td>\n",
       "      <td>10000.0</td>\n",
       "      <td>TX</td>\n",
       "      <td>32.626600</td>\n",
       "      <td>-101.680012</td>\n",
       "      <td>2011</td>\n",
       "      <td>2011-03-24</td>\n",
       "      <td>NaT</td>\n",
       "    </tr>\n",
       "    <tr>\n",
       "      <th>1455520</th>\n",
       "      <td>East Fork</td>\n",
       "      <td>10000.0</td>\n",
       "      <td>ID</td>\n",
       "      <td>45.845556</td>\n",
       "      <td>-115.030000</td>\n",
       "      <td>2011</td>\n",
       "      <td>2011-08-10</td>\n",
       "      <td>NaT</td>\n",
       "    </tr>\n",
       "    <tr>\n",
       "      <th>1554826</th>\n",
       "      <td>Loving #1</td>\n",
       "      <td>10000.0</td>\n",
       "      <td>TX</td>\n",
       "      <td>31.875517</td>\n",
       "      <td>-103.655319</td>\n",
       "      <td>2011</td>\n",
       "      <td>2011-05-06</td>\n",
       "      <td>NaT</td>\n",
       "    </tr>\n",
       "    <tr>\n",
       "      <th>381142</th>\n",
       "      <td>South Fork</td>\n",
       "      <td>10000.0</td>\n",
       "      <td>AK</td>\n",
       "      <td>63.270360</td>\n",
       "      <td>-156.100400</td>\n",
       "      <td>2002</td>\n",
       "      <td>2002-07-17</td>\n",
       "      <td>NaT</td>\n",
       "    </tr>\n",
       "  </tbody>\n",
       "</table>\n",
       "<p>274 rows × 8 columns</p>\n",
       "</div>"
      ],
      "text/plain": [
       "                  fire_name  acres_burned state   latitude   longitude  \\\n",
       "1639394              Silver      234000.0    NM  32.888889 -107.809722   \n",
       "654163                Glass      220000.0    TX  31.742160 -101.043800   \n",
       "377944           Camp Creek      175815.0    AK  64.333340 -145.166700   \n",
       "512403   Pine Ridge Complex      121687.0    MT  45.922800 -107.856100   \n",
       "350860           Moose Lake      117920.0    AK  63.591100 -152.675700   \n",
       "...                     ...           ...   ...        ...         ...   \n",
       "801533                 None       10000.0    KY  37.474200  -82.995600   \n",
       "1552706        Miller Ranch       10000.0    TX  32.626600 -101.680012   \n",
       "1455520           East Fork       10000.0    ID  45.845556 -115.030000   \n",
       "1554826           Loving #1       10000.0    TX  31.875517 -103.655319   \n",
       "381142           South Fork       10000.0    AK  63.270360 -156.100400   \n",
       "\n",
       "         fire_year discovery_date contain_date  \n",
       "1639394       2013     2013-06-07          NaT  \n",
       "654163        2008     2008-02-25          NaT  \n",
       "377944        2004     2004-06-23          NaT  \n",
       "512403        2006     2006-07-12          NaT  \n",
       "350860        2002     2002-07-17          NaT  \n",
       "...            ...            ...          ...  \n",
       "801533        1999     1999-11-08          NaT  \n",
       "1552706       2011     2011-03-24          NaT  \n",
       "1455520       2011     2011-08-10          NaT  \n",
       "1554826       2011     2011-05-06          NaT  \n",
       "381142        2002     2002-07-17          NaT  \n",
       "\n",
       "[274 rows x 8 columns]"
      ]
     },
     "execution_count": 29,
     "metadata": {},
     "output_type": "execute_result"
    }
   ],
   "source": [
    "fires.query('contain_date.isnull() & acres_burned >= 10000') \\\n",
    "    .sort_values('acres_burned', ascending=False)"
   ]
  },
  {
   "cell_type": "code",
   "execution_count": 30,
   "metadata": {},
   "outputs": [
    {
     "data": {
      "text/html": [
       "<div>\n",
       "<style scoped>\n",
       "    .dataframe tbody tr th:only-of-type {\n",
       "        vertical-align: middle;\n",
       "    }\n",
       "\n",
       "    .dataframe tbody tr th {\n",
       "        vertical-align: top;\n",
       "    }\n",
       "\n",
       "    .dataframe thead th {\n",
       "        text-align: right;\n",
       "    }\n",
       "</style>\n",
       "<table border=\"1\" class=\"dataframe\">\n",
       "  <thead>\n",
       "    <tr style=\"text-align: right;\">\n",
       "      <th></th>\n",
       "      <th>fire_name</th>\n",
       "      <th>acres_burned</th>\n",
       "      <th>state</th>\n",
       "      <th>latitude</th>\n",
       "      <th>longitude</th>\n",
       "      <th>fire_year</th>\n",
       "      <th>discovery_date</th>\n",
       "      <th>contain_date</th>\n",
       "    </tr>\n",
       "  </thead>\n",
       "  <tbody>\n",
       "    <tr>\n",
       "      <th>211296</th>\n",
       "      <td>Inowak</td>\n",
       "      <td>606945.0</td>\n",
       "      <td>AK</td>\n",
       "      <td>61.982700</td>\n",
       "      <td>-157.085700</td>\n",
       "      <td>1997</td>\n",
       "      <td>1997-06-25</td>\n",
       "      <td>1997-09-09</td>\n",
       "    </tr>\n",
       "    <tr>\n",
       "      <th>1579574</th>\n",
       "      <td>Long Draw</td>\n",
       "      <td>558198.3</td>\n",
       "      <td>OR</td>\n",
       "      <td>42.391894</td>\n",
       "      <td>-117.893687</td>\n",
       "      <td>2012</td>\n",
       "      <td>2012-07-08</td>\n",
       "      <td>2012-07-30</td>\n",
       "    </tr>\n",
       "    <tr>\n",
       "      <th>1459664</th>\n",
       "      <td>Wallow</td>\n",
       "      <td>538049.0</td>\n",
       "      <td>AZ</td>\n",
       "      <td>33.606111</td>\n",
       "      <td>-109.449722</td>\n",
       "      <td>2011</td>\n",
       "      <td>2011-05-29</td>\n",
       "      <td>2011-07-12</td>\n",
       "    </tr>\n",
       "    <tr>\n",
       "      <th>305585</th>\n",
       "      <td>Boundary</td>\n",
       "      <td>537627.0</td>\n",
       "      <td>AK</td>\n",
       "      <td>65.266300</td>\n",
       "      <td>-146.885800</td>\n",
       "      <td>2004</td>\n",
       "      <td>2004-06-13</td>\n",
       "      <td>2004-09-30</td>\n",
       "    </tr>\n",
       "    <tr>\n",
       "      <th>1215267</th>\n",
       "      <td>Minto Flats South</td>\n",
       "      <td>517078.0</td>\n",
       "      <td>AK</td>\n",
       "      <td>64.746700</td>\n",
       "      <td>-149.504700</td>\n",
       "      <td>2009</td>\n",
       "      <td>2009-06-21</td>\n",
       "      <td>2009-09-11</td>\n",
       "    </tr>\n",
       "    <tr>\n",
       "      <th>...</th>\n",
       "      <td>...</td>\n",
       "      <td>...</td>\n",
       "      <td>...</td>\n",
       "      <td>...</td>\n",
       "      <td>...</td>\n",
       "      <td>...</td>\n",
       "      <td>...</td>\n",
       "      <td>...</td>\n",
       "    </tr>\n",
       "    <tr>\n",
       "      <th>1857144</th>\n",
       "      <td>Halls Cemetery Fire</td>\n",
       "      <td>100.0</td>\n",
       "      <td>KY</td>\n",
       "      <td>37.383400</td>\n",
       "      <td>-82.647200</td>\n",
       "      <td>2015</td>\n",
       "      <td>2015-04-02</td>\n",
       "      <td>2015-04-02</td>\n",
       "    </tr>\n",
       "    <tr>\n",
       "      <th>367258</th>\n",
       "      <td>Orville</td>\n",
       "      <td>100.0</td>\n",
       "      <td>ND</td>\n",
       "      <td>45.933300</td>\n",
       "      <td>-97.400000</td>\n",
       "      <td>2003</td>\n",
       "      <td>2003-10-10</td>\n",
       "      <td>2003-10-10</td>\n",
       "    </tr>\n",
       "    <tr>\n",
       "      <th>1524596</th>\n",
       "      <td>Livingston - 104</td>\n",
       "      <td>100.0</td>\n",
       "      <td>TX</td>\n",
       "      <td>31.271633</td>\n",
       "      <td>-94.075983</td>\n",
       "      <td>2011</td>\n",
       "      <td>2011-03-02</td>\n",
       "      <td>2011-03-02</td>\n",
       "    </tr>\n",
       "    <tr>\n",
       "      <th>1524583</th>\n",
       "      <td>School Hill Cemetery Fire</td>\n",
       "      <td>100.0</td>\n",
       "      <td>TX</td>\n",
       "      <td>32.338933</td>\n",
       "      <td>-98.464500</td>\n",
       "      <td>2011</td>\n",
       "      <td>2011-03-02</td>\n",
       "      <td>2011-03-02</td>\n",
       "    </tr>\n",
       "    <tr>\n",
       "      <th>1170588</th>\n",
       "      <td>None</td>\n",
       "      <td>100.0</td>\n",
       "      <td>MS</td>\n",
       "      <td>31.216797</td>\n",
       "      <td>-88.670382</td>\n",
       "      <td>1999</td>\n",
       "      <td>1999-02-14</td>\n",
       "      <td>1999-02-14</td>\n",
       "    </tr>\n",
       "  </tbody>\n",
       "</table>\n",
       "<p>33759 rows × 8 columns</p>\n",
       "</div>"
      ],
      "text/plain": [
       "                         fire_name  acres_burned state   latitude   longitude  \\\n",
       "211296                      Inowak      606945.0    AK  61.982700 -157.085700   \n",
       "1579574                  Long Draw      558198.3    OR  42.391894 -117.893687   \n",
       "1459664                     Wallow      538049.0    AZ  33.606111 -109.449722   \n",
       "305585                    Boundary      537627.0    AK  65.266300 -146.885800   \n",
       "1215267          Minto Flats South      517078.0    AK  64.746700 -149.504700   \n",
       "...                            ...           ...   ...        ...         ...   \n",
       "1857144        Halls Cemetery Fire         100.0    KY  37.383400  -82.647200   \n",
       "367258                     Orville         100.0    ND  45.933300  -97.400000   \n",
       "1524596           Livingston - 104         100.0    TX  31.271633  -94.075983   \n",
       "1524583  School Hill Cemetery Fire         100.0    TX  32.338933  -98.464500   \n",
       "1170588                       None         100.0    MS  31.216797  -88.670382   \n",
       "\n",
       "         fire_year discovery_date contain_date  \n",
       "211296        1997     1997-06-25   1997-09-09  \n",
       "1579574       2012     2012-07-08   2012-07-30  \n",
       "1459664       2011     2011-05-29   2011-07-12  \n",
       "305585        2004     2004-06-13   2004-09-30  \n",
       "1215267       2009     2009-06-21   2009-09-11  \n",
       "...            ...            ...          ...  \n",
       "1857144       2015     2015-04-02   2015-04-02  \n",
       "367258        2003     2003-10-10   2003-10-10  \n",
       "1524596       2011     2011-03-02   2011-03-02  \n",
       "1524583       2011     2011-03-02   2011-03-02  \n",
       "1170588       1999     1999-02-14   1999-02-14  \n",
       "\n",
       "[33759 rows x 8 columns]"
      ]
     },
     "execution_count": 30,
     "metadata": {},
     "output_type": "execute_result"
    }
   ],
   "source": [
    "fires.query('~contain_date.isnull() & acres_burned >= 100') \\\n",
    "    .sort_values('acres_burned', ascending=False)"
   ]
  },
  {
   "cell_type": "markdown",
   "metadata": {},
   "source": [
    "### Save and retrieve DataFrame"
   ]
  },
  {
   "cell_type": "code",
   "execution_count": 31,
   "metadata": {},
   "outputs": [],
   "source": [
    "fires.to_pickle('fires_clean.pkl')"
   ]
  },
  {
   "cell_type": "code",
   "execution_count": 32,
   "metadata": {},
   "outputs": [],
   "source": [
    "fires = pd.read_pickle('fires_clean.pkl')"
   ]
  },
  {
   "cell_type": "markdown",
   "metadata": {},
   "source": [
    "## Prepare data"
   ]
  },
  {
   "cell_type": "code",
   "execution_count": 33,
   "metadata": {},
   "outputs": [],
   "source": [
    "fires['fire_month'] = fires.discovery_date.dt.month"
   ]
  },
  {
   "cell_type": "code",
   "execution_count": 34,
   "metadata": {},
   "outputs": [],
   "source": [
    "fires['days_burning'] = (fires.contain_date - fires.discovery_date).dt.days"
   ]
  },
  {
   "cell_type": "code",
   "execution_count": 38,
   "metadata": {},
   "outputs": [
    {
     "data": {
      "text/plain": [
       "count    137376.000000\n",
       "mean          3.254520\n",
       "std          16.052833\n",
       "min           0.000000\n",
       "25%           0.000000\n",
       "50%           0.000000\n",
       "75%           1.000000\n",
       "max        1881.000000\n",
       "Name: days_burning, dtype: float64"
      ]
     },
     "execution_count": 38,
     "metadata": {},
     "output_type": "execute_result"
    }
   ],
   "source": [
    "fires.days_burning.describe()"
   ]
  },
  {
   "cell_type": "code",
   "execution_count": 39,
   "metadata": {},
   "outputs": [
    {
     "data": {
      "text/html": [
       "<div>\n",
       "<style scoped>\n",
       "    .dataframe tbody tr th:only-of-type {\n",
       "        vertical-align: middle;\n",
       "    }\n",
       "\n",
       "    .dataframe tbody tr th {\n",
       "        vertical-align: top;\n",
       "    }\n",
       "\n",
       "    .dataframe thead th {\n",
       "        text-align: right;\n",
       "    }\n",
       "</style>\n",
       "<table border=\"1\" class=\"dataframe\">\n",
       "  <thead>\n",
       "    <tr style=\"text-align: right;\">\n",
       "      <th></th>\n",
       "      <th>fire_name</th>\n",
       "      <th>acres_burned</th>\n",
       "      <th>discovery_date</th>\n",
       "      <th>contain_date</th>\n",
       "      <th>days_burning</th>\n",
       "    </tr>\n",
       "  </thead>\n",
       "  <tbody>\n",
       "    <tr>\n",
       "      <th>356156</th>\n",
       "      <td>Buenavista</td>\n",
       "      <td>120.0</td>\n",
       "      <td>2000-08-07</td>\n",
       "      <td>2005-10-01</td>\n",
       "      <td>1881.0</td>\n",
       "    </tr>\n",
       "    <tr>\n",
       "      <th>305237</th>\n",
       "      <td>Kiliovilik</td>\n",
       "      <td>100.0</td>\n",
       "      <td>2001-06-11</td>\n",
       "      <td>2004-06-16</td>\n",
       "      <td>1101.0</td>\n",
       "    </tr>\n",
       "    <tr>\n",
       "      <th>357487</th>\n",
       "      <td>Road 09-08 Wf</td>\n",
       "      <td>900.0</td>\n",
       "      <td>2006-03-05</td>\n",
       "      <td>2008-03-09</td>\n",
       "      <td>735.0</td>\n",
       "    </tr>\n",
       "    <tr>\n",
       "      <th>1324066</th>\n",
       "      <td>Jims Branch</td>\n",
       "      <td>158.0</td>\n",
       "      <td>1994-11-05</td>\n",
       "      <td>1996-11-06</td>\n",
       "      <td>732.0</td>\n",
       "    </tr>\n",
       "    <tr>\n",
       "      <th>1227849</th>\n",
       "      <td>30305</td>\n",
       "      <td>250.0</td>\n",
       "      <td>2003-03-25</td>\n",
       "      <td>2005-03-25</td>\n",
       "      <td>731.0</td>\n",
       "    </tr>\n",
       "    <tr>\n",
       "      <th>...</th>\n",
       "      <td>...</td>\n",
       "      <td>...</td>\n",
       "      <td>...</td>\n",
       "      <td>...</td>\n",
       "      <td>...</td>\n",
       "    </tr>\n",
       "    <tr>\n",
       "      <th>1879328</th>\n",
       "      <td>None</td>\n",
       "      <td>149.0</td>\n",
       "      <td>2013-05-28</td>\n",
       "      <td>NaT</td>\n",
       "      <td>NaN</td>\n",
       "    </tr>\n",
       "    <tr>\n",
       "      <th>1879498</th>\n",
       "      <td>Trabing</td>\n",
       "      <td>630.0</td>\n",
       "      <td>2008-06-20</td>\n",
       "      <td>NaT</td>\n",
       "      <td>NaN</td>\n",
       "    </tr>\n",
       "    <tr>\n",
       "      <th>1879564</th>\n",
       "      <td>Forty Nine</td>\n",
       "      <td>311.0</td>\n",
       "      <td>2009-08-30</td>\n",
       "      <td>NaT</td>\n",
       "      <td>NaN</td>\n",
       "    </tr>\n",
       "    <tr>\n",
       "      <th>1879892</th>\n",
       "      <td>Red</td>\n",
       "      <td>134.0</td>\n",
       "      <td>2015-06-21</td>\n",
       "      <td>NaT</td>\n",
       "      <td>NaN</td>\n",
       "    </tr>\n",
       "    <tr>\n",
       "      <th>1879968</th>\n",
       "      <td>Popcorn</td>\n",
       "      <td>3000.0</td>\n",
       "      <td>2008-06-22</td>\n",
       "      <td>NaT</td>\n",
       "      <td>NaN</td>\n",
       "    </tr>\n",
       "  </tbody>\n",
       "</table>\n",
       "<p>54093 rows × 5 columns</p>\n",
       "</div>"
      ],
      "text/plain": [
       "             fire_name  acres_burned discovery_date contain_date  days_burning\n",
       "356156      Buenavista         120.0     2000-08-07   2005-10-01        1881.0\n",
       "305237      Kiliovilik         100.0     2001-06-11   2004-06-16        1101.0\n",
       "357487   Road 09-08 Wf         900.0     2006-03-05   2008-03-09         735.0\n",
       "1324066    Jims Branch         158.0     1994-11-05   1996-11-06         732.0\n",
       "1227849          30305         250.0     2003-03-25   2005-03-25         731.0\n",
       "...                ...           ...            ...          ...           ...\n",
       "1879328           None         149.0     2013-05-28          NaT           NaN\n",
       "1879498        Trabing         630.0     2008-06-20          NaT           NaN\n",
       "1879564     Forty Nine         311.0     2009-08-30          NaT           NaN\n",
       "1879892            Red         134.0     2015-06-21          NaT           NaN\n",
       "1879968        Popcorn        3000.0     2008-06-22          NaT           NaN\n",
       "\n",
       "[54093 rows x 5 columns]"
      ]
     },
     "execution_count": 39,
     "metadata": {},
     "output_type": "execute_result"
    }
   ],
   "source": [
    "cols = ['fire_name','acres_burned','discovery_date','contain_date','days_burning']\n",
    "fires.query('acres_burned >= 100')[cols] \\\n",
    "    .sort_values('days_burning', ascending=False)"
   ]
  },
  {
   "cell_type": "code",
   "execution_count": 40,
   "metadata": {},
   "outputs": [],
   "source": [
    "fires.to_pickle('fires_prepared.pkl')"
   ]
  },
  {
   "cell_type": "code",
   "execution_count": 41,
   "metadata": {},
   "outputs": [],
   "source": [
    "fires = pd.read_pickle('fires_prepared.pkl')"
   ]
  },
  {
   "cell_type": "markdown",
   "metadata": {},
   "source": [
    "## Analyze the data"
   ]
  },
  {
   "cell_type": "markdown",
   "metadata": {},
   "source": [
    "### Analyze the data for California"
   ]
  },
  {
   "cell_type": "code",
   "execution_count": 42,
   "metadata": {},
   "outputs": [
    {
     "data": {
      "text/html": [
       "<div>\n",
       "<style scoped>\n",
       "    .dataframe tbody tr th:only-of-type {\n",
       "        vertical-align: middle;\n",
       "    }\n",
       "\n",
       "    .dataframe tbody tr th {\n",
       "        vertical-align: top;\n",
       "    }\n",
       "\n",
       "    .dataframe thead th {\n",
       "        text-align: right;\n",
       "    }\n",
       "</style>\n",
       "<table border=\"1\" class=\"dataframe\">\n",
       "  <thead>\n",
       "    <tr style=\"text-align: right;\">\n",
       "      <th></th>\n",
       "      <th>count</th>\n",
       "      <th>mean</th>\n",
       "      <th>std</th>\n",
       "      <th>min</th>\n",
       "      <th>25%</th>\n",
       "      <th>50%</th>\n",
       "      <th>75%</th>\n",
       "      <th>max</th>\n",
       "    </tr>\n",
       "  </thead>\n",
       "  <tbody>\n",
       "    <tr>\n",
       "      <th>acres_burned</th>\n",
       "      <td>14299.0</td>\n",
       "      <td>881.934274</td>\n",
       "      <td>7342.398281</td>\n",
       "      <td>10.0</td>\n",
       "      <td>15.0</td>\n",
       "      <td>39.0</td>\n",
       "      <td>135.0</td>\n",
       "      <td>315578.8</td>\n",
       "    </tr>\n",
       "    <tr>\n",
       "      <th>days_burning</th>\n",
       "      <td>6733.0</td>\n",
       "      <td>5.387197</td>\n",
       "      <td>28.591571</td>\n",
       "      <td>0.0</td>\n",
       "      <td>0.0</td>\n",
       "      <td>1.0</td>\n",
       "      <td>3.0</td>\n",
       "      <td>1881.0</td>\n",
       "    </tr>\n",
       "  </tbody>\n",
       "</table>\n",
       "</div>"
      ],
      "text/plain": [
       "                count        mean          std   min   25%   50%    75%  \\\n",
       "acres_burned  14299.0  881.934274  7342.398281  10.0  15.0  39.0  135.0   \n",
       "days_burning   6733.0    5.387197    28.591571   0.0   0.0   1.0    3.0   \n",
       "\n",
       "                   max  \n",
       "acres_burned  315578.8  \n",
       "days_burning    1881.0  "
      ]
     },
     "execution_count": 42,
     "metadata": {},
     "output_type": "execute_result"
    }
   ],
   "source": [
    "fires.query('state == \"CA\"')[['acres_burned','days_burning']].describe().T"
   ]
  },
  {
   "cell_type": "code",
   "execution_count": 43,
   "metadata": {},
   "outputs": [
    {
     "data": {
      "text/plain": [
       "<Axes: title={'center': 'Largest Fire in California by Year'}, xlabel='fire_year', ylabel='acres_burned'>"
      ]
     },
     "execution_count": 43,
     "metadata": {},
     "output_type": "execute_result"
    },
    {
     "data": {
      "image/png": "[encoded data removed]",
      "text/plain": [
       "<Figure size 640x480 with 1 Axes>"
      ]
     },
     "metadata": {},
     "output_type": "display_data"
    }
   ],
   "source": [
    "fires.query('state == \"CA\"') \\\n",
    "    .groupby('fire_year')['acres_burned'].max() \\\n",
    "    .plot.bar(ylabel='acres_burned', \n",
    "              title='Largest Fire in California by Year')"
   ]
  },
  {
   "cell_type": "code",
   "execution_count": 44,
   "metadata": {},
   "outputs": [
    {
     "data": {
      "text/plain": [
       "<Axes: title={'center': 'Mean and Median Fires Sizes in California by Year'}, xlabel='fire_year'>"
      ]
     },
     "execution_count": 44,
     "metadata": {},
     "output_type": "execute_result"
    },
    {
     "data": {
      "image/png": "[encoded data removed]",
      "text/plain": [
       "<Figure size 640x480 with 1 Axes>"
      ]
     },
     "metadata": {},
     "output_type": "display_data"
    }
   ],
   "source": [
    "fires.query('state == \"CA\"') \\\n",
    "    .groupby('fire_year')['acres_burned'].agg(['mean','median']) \\\n",
    "    .plot(title='Mean and Median Fires Sizes in California by Year')"
   ]
  },
  {
   "cell_type": "code",
   "execution_count": 45,
   "metadata": {},
   "outputs": [
    {
     "data": {
      "text/plain": [
       "<Axes: title={'center': 'Number of Fires by Month in California'}, xlabel='fire_month'>"
      ]
     },
     "execution_count": 45,
     "metadata": {},
     "output_type": "execute_result"
    },
    {
     "data": {
      "image/png": "[encoded data removed]",
      "text/plain": [
       "<Figure size 640x480 with 1 Axes>"
      ]
     },
     "metadata": {},
     "output_type": "display_data"
    }
   ],
   "source": [
    "fires.query('state == \"CA\"') \\\n",
    "    .groupby('fire_month').acres_burned.count() \\\n",
    "    .plot.bar(title='Number of Fires by Month in California')"
   ]
  },
  {
   "cell_type": "code",
   "execution_count": 46,
   "metadata": {},
   "outputs": [
    {
     "data": {
      "text/plain": [
       "<seaborn.axisgrid.FacetGrid at 0x22220749be0>"
      ]
     },
     "execution_count": 46,
     "metadata": {},
     "output_type": "execute_result"
    },
    {
     "data": {
      "image/png": "[encoded data removed]",
      "text/plain": [
       "<Figure size 511.111x500 with 1 Axes>"
      ]
     },
     "metadata": {},
     "output_type": "display_data"
    }
   ],
   "source": [
    "sns.catplot(data=fires.query('state == \"CA\" & acres_burned >= 10000'),\n",
    "            kind='box', x='fire_month', y='acres_burned')"
   ]
  },
  {
   "cell_type": "markdown",
   "metadata": {},
   "source": [
    "### Rank the states by total acres burned"
   ]
  },
  {
   "cell_type": "code",
   "execution_count": 48,
   "metadata": {},
   "outputs": [
    {
     "data": {
      "text/html": [
       "<div>\n",
       "<style scoped>\n",
       "    .dataframe tbody tr th:only-of-type {\n",
       "        vertical-align: middle;\n",
       "    }\n",
       "\n",
       "    .dataframe tbody tr th {\n",
       "        vertical-align: top;\n",
       "    }\n",
       "\n",
       "    .dataframe thead th {\n",
       "        text-align: right;\n",
       "    }\n",
       "</style>\n",
       "<table border=\"1\" class=\"dataframe\">\n",
       "  <thead>\n",
       "    <tr style=\"text-align: right;\">\n",
       "      <th></th>\n",
       "      <th>acres_burned</th>\n",
       "    </tr>\n",
       "    <tr>\n",
       "      <th>state</th>\n",
       "      <th></th>\n",
       "    </tr>\n",
       "  </thead>\n",
       "  <tbody>\n",
       "    <tr>\n",
       "      <th>AK</th>\n",
       "      <td>3.222601e+07</td>\n",
       "    </tr>\n",
       "    <tr>\n",
       "      <th>AL</th>\n",
       "      <td>8.101628e+05</td>\n",
       "    </tr>\n",
       "    <tr>\n",
       "      <th>AR</th>\n",
       "      <td>4.502221e+05</td>\n",
       "    </tr>\n",
       "    <tr>\n",
       "      <th>AZ</th>\n",
       "      <td>5.532198e+06</td>\n",
       "    </tr>\n",
       "    <tr>\n",
       "      <th>CA</th>\n",
       "      <td>1.261078e+07</td>\n",
       "    </tr>\n",
       "    <tr>\n",
       "      <th>CO</th>\n",
       "      <td>1.827215e+06</td>\n",
       "    </tr>\n",
       "    <tr>\n",
       "      <th>CT</th>\n",
       "      <td>7.358200e+03</td>\n",
       "    </tr>\n",
       "    <tr>\n",
       "      <th>DE</th>\n",
       "      <td>4.674500e+03</td>\n",
       "    </tr>\n",
       "    <tr>\n",
       "      <th>FL</th>\n",
       "      <td>4.312279e+06</td>\n",
       "    </tr>\n",
       "    <tr>\n",
       "      <th>GA</th>\n",
       "      <td>1.360360e+06</td>\n",
       "    </tr>\n",
       "    <tr>\n",
       "      <th>HI</th>\n",
       "      <td>2.485287e+05</td>\n",
       "    </tr>\n",
       "    <tr>\n",
       "      <th>IA</th>\n",
       "      <td>6.529245e+04</td>\n",
       "    </tr>\n",
       "    <tr>\n",
       "      <th>ID</th>\n",
       "      <td>1.366231e+07</td>\n",
       "    </tr>\n",
       "    <tr>\n",
       "      <th>IL</th>\n",
       "      <td>1.986230e+04</td>\n",
       "    </tr>\n",
       "    <tr>\n",
       "      <th>IN</th>\n",
       "      <td>1.529801e+04</td>\n",
       "    </tr>\n",
       "    <tr>\n",
       "      <th>KS</th>\n",
       "      <td>9.160917e+05</td>\n",
       "    </tr>\n",
       "    <tr>\n",
       "      <th>KY</th>\n",
       "      <td>9.721039e+05</td>\n",
       "    </tr>\n",
       "    <tr>\n",
       "      <th>LA</th>\n",
       "      <td>6.063457e+05</td>\n",
       "    </tr>\n",
       "    <tr>\n",
       "      <th>MA</th>\n",
       "      <td>4.632000e+03</td>\n",
       "    </tr>\n",
       "    <tr>\n",
       "      <th>MD</th>\n",
       "      <td>6.440448e+04</td>\n",
       "    </tr>\n",
       "    <tr>\n",
       "      <th>ME</th>\n",
       "      <td>1.493570e+04</td>\n",
       "    </tr>\n",
       "    <tr>\n",
       "      <th>MI</th>\n",
       "      <td>1.260917e+05</td>\n",
       "    </tr>\n",
       "    <tr>\n",
       "      <th>MN</th>\n",
       "      <td>1.163885e+06</td>\n",
       "    </tr>\n",
       "    <tr>\n",
       "      <th>MO</th>\n",
       "      <td>4.300128e+05</td>\n",
       "    </tr>\n",
       "    <tr>\n",
       "      <th>MS</th>\n",
       "      <td>9.904230e+05</td>\n",
       "    </tr>\n",
       "    <tr>\n",
       "      <th>MT</th>\n",
       "      <td>6.253732e+06</td>\n",
       "    </tr>\n",
       "    <tr>\n",
       "      <th>NC</th>\n",
       "      <td>6.086031e+05</td>\n",
       "    </tr>\n",
       "    <tr>\n",
       "      <th>ND</th>\n",
       "      <td>3.937071e+05</td>\n",
       "    </tr>\n",
       "    <tr>\n",
       "      <th>NE</th>\n",
       "      <td>9.587343e+05</td>\n",
       "    </tr>\n",
       "    <tr>\n",
       "      <th>NH</th>\n",
       "      <td>1.232230e+03</td>\n",
       "    </tr>\n",
       "    <tr>\n",
       "      <th>NJ</th>\n",
       "      <td>1.162821e+05</td>\n",
       "    </tr>\n",
       "    <tr>\n",
       "      <th>NM</th>\n",
       "      <td>6.351078e+06</td>\n",
       "    </tr>\n",
       "    <tr>\n",
       "      <th>NV</th>\n",
       "      <td>9.006310e+06</td>\n",
       "    </tr>\n",
       "    <tr>\n",
       "      <th>NY</th>\n",
       "      <td>4.208940e+04</td>\n",
       "    </tr>\n",
       "    <tr>\n",
       "      <th>OH</th>\n",
       "      <td>1.889545e+04</td>\n",
       "    </tr>\n",
       "    <tr>\n",
       "      <th>OK</th>\n",
       "      <td>3.149021e+06</td>\n",
       "    </tr>\n",
       "    <tr>\n",
       "      <th>OR</th>\n",
       "      <td>8.386307e+06</td>\n",
       "    </tr>\n",
       "    <tr>\n",
       "      <th>PA</th>\n",
       "      <td>4.451585e+04</td>\n",
       "    </tr>\n",
       "    <tr>\n",
       "      <th>PR</th>\n",
       "      <td>1.043322e+05</td>\n",
       "    </tr>\n",
       "    <tr>\n",
       "      <th>RI</th>\n",
       "      <td>1.474500e+02</td>\n",
       "    </tr>\n",
       "    <tr>\n",
       "      <th>SC</th>\n",
       "      <td>4.057168e+05</td>\n",
       "    </tr>\n",
       "    <tr>\n",
       "      <th>SD</th>\n",
       "      <td>1.546152e+06</td>\n",
       "    </tr>\n",
       "    <tr>\n",
       "      <th>TN</th>\n",
       "      <td>4.359221e+05</td>\n",
       "    </tr>\n",
       "    <tr>\n",
       "      <th>TX</th>\n",
       "      <td>9.588463e+06</td>\n",
       "    </tr>\n",
       "    <tr>\n",
       "      <th>UT</th>\n",
       "      <td>4.097653e+06</td>\n",
       "    </tr>\n",
       "    <tr>\n",
       "      <th>VA</th>\n",
       "      <td>3.143203e+05</td>\n",
       "    </tr>\n",
       "    <tr>\n",
       "      <th>VT</th>\n",
       "      <td>9.857000e+02</td>\n",
       "    </tr>\n",
       "    <tr>\n",
       "      <th>WA</th>\n",
       "      <td>4.761197e+06</td>\n",
       "    </tr>\n",
       "    <tr>\n",
       "      <th>WI</th>\n",
       "      <td>6.583283e+04</td>\n",
       "    </tr>\n",
       "    <tr>\n",
       "      <th>WV</th>\n",
       "      <td>5.526963e+05</td>\n",
       "    </tr>\n",
       "    <tr>\n",
       "      <th>WY</th>\n",
       "      <td>2.390159e+06</td>\n",
       "    </tr>\n",
       "  </tbody>\n",
       "</table>\n",
       "</div>"
      ],
      "text/plain": [
       "       acres_burned\n",
       "state              \n",
       "AK     3.222601e+07\n",
       "AL     8.101628e+05\n",
       "AR     4.502221e+05\n",
       "AZ     5.532198e+06\n",
       "CA     1.261078e+07\n",
       "CO     1.827215e+06\n",
       "CT     7.358200e+03\n",
       "DE     4.674500e+03\n",
       "FL     4.312279e+06\n",
       "GA     1.360360e+06\n",
       "HI     2.485287e+05\n",
       "IA     6.529245e+04\n",
       "ID     1.366231e+07\n",
       "IL     1.986230e+04\n",
       "IN     1.529801e+04\n",
       "KS     9.160917e+05\n",
       "KY     9.721039e+05\n",
       "LA     6.063457e+05\n",
       "MA     4.632000e+03\n",
       "MD     6.440448e+04\n",
       "ME     1.493570e+04\n",
       "MI     1.260917e+05\n",
       "MN     1.163885e+06\n",
       "MO     4.300128e+05\n",
       "MS     9.904230e+05\n",
       "MT     6.253732e+06\n",
       "NC     6.086031e+05\n",
       "ND     3.937071e+05\n",
       "NE     9.587343e+05\n",
       "NH     1.232230e+03\n",
       "NJ     1.162821e+05\n",
       "NM     6.351078e+06\n",
       "NV     9.006310e+06\n",
       "NY     4.208940e+04\n",
       "OH     1.889545e+04\n",
       "OK     3.149021e+06\n",
       "OR     8.386307e+06\n",
       "PA     4.451585e+04\n",
       "PR     1.043322e+05\n",
       "RI     1.474500e+02\n",
       "SC     4.057168e+05\n",
       "SD     1.546152e+06\n",
       "TN     4.359221e+05\n",
       "TX     9.588463e+06\n",
       "UT     4.097653e+06\n",
       "VA     3.143203e+05\n",
       "VT     9.857000e+02\n",
       "WA     4.761197e+06\n",
       "WI     6.583283e+04\n",
       "WV     5.526963e+05\n",
       "WY     2.390159e+06"
      ]
     },
     "execution_count": 48,
     "metadata": {},
     "output_type": "execute_result"
    }
   ],
   "source": [
    "fires_states = fires.groupby('state').acres_burned.sum().to_frame()\n",
    "fires_states"
   ]
  },
  {
   "cell_type": "code",
   "execution_count": 49,
   "metadata": {},
   "outputs": [
    {
     "data": {
      "text/html": [
       "<div>\n",
       "<style scoped>\n",
       "    .dataframe tbody tr th:only-of-type {\n",
       "        vertical-align: middle;\n",
       "    }\n",
       "\n",
       "    .dataframe tbody tr th {\n",
       "        vertical-align: top;\n",
       "    }\n",
       "\n",
       "    .dataframe thead th {\n",
       "        text-align: right;\n",
       "    }\n",
       "</style>\n",
       "<table border=\"1\" class=\"dataframe\">\n",
       "  <thead>\n",
       "    <tr style=\"text-align: right;\">\n",
       "      <th></th>\n",
       "      <th>acres_burned</th>\n",
       "      <th>state_rank</th>\n",
       "    </tr>\n",
       "    <tr>\n",
       "      <th>state</th>\n",
       "      <th></th>\n",
       "      <th></th>\n",
       "    </tr>\n",
       "  </thead>\n",
       "  <tbody>\n",
       "    <tr>\n",
       "      <th>AK</th>\n",
       "      <td>3.222601e+07</td>\n",
       "      <td>1.0</td>\n",
       "    </tr>\n",
       "    <tr>\n",
       "      <th>ID</th>\n",
       "      <td>1.366231e+07</td>\n",
       "      <td>2.0</td>\n",
       "    </tr>\n",
       "    <tr>\n",
       "      <th>CA</th>\n",
       "      <td>1.261078e+07</td>\n",
       "      <td>3.0</td>\n",
       "    </tr>\n",
       "    <tr>\n",
       "      <th>TX</th>\n",
       "      <td>9.588463e+06</td>\n",
       "      <td>4.0</td>\n",
       "    </tr>\n",
       "    <tr>\n",
       "      <th>NV</th>\n",
       "      <td>9.006310e+06</td>\n",
       "      <td>5.0</td>\n",
       "    </tr>\n",
       "  </tbody>\n",
       "</table>\n",
       "</div>"
      ],
      "text/plain": [
       "       acres_burned  state_rank\n",
       "state                          \n",
       "AK     3.222601e+07         1.0\n",
       "ID     1.366231e+07         2.0\n",
       "CA     1.261078e+07         3.0\n",
       "TX     9.588463e+06         4.0\n",
       "NV     9.006310e+06         5.0"
      ]
     },
     "execution_count": 49,
     "metadata": {},
     "output_type": "execute_result"
    }
   ],
   "source": [
    "fires_states['state_rank'] = \\\n",
    "    fires_states.acres_burned.rank(ascending=False)\n",
    "fires_states = fires_states.sort_values('state_rank')\n",
    "fires_states.head()"
   ]
  },
  {
   "cell_type": "code",
   "execution_count": 50,
   "metadata": {},
   "outputs": [
    {
     "data": {
      "text/plain": [
       "<Axes: title={'center': 'Total Acres Burned in the Top 10 States'}, xlabel='state', ylabel='ten millions of acres'>"
      ]
     },
     "execution_count": 50,
     "metadata": {},
     "output_type": "execute_result"
    },
    {
     "data": {
      "image/png": "[encoded data removed]",
      "text/plain": [
       "<Figure size 640x480 with 1 Axes>"
      ]
     },
     "metadata": {},
     "output_type": "display_data"
    }
   ],
   "source": [
    "fires_states.query('state_rank <= 10') \\\n",
    "    .plot.bar(y='acres_burned', ylabel='ten millions of acres',\n",
    "              title='Total Acres Burned in the Top 10 States')"
   ]
  },
  {
   "cell_type": "markdown",
   "metadata": {},
   "source": [
    "### Prepare a DataFrame for acres burned by year and state"
   ]
  },
  {
   "cell_type": "code",
   "execution_count": 51,
   "metadata": {},
   "outputs": [
    {
     "data": {
      "text/html": [
       "<div>\n",
       "<style scoped>\n",
       "    .dataframe tbody tr th:only-of-type {\n",
       "        vertical-align: middle;\n",
       "    }\n",
       "\n",
       "    .dataframe tbody tr th {\n",
       "        vertical-align: top;\n",
       "    }\n",
       "\n",
       "    .dataframe thead th {\n",
       "        text-align: right;\n",
       "    }\n",
       "</style>\n",
       "<table border=\"1\" class=\"dataframe\">\n",
       "  <thead>\n",
       "    <tr style=\"text-align: right;\">\n",
       "      <th></th>\n",
       "      <th></th>\n",
       "      <th>acres_burned</th>\n",
       "    </tr>\n",
       "    <tr>\n",
       "      <th>state</th>\n",
       "      <th>fire_year</th>\n",
       "      <th></th>\n",
       "    </tr>\n",
       "  </thead>\n",
       "  <tbody>\n",
       "    <tr>\n",
       "      <th rowspan=\"4\" valign=\"top\">AK</th>\n",
       "      <th>1992</th>\n",
       "      <td>142444.7</td>\n",
       "    </tr>\n",
       "    <tr>\n",
       "      <th>1993</th>\n",
       "      <td>686630.5</td>\n",
       "    </tr>\n",
       "    <tr>\n",
       "      <th>1994</th>\n",
       "      <td>261604.7</td>\n",
       "    </tr>\n",
       "    <tr>\n",
       "      <th>1995</th>\n",
       "      <td>43762.6</td>\n",
       "    </tr>\n",
       "  </tbody>\n",
       "</table>\n",
       "</div>"
      ],
      "text/plain": [
       "                 acres_burned\n",
       "state fire_year              \n",
       "AK    1992           142444.7\n",
       "      1993           686630.5\n",
       "      1994           261604.7\n",
       "      1995            43762.6"
      ]
     },
     "execution_count": 51,
     "metadata": {},
     "output_type": "execute_result"
    }
   ],
   "source": [
    "fires_states_years = \\\n",
    "    fires.groupby(['state','fire_year']).acres_burned.sum().to_frame()\n",
    "fires_states_years.head(4)"
   ]
  },
  {
   "cell_type": "code",
   "execution_count": 52,
   "metadata": {},
   "outputs": [
    {
     "data": {
      "text/html": [
       "<div>\n",
       "<style scoped>\n",
       "    .dataframe tbody tr th:only-of-type {\n",
       "        vertical-align: middle;\n",
       "    }\n",
       "\n",
       "    .dataframe tbody tr th {\n",
       "        vertical-align: top;\n",
       "    }\n",
       "\n",
       "    .dataframe thead th {\n",
       "        text-align: right;\n",
       "    }\n",
       "</style>\n",
       "<table border=\"1\" class=\"dataframe\">\n",
       "  <thead>\n",
       "    <tr style=\"text-align: right;\">\n",
       "      <th></th>\n",
       "      <th></th>\n",
       "      <th>acres_burned_by_year</th>\n",
       "      <th>acres_burned_total</th>\n",
       "      <th>state_rank</th>\n",
       "    </tr>\n",
       "    <tr>\n",
       "      <th>state</th>\n",
       "      <th>fire_year</th>\n",
       "      <th></th>\n",
       "      <th></th>\n",
       "      <th></th>\n",
       "    </tr>\n",
       "  </thead>\n",
       "  <tbody>\n",
       "    <tr>\n",
       "      <th rowspan=\"4\" valign=\"top\">AK</th>\n",
       "      <th>1992</th>\n",
       "      <td>142444.7</td>\n",
       "      <td>3.222601e+07</td>\n",
       "      <td>1.0</td>\n",
       "    </tr>\n",
       "    <tr>\n",
       "      <th>1993</th>\n",
       "      <td>686630.5</td>\n",
       "      <td>3.222601e+07</td>\n",
       "      <td>1.0</td>\n",
       "    </tr>\n",
       "    <tr>\n",
       "      <th>1994</th>\n",
       "      <td>261604.7</td>\n",
       "      <td>3.222601e+07</td>\n",
       "      <td>1.0</td>\n",
       "    </tr>\n",
       "    <tr>\n",
       "      <th>1995</th>\n",
       "      <td>43762.6</td>\n",
       "      <td>3.222601e+07</td>\n",
       "      <td>1.0</td>\n",
       "    </tr>\n",
       "  </tbody>\n",
       "</table>\n",
       "</div>"
      ],
      "text/plain": [
       "                 acres_burned_by_year  acres_burned_total  state_rank\n",
       "state fire_year                                                      \n",
       "AK    1992                   142444.7        3.222601e+07         1.0\n",
       "      1993                   686630.5        3.222601e+07         1.0\n",
       "      1994                   261604.7        3.222601e+07         1.0\n",
       "      1995                    43762.6        3.222601e+07         1.0"
      ]
     },
     "execution_count": 52,
     "metadata": {},
     "output_type": "execute_result"
    }
   ],
   "source": [
    "fires_states_years = fires_states_years.join(fires_states, \n",
    "    lsuffix='_by_year', rsuffix='_total')\n",
    "fires_states_years.head(4)"
   ]
  },
  {
   "cell_type": "code",
   "execution_count": 53,
   "metadata": {},
   "outputs": [
    {
     "data": {
      "text/html": [
       "<div>\n",
       "<style scoped>\n",
       "    .dataframe tbody tr th:only-of-type {\n",
       "        vertical-align: middle;\n",
       "    }\n",
       "\n",
       "    .dataframe tbody tr th {\n",
       "        vertical-align: top;\n",
       "    }\n",
       "\n",
       "    .dataframe thead th {\n",
       "        text-align: right;\n",
       "    }\n",
       "</style>\n",
       "<table border=\"1\" class=\"dataframe\">\n",
       "  <thead>\n",
       "    <tr style=\"text-align: right;\">\n",
       "      <th></th>\n",
       "      <th>state</th>\n",
       "      <th>fire_year</th>\n",
       "      <th>acres_burned_by_year</th>\n",
       "      <th>acres_burned_total</th>\n",
       "      <th>state_rank</th>\n",
       "    </tr>\n",
       "  </thead>\n",
       "  <tbody>\n",
       "    <tr>\n",
       "      <th>0</th>\n",
       "      <td>AK</td>\n",
       "      <td>1992</td>\n",
       "      <td>142444.7</td>\n",
       "      <td>3.222601e+07</td>\n",
       "      <td>1.0</td>\n",
       "    </tr>\n",
       "    <tr>\n",
       "      <th>1</th>\n",
       "      <td>AK</td>\n",
       "      <td>1993</td>\n",
       "      <td>686630.5</td>\n",
       "      <td>3.222601e+07</td>\n",
       "      <td>1.0</td>\n",
       "    </tr>\n",
       "    <tr>\n",
       "      <th>2</th>\n",
       "      <td>AK</td>\n",
       "      <td>1994</td>\n",
       "      <td>261604.7</td>\n",
       "      <td>3.222601e+07</td>\n",
       "      <td>1.0</td>\n",
       "    </tr>\n",
       "    <tr>\n",
       "      <th>3</th>\n",
       "      <td>AK</td>\n",
       "      <td>1995</td>\n",
       "      <td>43762.6</td>\n",
       "      <td>3.222601e+07</td>\n",
       "      <td>1.0</td>\n",
       "    </tr>\n",
       "  </tbody>\n",
       "</table>\n",
       "</div>"
      ],
      "text/plain": [
       "  state  fire_year  acres_burned_by_year  acres_burned_total  state_rank\n",
       "0    AK       1992              142444.7        3.222601e+07         1.0\n",
       "1    AK       1993              686630.5        3.222601e+07         1.0\n",
       "2    AK       1994              261604.7        3.222601e+07         1.0\n",
       "3    AK       1995               43762.6        3.222601e+07         1.0"
      ]
     },
     "execution_count": 53,
     "metadata": {},
     "output_type": "execute_result"
    }
   ],
   "source": [
    "fires_states_top4 = fires_states_years.query('state_rank <= 4')\n",
    "fires_states_top4 = fires_states_top4.reset_index()\n",
    "fires_states_top4.head(4)"
   ]
  },
  {
   "cell_type": "code",
   "execution_count": 54,
   "metadata": {},
   "outputs": [
    {
     "data": {
      "image/png": "[encoded data removed]",
      "text/plain": [
       "<Figure size 1000x1000 with 4 Axes>"
      ]
     },
     "metadata": {},
     "output_type": "display_data"
    }
   ],
   "source": [
    "g = sns.relplot(data=fires_states_top4, kind='line', \n",
    "    x='fire_year', y='acres_burned_by_year', hue='state',\n",
    "    col='state', col_wrap=2, legend=False)\n",
    "\n",
    "g.fig.suptitle('Total Acres Burned by Year in the Top 4 States', y=1.025)\n",
    "for ax in g.axes.flat: \n",
    "    ax.set_xlabel('Fire Year')\n",
    "    ax.set_ylabel('Millions of Acres')"
   ]
  },
  {
   "cell_type": "markdown",
   "metadata": {},
   "source": [
    "## Visualize data"
   ]
  },
  {
   "cell_type": "markdown",
   "metadata": {},
   "source": [
    "### Review the top 20 fires in California"
   ]
  },
  {
   "cell_type": "code",
   "execution_count": 55,
   "metadata": {},
   "outputs": [
    {
     "data": {
      "text/html": [
       "<div>\n",
       "<style scoped>\n",
       "    .dataframe tbody tr th:only-of-type {\n",
       "        vertical-align: middle;\n",
       "    }\n",
       "\n",
       "    .dataframe tbody tr th {\n",
       "        vertical-align: top;\n",
       "    }\n",
       "\n",
       "    .dataframe thead th {\n",
       "        text-align: right;\n",
       "    }\n",
       "</style>\n",
       "<table border=\"1\" class=\"dataframe\">\n",
       "  <thead>\n",
       "    <tr style=\"text-align: right;\">\n",
       "      <th></th>\n",
       "      <th>fire_year</th>\n",
       "      <th>fire_name</th>\n",
       "      <th>acres_burned</th>\n",
       "      <th>days_burning</th>\n",
       "    </tr>\n",
       "  </thead>\n",
       "  <tbody>\n",
       "    <tr>\n",
       "      <th>1572842</th>\n",
       "      <td>2012</td>\n",
       "      <td>Rush</td>\n",
       "      <td>315578.8</td>\n",
       "      <td>71.0</td>\n",
       "    </tr>\n",
       "    <tr>\n",
       "      <th>163770</th>\n",
       "      <td>2003</td>\n",
       "      <td>Cedar</td>\n",
       "      <td>280059.0</td>\n",
       "      <td>10.0</td>\n",
       "    </tr>\n",
       "    <tr>\n",
       "      <th>1641750</th>\n",
       "      <td>2013</td>\n",
       "      <td>Rim</td>\n",
       "      <td>255858.0</td>\n",
       "      <td>68.0</td>\n",
       "    </tr>\n",
       "    <tr>\n",
       "      <th>24834</th>\n",
       "      <td>2007</td>\n",
       "      <td>Zaca</td>\n",
       "      <td>240207.0</td>\n",
       "      <td>60.0</td>\n",
       "    </tr>\n",
       "    <tr>\n",
       "      <th>26363</th>\n",
       "      <td>2007</td>\n",
       "      <td>Witch</td>\n",
       "      <td>197990.0</td>\n",
       "      <td>10.0</td>\n",
       "    </tr>\n",
       "    <tr>\n",
       "      <th>27901</th>\n",
       "      <td>2008</td>\n",
       "      <td>Basin Complex</td>\n",
       "      <td>162818.0</td>\n",
       "      <td>36.0</td>\n",
       "    </tr>\n",
       "    <tr>\n",
       "      <th>14835</th>\n",
       "      <td>2006</td>\n",
       "      <td>Day</td>\n",
       "      <td>162702.0</td>\n",
       "      <td>56.0</td>\n",
       "    </tr>\n",
       "    <tr>\n",
       "      <th>41296</th>\n",
       "      <td>2009</td>\n",
       "      <td>Station</td>\n",
       "      <td>160371.0</td>\n",
       "      <td>27.0</td>\n",
       "    </tr>\n",
       "    <tr>\n",
       "      <th>1793232</th>\n",
       "      <td>2015</td>\n",
       "      <td>Rough</td>\n",
       "      <td>151623.0</td>\n",
       "      <td>98.0</td>\n",
       "    </tr>\n",
       "    <tr>\n",
       "      <th>152416</th>\n",
       "      <td>2002</td>\n",
       "      <td>Mcnally</td>\n",
       "      <td>150696.0</td>\n",
       "      <td>38.0</td>\n",
       "    </tr>\n",
       "  </tbody>\n",
       "</table>\n",
       "</div>"
      ],
      "text/plain": [
       "         fire_year      fire_name  acres_burned  days_burning\n",
       "1572842       2012           Rush      315578.8          71.0\n",
       "163770        2003          Cedar      280059.0          10.0\n",
       "1641750       2013            Rim      255858.0          68.0\n",
       "24834         2007           Zaca      240207.0          60.0\n",
       "26363         2007          Witch      197990.0          10.0\n",
       "27901         2008  Basin Complex      162818.0          36.0\n",
       "14835         2006            Day      162702.0          56.0\n",
       "41296         2009        Station      160371.0          27.0\n",
       "1793232       2015          Rough      151623.0          98.0\n",
       "152416        2002        Mcnally      150696.0          38.0"
      ]
     },
     "execution_count": 55,
     "metadata": {},
     "output_type": "execute_result"
    }
   ],
   "source": [
    "top_fires = fires.query('state == \"CA\"').nlargest(20, columns='acres_burned')\n",
    "top_fires[['fire_year','fire_name','acres_burned','days_burning']].head(10)"
   ]
  },
  {
   "cell_type": "code",
   "execution_count": 56,
   "metadata": {},
   "outputs": [
    {
     "data": {
      "text/plain": [
       "<Axes: title={'center': 'Largest Fires in California by Year'}, xlabel='fire_year'>"
      ]
     },
     "execution_count": 56,
     "metadata": {},
     "output_type": "execute_result"
    },
    {
     "data": {
      "image/png": "[encoded data removed]",
      "text/plain": [
       "<Figure size 640x480 with 1 Axes>"
      ]
     },
     "metadata": {},
     "output_type": "display_data"
    }
   ],
   "source": [
    "top_fires.sort_values('fire_year').plot.bar(x='fire_year', y='acres_burned', title='Largest Fires in California by Year')"
   ]
  },
  {
   "cell_type": "markdown",
   "metadata": {},
   "source": [
    "## Use Geopandas to plot the fires on a California map"
   ]
  },
  {
   "cell_type": "code",
   "execution_count": 58,
   "metadata": {},
   "outputs": [],
   "source": [
    "fires_CA_2015 = fires.query('fire_year == 2015 & state == \"CA\"')"
   ]
  },
  {
   "cell_type": "code",
   "execution_count": 60,
   "metadata": {},
   "outputs": [],
   "source": [
    "import geopandas as geo\n",
    "# Create GeoDataFrame from DataFrame\n",
    "fire_locations = geo.GeoDataFrame(fires_CA_2015, \n",
    "    geometry=geo.points_from_xy(fires_CA_2015.longitude, fires_CA_2015.latitude))"
   ]
  },
  {
   "cell_type": "code",
   "execution_count": 61,
   "metadata": {},
   "outputs": [
    {
     "data": {
      "text/html": [
       "<div>\n",
       "<style scoped>\n",
       "    .dataframe tbody tr th:only-of-type {\n",
       "        vertical-align: middle;\n",
       "    }\n",
       "\n",
       "    .dataframe tbody tr th {\n",
       "        vertical-align: top;\n",
       "    }\n",
       "\n",
       "    .dataframe thead th {\n",
       "        text-align: right;\n",
       "    }\n",
       "</style>\n",
       "<table border=\"1\" class=\"dataframe\">\n",
       "  <thead>\n",
       "    <tr style=\"text-align: right;\">\n",
       "      <th></th>\n",
       "      <th>STATE_NAME</th>\n",
       "      <th>DRAWSEQ</th>\n",
       "      <th>STATE_FIPS</th>\n",
       "      <th>SUB_REGION</th>\n",
       "      <th>STATE_ABBR</th>\n",
       "      <th>geometry</th>\n",
       "    </tr>\n",
       "  </thead>\n",
       "  <tbody>\n",
       "    <tr>\n",
       "      <th>0</th>\n",
       "      <td>Hawaii</td>\n",
       "      <td>1</td>\n",
       "      <td>15</td>\n",
       "      <td>Pacific</td>\n",
       "      <td>HI</td>\n",
       "      <td>MULTIPOLYGON (((-160.0738 22.00418, -160.04971...</td>\n",
       "    </tr>\n",
       "    <tr>\n",
       "      <th>1</th>\n",
       "      <td>Washington</td>\n",
       "      <td>2</td>\n",
       "      <td>53</td>\n",
       "      <td>Pacific</td>\n",
       "      <td>WA</td>\n",
       "      <td>MULTIPOLYGON (((-122.40202 48.22522, -122.4628...</td>\n",
       "    </tr>\n",
       "    <tr>\n",
       "      <th>2</th>\n",
       "      <td>Montana</td>\n",
       "      <td>3</td>\n",
       "      <td>30</td>\n",
       "      <td>Mountain</td>\n",
       "      <td>MT</td>\n",
       "      <td>POLYGON ((-111.47543 44.70216, -111.4808 44.69...</td>\n",
       "    </tr>\n",
       "    <tr>\n",
       "      <th>3</th>\n",
       "      <td>Maine</td>\n",
       "      <td>4</td>\n",
       "      <td>23</td>\n",
       "      <td>New England</td>\n",
       "      <td>ME</td>\n",
       "      <td>MULTIPOLYGON (((-69.77728 44.07415, -69.85993 ...</td>\n",
       "    </tr>\n",
       "    <tr>\n",
       "      <th>4</th>\n",
       "      <td>North Dakota</td>\n",
       "      <td>5</td>\n",
       "      <td>38</td>\n",
       "      <td>West North Central</td>\n",
       "      <td>ND</td>\n",
       "      <td>POLYGON ((-98.73044 45.93827, -99.00683 45.939...</td>\n",
       "    </tr>\n",
       "  </tbody>\n",
       "</table>\n",
       "</div>"
      ],
      "text/plain": [
       "     STATE_NAME  DRAWSEQ STATE_FIPS          SUB_REGION STATE_ABBR  \\\n",
       "0        Hawaii        1         15             Pacific         HI   \n",
       "1    Washington        2         53             Pacific         WA   \n",
       "2       Montana        3         30            Mountain         MT   \n",
       "3         Maine        4         23         New England         ME   \n",
       "4  North Dakota        5         38  West North Central         ND   \n",
       "\n",
       "                                            geometry  \n",
       "0  MULTIPOLYGON (((-160.0738 22.00418, -160.04971...  \n",
       "1  MULTIPOLYGON (((-122.40202 48.22522, -122.4628...  \n",
       "2  POLYGON ((-111.47543 44.70216, -111.4808 44.69...  \n",
       "3  MULTIPOLYGON (((-69.77728 44.07415, -69.85993 ...  \n",
       "4  POLYGON ((-98.73044 45.93827, -99.00683 45.939...  "
      ]
     },
     "execution_count": 61,
     "metadata": {},
     "output_type": "execute_result"
    }
   ],
   "source": [
    "usa = geo.read_file(datafolder / 'Maps/states.shp')\n",
    "usa.head()"
   ]
  },
  {
   "cell_type": "code",
   "execution_count": 68,
   "metadata": {},
   "outputs": [
    {
     "name": "stdout",
     "output_type": "stream",
     "text": [
      "<class 'geopandas.geodataframe.GeoDataFrame'>\n",
      "RangeIndex: 51 entries, 0 to 50\n",
      "Data columns (total 6 columns):\n",
      " #   Column      Non-Null Count  Dtype   \n",
      "---  ------      --------------  -----   \n",
      " 0   STATE_NAME  51 non-null     object  \n",
      " 1   DRAWSEQ     51 non-null     int32   \n",
      " 2   STATE_FIPS  51 non-null     object  \n",
      " 3   SUB_REGION  51 non-null     object  \n",
      " 4   STATE_ABBR  51 non-null     object  \n",
      " 5   geometry    51 non-null     geometry\n",
      "dtypes: geometry(1), int32(1), object(4)\n",
      "memory usage: 2.3+ KB\n"
     ]
    }
   ],
   "source": [
    "usa.info()"
   ]
  },
  {
   "cell_type": "code",
   "execution_count": 62,
   "metadata": {},
   "outputs": [
    {
     "data": {
      "text/plain": [
       "<Axes: >"
      ]
     },
     "execution_count": 62,
     "metadata": {},
     "output_type": "execute_result"
    },
    {
     "data": {
      "image/png": "[encoded data removed]",
      "text/plain": [
       "<Figure size 640x480 with 1 Axes>"
      ]
     },
     "metadata": {},
     "output_type": "display_data"
    }
   ],
   "source": [
    "# The map for CA\n",
    "ca_map = usa[usa.STATE_ABBR == 'CA']\n",
    "ca_map.plot(color='white', edgecolor='black')"
   ]
  },
  {
   "cell_type": "code",
   "execution_count": 63,
   "metadata": {},
   "outputs": [
    {
     "data": {
      "text/plain": [
       "<Axes: >"
      ]
     },
     "execution_count": 63,
     "metadata": {},
     "output_type": "execute_result"
    },
    {
     "data": {
      "image/png": "[encoded data removed]",
      "text/plain": [
       "<Figure size 640x480 with 1 Axes>"
      ]
     },
     "metadata": {},
     "output_type": "display_data"
    }
   ],
   "source": [
    "fire_locations.query('acres_burned > 500').plot(color='red',\n",
    "    ax=ca_map.plot(color='white', edgecolor='black'))"
   ]
  },
  {
   "cell_type": "code",
   "execution_count": 64,
   "metadata": {},
   "outputs": [
    {
     "data": {
      "text/plain": [
       "[Text(0.5, 1.0, 'California fires in 2015 over 500 acres'),\n",
       " Text(135.58933428754722, 0.5, ''),\n",
       " Text(0.5, 23.52222222222222, '')]"
      ]
     },
     "execution_count": 64,
     "metadata": {},
     "output_type": "execute_result"
    },
    {
     "data": {
      "image/png": "[encoded data removed]",
      "text/plain": [
       "<Figure size 640x480 with 1 Axes>"
      ]
     },
     "metadata": {},
     "output_type": "display_data"
    }
   ],
   "source": [
    "ca_map = usa[usa.STATE_ABBR == 'CA']\n",
    "ca_map.plot(color='white', edgecolor='black')\n",
    "ax = sns.scatterplot(data=fires_CA_2015.query('acres_burned > 500'),\n",
    "    x='longitude', y='latitude', size='acres_burned', hue='acres_burned', palette='flare')\n",
    "ax.set(title='California fires in 2015 over 500 acres',\n",
    "       ylabel=None, xlabel=None)"
   ]
  },
  {
   "cell_type": "code",
   "execution_count": 69,
   "metadata": {},
   "outputs": [
    {
     "data": {
      "text/plain": [
       "[Text(0.5, 1.0, 'Continental U.S. fires over 100,000 acres'),\n",
       " Text(219.28628944892753, 0.5, ''),\n",
       " Text(0.5, 25.722222222222214, '')]"
      ]
     },
     "execution_count": 69,
     "metadata": {},
     "output_type": "execute_result"
    },
    {
     "data": {
      "image/png": "[encoded data removed]",
      "text/plain": [
       "<Figure size 1200x500 with 1 Axes>"
      ]
     },
     "metadata": {},
     "output_type": "display_data"
    }
   ],
   "source": [
    "continental_usa = usa.loc[1:49]\n",
    "continental_usa.plot(color='white', edgecolor='red', figsize=(12,5))\n",
    "ax = sns.scatterplot(\n",
    "    data=fires.query('acres_burned > 100_000 & state not in [\"AK\",\"HI\"]'),\n",
    "    x='longitude', y='latitude', size='acres_burned', sizes=(10,100),\n",
    "    hue='acres_burned', palette='flare')\n",
    "\n",
    "ax.set(title='Continental U.S. fires over 100,000 acres', \n",
    "       ylabel=None, xlabel=None)"
   ]
  },
  {
   "cell_type": "code",
   "execution_count": 66,
   "metadata": {},
   "outputs": [],
   "source": [
    "ax.get_figure().savefig('us_fires_map.png')"
   ]
  },
  {
   "cell_type": "code",
   "execution_count": null,
   "metadata": {},
   "outputs": [],
   "source": []
  }
 ],
 "metadata": {
  "kernelspec": {
   "display_name": ".venv",
   "language": "python",
   "name": "python3"
  },
  "language_info": {
   "codemirror_mode": {
    "name": "ipython",
    "version": 3
   },
   "file_extension": ".py",
   "mimetype": "text/x-python",
   "name": "python",
   "nbconvert_exporter": "python",
   "pygments_lexer": "ipython3",
   "version": "3.13.5"
  },
  "nteract": {
   "version": "0.15.0"
  }
 },
 "nbformat": 4,
 "nbformat_minor": 4
}
