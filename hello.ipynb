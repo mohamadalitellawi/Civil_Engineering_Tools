{
 "cells": [
  {
   "cell_type": "markdown",
   "metadata": {},
   "source": [
    "# Typical structure of a Python package\n",
    "\n",
    "* `docs/`\n",
    "* `src/`\n",
    "    * `package_name/`\n",
    "        * `__init__.py`\n",
    "        * `module1.py`\n",
    "        * `module2.py`\n",
    "        * `sub_module/`\n",
    "            * `module3.py`\n",
    "            * `etc...`\n",
    "* `tests/`\n",
    "    * `test_module1.py`\n",
    "    * `test_module2.py`\n",
    "    * `test_module3.py`\n",
    "* `pyproject.toml`\n",
    "* `README.md`\n",
    "* `LICENSE.txt`\n"
   ]
  },
  {
   "cell_type": "markdown",
   "metadata": {},
   "source": [
    "The first step to creating _any_ new project is to create a new conda environment\n",
    "> In the terminal/Anaconda Prompt: `conda create -n package_name python=3.12`\n",
    ">\n",
    "> Activate your environment: `conda activate package_name`\n",
    ">\n",
    "> In your new environment (Anaconda Prompt): `pip install flit`\n",
    ">\n",
    "> `pip install pytest`\n",
    ">\n",
    "> `pip install ipykernel`\n",
    ">\n",
    "> `python -m ipykernel install --user --name package_name`\n",
    ">\n",
    "> Create a GitHub repo, clone it, and move the directory structure into it\n",
    ">\n",
    "> and run `flit init`\n",
    ">\n",
    "> Add a `__version__` and docstring to your `__init__.py` file\n",
    ">\n",
    "> Run `flit install --pth-file`\n",
    ">\n",
    "> `flit build`\n",
    ">\n",
    "> `pip uninstall package-name`\n",
    ">\n",
    "```python\n",
    "import package_name as pn\n",
    "```\n"
   ]
  },
  {
   "cell_type": "markdown",
   "metadata": {},
   "source": [
    "> pip install path/to/file.whl\n",
    ">\n",
    "> or\n",
    ">\n",
    "> pip install git+https://github.com/mohamadalitellawi/Civil_Engineering_Tools.git "
   ]
  },
  {
   "cell_type": "markdown",
   "metadata": {},
   "source": [
    "## python -m pip install --upgrade pip\n",
    "## python -m pip install --upgrade twine\n",
    "## python -m twine upload dist/*\n",
    "\n",
    "\n",
    "## python -m twine upload --repository testpypi dist/*  to upload for test pypi\n",
    "\n",
    "## add requirements.txt file before uploading to streamlit"
   ]
  },
  {
   "cell_type": "code",
   "execution_count": 9,
   "metadata": {},
   "outputs": [],
   "source": [
    "import pandas as pd\n",
    "import numpy as np\n"
   ]
  }
 ],
 "metadata": {
  "kernelspec": {
   "display_name": "pfse",
   "language": "python",
   "name": "python3"
  },
  "language_info": {
   "codemirror_mode": {
    "name": "ipython",
    "version": 3
   },
   "file_extension": ".py",
   "mimetype": "text/x-python",
   "name": "python",
   "nbconvert_exporter": "python",
   "pygments_lexer": "ipython3",
   "version": "3.11.7"
  }
 },
 "nbformat": 4,
 "nbformat_minor": 2
}
