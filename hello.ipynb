{
 "cells": [
  {
   "cell_type": "markdown",
   "metadata": {},
   "source": [
    "# Typical structure of a Python package\n",
    "\n",
    "* `docs/`\n",
    "* `src/`\n",
    "    * `package_name/`\n",
    "        * `__init__.py`\n",
    "        * `module1.py`\n",
    "        * `module2.py`\n",
    "        * `sub_module/`\n",
    "            * `module3.py`\n",
    "            * `etc...`\n",
    "* `tests/`\n",
    "    * `test_module1.py`\n",
    "    * `test_module2.py`\n",
    "    * `test_module3.py`\n",
    "* `pyproject.toml`\n",
    "* `README.md`\n",
    "* `LICENSE.txt`\n"
   ]
  },
  {
   "cell_type": "markdown",
   "metadata": {},
   "source": [
    "The first step to creating _any_ new project is to create a new conda environment\n",
    "> In the terminal/Anaconda Prompt: `conda create -n package_name python=3.12`\n",
    ">\n",
    "> Activate your environment: `conda activate package_name`\n",
    ">\n",
    "> In your new environment (Anaconda Prompt): `pip install flit`\n",
    ">\n",
    "> `pip install pytest`\n",
    ">\n",
    "> `pip install ipykernel`\n",
    ">\n",
    "> `python -m ipykernel install --user --name package_name`\n",
    ">\n",
    "> Create a GitHub repo, clone it, and move the directory structure into it\n",
    ">\n",
    "> and run `flit init`\n",
    ">\n",
    "> Add a `__version__` and docstring to your `__init__.py` file\n",
    ">\n",
    "> Run `flit install --pth-file`\n",
    ">\n",
    "> `flit build`\n",
    ">\n",
    "> `pip uninstall package-name`\n",
    ">\n",
    "```python\n",
    "import package_name as pn\n",
    "```\n"
   ]
  },
  {
   "cell_type": "markdown",
   "metadata": {},
   "source": [
    "> pip install path/to/file.whl\n",
    ">\n",
    "> or\n",
    ">\n",
    "> pip install git+https://github.com/mohamadalitellawi/Civil_Engineering_Tools.git "
   ]
  },
  {
   "cell_type": "code",
   "execution_count": 1,
   "metadata": {},
   "outputs": [],
   "source": [
    "import ceng"
   ]
  },
  {
   "cell_type": "code",
   "execution_count": 2,
   "metadata": {},
   "outputs": [
    {
     "name": "stdout",
     "output_type": "stream",
     "text": [
      "Hello World\n"
     ]
    },
    {
     "data": {
      "text/plain": [
       "'Hello World'"
      ]
     },
     "execution_count": 2,
     "metadata": {},
     "output_type": "execute_result"
    }
   ],
   "source": [
    "ceng.say_hi()"
   ]
  },
  {
   "cell_type": "code",
   "execution_count": 3,
   "metadata": {},
   "outputs": [],
   "source": [
    "import pandas as pd\n",
    "\n"
   ]
  },
  {
   "cell_type": "code",
   "execution_count": null,
   "metadata": {},
   "outputs": [],
   "source": []
  }
 ],
 "metadata": {
  "kernelspec": {
   "display_name": "pfse",
   "language": "python",
   "name": "pfse"
  },
  "language_info": {
   "codemirror_mode": {
    "name": "ipython",
    "version": 3
   },
   "file_extension": ".py",
   "mimetype": "text/x-python",
   "name": "python",
   "nbconvert_exporter": "python",
   "pygments_lexer": "ipython3",
   "version": "3.11.7"
  }
 },
 "nbformat": 4,
 "nbformat_minor": 2
}
